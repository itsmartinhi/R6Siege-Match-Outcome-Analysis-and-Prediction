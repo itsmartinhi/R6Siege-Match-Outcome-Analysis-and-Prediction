{
 "cells": [
  {
   "cell_type": "code",
   "execution_count": 1,
   "metadata": {
    "collapsed": true
   },
   "outputs": [],
   "source": [
    "import sys\n",
    "\n",
    "import pandas as pd\n",
    "import numpy as np\n",
    "from sklearn.naive_bayes import MultinomialNB\n",
    "from sklearn.model_selection import train_test_split\n",
    "from sklearn import preprocessing\n",
    "from tqdm import tqdm"
   ]
  },
  {
   "cell_type": "code",
   "execution_count": 2,
   "outputs": [],
   "source": [
    "df = pd.read_csv(\n",
    "    \"./data/data_reduced.csv\",\n",
    "    usecols={\n",
    "        \"dateid\",\n",
    "        \"platform\",\n",
    "        \"gamemode\",\n",
    "        \"mapname\",\n",
    "        \"matchid\",\n",
    "        \"roundnumber\",\n",
    "        \"objectivelocation\",\n",
    "        \"winrole\",\n",
    "        \"endroundreason\",\n",
    "        \"roundduration\",\n",
    "        \"clearancelevel\",\n",
    "        \"skillrank\",\n",
    "        \"role\",\n",
    "        \"team\",\n",
    "        \"haswon\",\n",
    "        \"operator\",\n",
    "        \"nbkills\",\n",
    "        \"isdead\"\n",
    "    },\n",
    "    dtype={\n",
    "        \"platform\": \"category\",\n",
    "        \"gamemode\": \"category\",\n",
    "        \"mapname\": \"category\",\n",
    "        \"matchid\": \"int64\",\n",
    "        \"roundnumber\": \"int64\",\n",
    "        \"objectivelocation\": \"category\",\n",
    "        \"winrole\": \"category\",\n",
    "        \"endroundreason\": \"category\",\n",
    "        \"roundduration\": \"int64\",\n",
    "        \"clearancelevel\": \"int64\",\n",
    "        \"skillrank\": \"category\",\n",
    "        \"role\": \"category\",\n",
    "        \"team\": \"int64\",\n",
    "        \"haswon\": \"boolean\",\n",
    "        \"operator\": \"category\",\n",
    "        \"nbkills\": \"int64\",\n",
    "        \"isdead\": \"boolean\"\n",
    "    },\n",
    "    parse_dates=[\"dateid\"]\n",
    ")"
   ],
   "metadata": {
    "collapsed": false,
    "pycharm": {
     "name": "#%%\n"
    }
   }
  },
  {
   "cell_type": "markdown",
   "source": [
    "Features:\n",
    "- Map\n",
    "- 5 Attacker Operators\n",
    "- 5 Defender Operators"
   ],
   "metadata": {
    "collapsed": false,
    "pycharm": {
     "name": "#%% md\n"
    }
   }
  },
  {
   "cell_type": "code",
   "execution_count": 3,
   "outputs": [],
   "source": [
    "operator_list = df[\"operator\"].unique().to_list()"
   ],
   "metadata": {
    "collapsed": false,
    "pycharm": {
     "name": "#%%\n"
    }
   }
  },
  {
   "cell_type": "code",
   "execution_count": 4,
   "outputs": [
    {
     "data": {
      "text/plain": "           matchid  roundnumber  playercount\n0           147541            1           10\n1           147541            2            9\n2           147541            3           10\n3           147541            4           10\n4           147541            5           10\n...            ...          ...          ...\n402805  4294898609            5           10\n402806  4294898609            6           10\n402807  4294898609            7           10\n402808  4294898609            8           10\n402809  4294898609            9           10\n\n[402810 rows x 3 columns]",
      "text/html": "<div>\n<style scoped>\n    .dataframe tbody tr th:only-of-type {\n        vertical-align: middle;\n    }\n\n    .dataframe tbody tr th {\n        vertical-align: top;\n    }\n\n    .dataframe thead th {\n        text-align: right;\n    }\n</style>\n<table border=\"1\" class=\"dataframe\">\n  <thead>\n    <tr style=\"text-align: right;\">\n      <th></th>\n      <th>matchid</th>\n      <th>roundnumber</th>\n      <th>playercount</th>\n    </tr>\n  </thead>\n  <tbody>\n    <tr>\n      <th>0</th>\n      <td>147541</td>\n      <td>1</td>\n      <td>10</td>\n    </tr>\n    <tr>\n      <th>1</th>\n      <td>147541</td>\n      <td>2</td>\n      <td>9</td>\n    </tr>\n    <tr>\n      <th>2</th>\n      <td>147541</td>\n      <td>3</td>\n      <td>10</td>\n    </tr>\n    <tr>\n      <th>3</th>\n      <td>147541</td>\n      <td>4</td>\n      <td>10</td>\n    </tr>\n    <tr>\n      <th>4</th>\n      <td>147541</td>\n      <td>5</td>\n      <td>10</td>\n    </tr>\n    <tr>\n      <th>...</th>\n      <td>...</td>\n      <td>...</td>\n      <td>...</td>\n    </tr>\n    <tr>\n      <th>402805</th>\n      <td>4294898609</td>\n      <td>5</td>\n      <td>10</td>\n    </tr>\n    <tr>\n      <th>402806</th>\n      <td>4294898609</td>\n      <td>6</td>\n      <td>10</td>\n    </tr>\n    <tr>\n      <th>402807</th>\n      <td>4294898609</td>\n      <td>7</td>\n      <td>10</td>\n    </tr>\n    <tr>\n      <th>402808</th>\n      <td>4294898609</td>\n      <td>8</td>\n      <td>10</td>\n    </tr>\n    <tr>\n      <th>402809</th>\n      <td>4294898609</td>\n      <td>9</td>\n      <td>10</td>\n    </tr>\n  </tbody>\n</table>\n<p>402810 rows × 3 columns</p>\n</div>"
     },
     "execution_count": 4,
     "metadata": {},
     "output_type": "execute_result"
    }
   ],
   "source": [
    "df_playercount = df.groupby([\"matchid\", \"roundnumber\"])[\"operator\"].count().reset_index(name=\"playercount\")\n",
    "df_playercount"
   ],
   "metadata": {
    "collapsed": false,
    "pycharm": {
     "name": "#%%\n"
    }
   }
  },
  {
   "cell_type": "code",
   "execution_count": 5,
   "outputs": [
    {
     "name": "stdout",
     "output_type": "stream",
     "text": [
      "(3889573, 19)\n"
     ]
    },
    {
     "data": {
      "text/plain": "      dateid platform gamemode      mapname     matchid  roundnumber  \\\n0 2017-02-12       PC     BOMB  BARTLETT_U.  1529883301            6   \n1 2017-02-12       PC     BOMB  BARTLETT_U.  1529883301            6   \n2 2017-02-12       PC     BOMB  BARTLETT_U.  1529883301            6   \n3 2017-02-12       PC     BOMB  BARTLETT_U.  1529883301            6   \n4 2017-02-12       PC     BOMB  BARTLETT_U.  1529883301            6   \n\n           objectivelocation   winrole       endroundreason  roundduration  \\\n0  ROWING_MUSEUM-TROPHY_ROOM  Attacker  DefendersEliminated            246   \n1  ROWING_MUSEUM-TROPHY_ROOM  Attacker  DefendersEliminated            246   \n2  ROWING_MUSEUM-TROPHY_ROOM  Attacker  DefendersEliminated            246   \n3  ROWING_MUSEUM-TROPHY_ROOM  Attacker  DefendersEliminated            246   \n4  ROWING_MUSEUM-TROPHY_ROOM  Attacker  DefendersEliminated            246   \n\n   clearancelevel skillrank      role  team  haswon       operator  nbkills  \\\n0             147  Platinum  Attacker     1    True      JTF2-BUCK        1   \n1              40  Unranked  Defender     0   False      GIGN-ROOK        0   \n2              56  Unranked  Defender     0   False    SWAT-CASTLE        1   \n3             171      Gold  Attacker     1    True     SAT-HIBANA        1   \n4             165  Platinum  Attacker     1    True  G.E.O.-JACKAL        1   \n\n   isdead  playercount  \n0    True           10  \n1    True           10  \n2    True           10  \n3   False           10  \n4   False           10  ",
      "text/html": "<div>\n<style scoped>\n    .dataframe tbody tr th:only-of-type {\n        vertical-align: middle;\n    }\n\n    .dataframe tbody tr th {\n        vertical-align: top;\n    }\n\n    .dataframe thead th {\n        text-align: right;\n    }\n</style>\n<table border=\"1\" class=\"dataframe\">\n  <thead>\n    <tr style=\"text-align: right;\">\n      <th></th>\n      <th>dateid</th>\n      <th>platform</th>\n      <th>gamemode</th>\n      <th>mapname</th>\n      <th>matchid</th>\n      <th>roundnumber</th>\n      <th>objectivelocation</th>\n      <th>winrole</th>\n      <th>endroundreason</th>\n      <th>roundduration</th>\n      <th>clearancelevel</th>\n      <th>skillrank</th>\n      <th>role</th>\n      <th>team</th>\n      <th>haswon</th>\n      <th>operator</th>\n      <th>nbkills</th>\n      <th>isdead</th>\n      <th>playercount</th>\n    </tr>\n  </thead>\n  <tbody>\n    <tr>\n      <th>0</th>\n      <td>2017-02-12</td>\n      <td>PC</td>\n      <td>BOMB</td>\n      <td>BARTLETT_U.</td>\n      <td>1529883301</td>\n      <td>6</td>\n      <td>ROWING_MUSEUM-TROPHY_ROOM</td>\n      <td>Attacker</td>\n      <td>DefendersEliminated</td>\n      <td>246</td>\n      <td>147</td>\n      <td>Platinum</td>\n      <td>Attacker</td>\n      <td>1</td>\n      <td>True</td>\n      <td>JTF2-BUCK</td>\n      <td>1</td>\n      <td>True</td>\n      <td>10</td>\n    </tr>\n    <tr>\n      <th>1</th>\n      <td>2017-02-12</td>\n      <td>PC</td>\n      <td>BOMB</td>\n      <td>BARTLETT_U.</td>\n      <td>1529883301</td>\n      <td>6</td>\n      <td>ROWING_MUSEUM-TROPHY_ROOM</td>\n      <td>Attacker</td>\n      <td>DefendersEliminated</td>\n      <td>246</td>\n      <td>40</td>\n      <td>Unranked</td>\n      <td>Defender</td>\n      <td>0</td>\n      <td>False</td>\n      <td>GIGN-ROOK</td>\n      <td>0</td>\n      <td>True</td>\n      <td>10</td>\n    </tr>\n    <tr>\n      <th>2</th>\n      <td>2017-02-12</td>\n      <td>PC</td>\n      <td>BOMB</td>\n      <td>BARTLETT_U.</td>\n      <td>1529883301</td>\n      <td>6</td>\n      <td>ROWING_MUSEUM-TROPHY_ROOM</td>\n      <td>Attacker</td>\n      <td>DefendersEliminated</td>\n      <td>246</td>\n      <td>56</td>\n      <td>Unranked</td>\n      <td>Defender</td>\n      <td>0</td>\n      <td>False</td>\n      <td>SWAT-CASTLE</td>\n      <td>1</td>\n      <td>True</td>\n      <td>10</td>\n    </tr>\n    <tr>\n      <th>3</th>\n      <td>2017-02-12</td>\n      <td>PC</td>\n      <td>BOMB</td>\n      <td>BARTLETT_U.</td>\n      <td>1529883301</td>\n      <td>6</td>\n      <td>ROWING_MUSEUM-TROPHY_ROOM</td>\n      <td>Attacker</td>\n      <td>DefendersEliminated</td>\n      <td>246</td>\n      <td>171</td>\n      <td>Gold</td>\n      <td>Attacker</td>\n      <td>1</td>\n      <td>True</td>\n      <td>SAT-HIBANA</td>\n      <td>1</td>\n      <td>False</td>\n      <td>10</td>\n    </tr>\n    <tr>\n      <th>4</th>\n      <td>2017-02-12</td>\n      <td>PC</td>\n      <td>BOMB</td>\n      <td>BARTLETT_U.</td>\n      <td>1529883301</td>\n      <td>6</td>\n      <td>ROWING_MUSEUM-TROPHY_ROOM</td>\n      <td>Attacker</td>\n      <td>DefendersEliminated</td>\n      <td>246</td>\n      <td>165</td>\n      <td>Platinum</td>\n      <td>Attacker</td>\n      <td>1</td>\n      <td>True</td>\n      <td>G.E.O.-JACKAL</td>\n      <td>1</td>\n      <td>False</td>\n      <td>10</td>\n    </tr>\n  </tbody>\n</table>\n</div>"
     },
     "execution_count": 5,
     "metadata": {},
     "output_type": "execute_result"
    }
   ],
   "source": [
    "df = pd.merge(left=df, right=df_playercount, on=[\"matchid\", \"roundnumber\"], how=\"inner\")\n",
    "print(df.shape)\n",
    "df.head()"
   ],
   "metadata": {
    "collapsed": false,
    "pycharm": {
     "name": "#%%\n"
    }
   }
  },
  {
   "cell_type": "code",
   "execution_count": 6,
   "outputs": [
    {
     "data": {
      "text/plain": "(2929600, 19)"
     },
     "execution_count": 6,
     "metadata": {},
     "output_type": "execute_result"
    }
   ],
   "source": [
    "df = df.loc[df[\"playercount\"] == 10]\n",
    "df.shape"
   ],
   "metadata": {
    "collapsed": false,
    "pycharm": {
     "name": "#%%\n"
    }
   }
  },
  {
   "cell_type": "markdown",
   "source": [
    "Drop every column that isn't needed anymore"
   ],
   "metadata": {
    "collapsed": false,
    "pycharm": {
     "name": "#%% md\n"
    }
   }
  },
  {
   "cell_type": "code",
   "execution_count": 7,
   "outputs": [
    {
     "data": {
      "text/plain": "       mapname     matchid  roundnumber          objectivelocation   winrole  \\\n0  BARTLETT_U.  1529883301            6  ROWING_MUSEUM-TROPHY_ROOM  Attacker   \n1  BARTLETT_U.  1529883301            6  ROWING_MUSEUM-TROPHY_ROOM  Attacker   \n2  BARTLETT_U.  1529883301            6  ROWING_MUSEUM-TROPHY_ROOM  Attacker   \n3  BARTLETT_U.  1529883301            6  ROWING_MUSEUM-TROPHY_ROOM  Attacker   \n4  BARTLETT_U.  1529883301            6  ROWING_MUSEUM-TROPHY_ROOM  Attacker   \n\n       role       operator  \n0  Attacker      JTF2-BUCK  \n1  Defender      GIGN-ROOK  \n2  Defender    SWAT-CASTLE  \n3  Attacker     SAT-HIBANA  \n4  Attacker  G.E.O.-JACKAL  ",
      "text/html": "<div>\n<style scoped>\n    .dataframe tbody tr th:only-of-type {\n        vertical-align: middle;\n    }\n\n    .dataframe tbody tr th {\n        vertical-align: top;\n    }\n\n    .dataframe thead th {\n        text-align: right;\n    }\n</style>\n<table border=\"1\" class=\"dataframe\">\n  <thead>\n    <tr style=\"text-align: right;\">\n      <th></th>\n      <th>mapname</th>\n      <th>matchid</th>\n      <th>roundnumber</th>\n      <th>objectivelocation</th>\n      <th>winrole</th>\n      <th>role</th>\n      <th>operator</th>\n    </tr>\n  </thead>\n  <tbody>\n    <tr>\n      <th>0</th>\n      <td>BARTLETT_U.</td>\n      <td>1529883301</td>\n      <td>6</td>\n      <td>ROWING_MUSEUM-TROPHY_ROOM</td>\n      <td>Attacker</td>\n      <td>Attacker</td>\n      <td>JTF2-BUCK</td>\n    </tr>\n    <tr>\n      <th>1</th>\n      <td>BARTLETT_U.</td>\n      <td>1529883301</td>\n      <td>6</td>\n      <td>ROWING_MUSEUM-TROPHY_ROOM</td>\n      <td>Attacker</td>\n      <td>Defender</td>\n      <td>GIGN-ROOK</td>\n    </tr>\n    <tr>\n      <th>2</th>\n      <td>BARTLETT_U.</td>\n      <td>1529883301</td>\n      <td>6</td>\n      <td>ROWING_MUSEUM-TROPHY_ROOM</td>\n      <td>Attacker</td>\n      <td>Defender</td>\n      <td>SWAT-CASTLE</td>\n    </tr>\n    <tr>\n      <th>3</th>\n      <td>BARTLETT_U.</td>\n      <td>1529883301</td>\n      <td>6</td>\n      <td>ROWING_MUSEUM-TROPHY_ROOM</td>\n      <td>Attacker</td>\n      <td>Attacker</td>\n      <td>SAT-HIBANA</td>\n    </tr>\n    <tr>\n      <th>4</th>\n      <td>BARTLETT_U.</td>\n      <td>1529883301</td>\n      <td>6</td>\n      <td>ROWING_MUSEUM-TROPHY_ROOM</td>\n      <td>Attacker</td>\n      <td>Attacker</td>\n      <td>G.E.O.-JACKAL</td>\n    </tr>\n  </tbody>\n</table>\n</div>"
     },
     "execution_count": 7,
     "metadata": {},
     "output_type": "execute_result"
    }
   ],
   "source": [
    "df = df.drop(columns=[\"dateid\", \"platform\", \"gamemode\", \"endroundreason\", \"roundduration\", \"clearancelevel\", \"team\", \"haswon\", \"nbkills\", \"isdead\", \"playercount\", \"skillrank\"], errors=\"ignore\")\n",
    "df.head()"
   ],
   "metadata": {
    "collapsed": false,
    "pycharm": {
     "name": "#%%\n"
    }
   }
  },
  {
   "cell_type": "markdown",
   "source": [
    "Calculate the operators per round"
   ],
   "metadata": {
    "collapsed": false,
    "pycharm": {
     "name": "#%% md\n"
    }
   }
  },
  {
   "cell_type": "code",
   "execution_count": 8,
   "outputs": [
    {
     "data": {
      "text/plain": "       mapname     matchid  roundnumber          objectivelocation   winrole  \\\n0  BARTLETT_U.  1529883301            6  ROWING_MUSEUM-TROPHY_ROOM  Attacker   \n1  BARTLETT_U.  1529883301            6  ROWING_MUSEUM-TROPHY_ROOM  Attacker   \n2  BARTLETT_U.  1529883301            6  ROWING_MUSEUM-TROPHY_ROOM  Attacker   \n3  BARTLETT_U.  1529883301            6  ROWING_MUSEUM-TROPHY_ROOM  Attacker   \n4  BARTLETT_U.  1529883301            6  ROWING_MUSEUM-TROPHY_ROOM  Attacker   \n\n       role       operator  OP_JTF2-BUCK  OP_GIGN-ROOK  OP_G.E.O.-MIRA  ...  \\\n0  Attacker      JTF2-BUCK           NaN           NaN             NaN  ...   \n1  Defender      GIGN-ROOK           NaN           NaN             NaN  ...   \n2  Defender    SWAT-CASTLE           NaN           NaN             NaN  ...   \n3  Attacker     SAT-HIBANA           NaN           NaN             NaN  ...   \n4  Attacker  G.E.O.-JACKAL           NaN           NaN             NaN  ...   \n\n   OP_SPETSNAZ-RESERVE  OP_GSG9-BLITZ  OP_BOPE-CAPITAO  OP_SPETSNAZ-KAPKAN  \\\n0                  NaN            NaN              NaN                 NaN   \n1                  NaN            NaN              NaN                 NaN   \n2                  NaN            NaN              NaN                 NaN   \n3                  NaN            NaN              NaN                 NaN   \n4                  NaN            NaN              NaN                 NaN   \n\n   OP_SPETSNAZ-TACHANKA  OP_SAT-ECHO  OP_SAS-RESERVE  OP_GIGN-RESERVE  \\\n0                   NaN          NaN             NaN              NaN   \n1                   NaN          NaN             NaN              NaN   \n2                   NaN          NaN             NaN              NaN   \n3                   NaN          NaN             NaN              NaN   \n4                   NaN          NaN             NaN              NaN   \n\n   OP_GSG9-RESERVE  OP_SWAT-RESERVE  \n0              NaN              NaN  \n1              NaN              NaN  \n2              NaN              NaN  \n3              NaN              NaN  \n4              NaN              NaN  \n\n[5 rows x 42 columns]",
      "text/html": "<div>\n<style scoped>\n    .dataframe tbody tr th:only-of-type {\n        vertical-align: middle;\n    }\n\n    .dataframe tbody tr th {\n        vertical-align: top;\n    }\n\n    .dataframe thead th {\n        text-align: right;\n    }\n</style>\n<table border=\"1\" class=\"dataframe\">\n  <thead>\n    <tr style=\"text-align: right;\">\n      <th></th>\n      <th>mapname</th>\n      <th>matchid</th>\n      <th>roundnumber</th>\n      <th>objectivelocation</th>\n      <th>winrole</th>\n      <th>role</th>\n      <th>operator</th>\n      <th>OP_JTF2-BUCK</th>\n      <th>OP_GIGN-ROOK</th>\n      <th>OP_G.E.O.-MIRA</th>\n      <th>...</th>\n      <th>OP_SPETSNAZ-RESERVE</th>\n      <th>OP_GSG9-BLITZ</th>\n      <th>OP_BOPE-CAPITAO</th>\n      <th>OP_SPETSNAZ-KAPKAN</th>\n      <th>OP_SPETSNAZ-TACHANKA</th>\n      <th>OP_SAT-ECHO</th>\n      <th>OP_SAS-RESERVE</th>\n      <th>OP_GIGN-RESERVE</th>\n      <th>OP_GSG9-RESERVE</th>\n      <th>OP_SWAT-RESERVE</th>\n    </tr>\n  </thead>\n  <tbody>\n    <tr>\n      <th>0</th>\n      <td>BARTLETT_U.</td>\n      <td>1529883301</td>\n      <td>6</td>\n      <td>ROWING_MUSEUM-TROPHY_ROOM</td>\n      <td>Attacker</td>\n      <td>Attacker</td>\n      <td>JTF2-BUCK</td>\n      <td>NaN</td>\n      <td>NaN</td>\n      <td>NaN</td>\n      <td>...</td>\n      <td>NaN</td>\n      <td>NaN</td>\n      <td>NaN</td>\n      <td>NaN</td>\n      <td>NaN</td>\n      <td>NaN</td>\n      <td>NaN</td>\n      <td>NaN</td>\n      <td>NaN</td>\n      <td>NaN</td>\n    </tr>\n    <tr>\n      <th>1</th>\n      <td>BARTLETT_U.</td>\n      <td>1529883301</td>\n      <td>6</td>\n      <td>ROWING_MUSEUM-TROPHY_ROOM</td>\n      <td>Attacker</td>\n      <td>Defender</td>\n      <td>GIGN-ROOK</td>\n      <td>NaN</td>\n      <td>NaN</td>\n      <td>NaN</td>\n      <td>...</td>\n      <td>NaN</td>\n      <td>NaN</td>\n      <td>NaN</td>\n      <td>NaN</td>\n      <td>NaN</td>\n      <td>NaN</td>\n      <td>NaN</td>\n      <td>NaN</td>\n      <td>NaN</td>\n      <td>NaN</td>\n    </tr>\n    <tr>\n      <th>2</th>\n      <td>BARTLETT_U.</td>\n      <td>1529883301</td>\n      <td>6</td>\n      <td>ROWING_MUSEUM-TROPHY_ROOM</td>\n      <td>Attacker</td>\n      <td>Defender</td>\n      <td>SWAT-CASTLE</td>\n      <td>NaN</td>\n      <td>NaN</td>\n      <td>NaN</td>\n      <td>...</td>\n      <td>NaN</td>\n      <td>NaN</td>\n      <td>NaN</td>\n      <td>NaN</td>\n      <td>NaN</td>\n      <td>NaN</td>\n      <td>NaN</td>\n      <td>NaN</td>\n      <td>NaN</td>\n      <td>NaN</td>\n    </tr>\n    <tr>\n      <th>3</th>\n      <td>BARTLETT_U.</td>\n      <td>1529883301</td>\n      <td>6</td>\n      <td>ROWING_MUSEUM-TROPHY_ROOM</td>\n      <td>Attacker</td>\n      <td>Attacker</td>\n      <td>SAT-HIBANA</td>\n      <td>NaN</td>\n      <td>NaN</td>\n      <td>NaN</td>\n      <td>...</td>\n      <td>NaN</td>\n      <td>NaN</td>\n      <td>NaN</td>\n      <td>NaN</td>\n      <td>NaN</td>\n      <td>NaN</td>\n      <td>NaN</td>\n      <td>NaN</td>\n      <td>NaN</td>\n      <td>NaN</td>\n    </tr>\n    <tr>\n      <th>4</th>\n      <td>BARTLETT_U.</td>\n      <td>1529883301</td>\n      <td>6</td>\n      <td>ROWING_MUSEUM-TROPHY_ROOM</td>\n      <td>Attacker</td>\n      <td>Attacker</td>\n      <td>G.E.O.-JACKAL</td>\n      <td>NaN</td>\n      <td>NaN</td>\n      <td>NaN</td>\n      <td>...</td>\n      <td>NaN</td>\n      <td>NaN</td>\n      <td>NaN</td>\n      <td>NaN</td>\n      <td>NaN</td>\n      <td>NaN</td>\n      <td>NaN</td>\n      <td>NaN</td>\n      <td>NaN</td>\n      <td>NaN</td>\n    </tr>\n  </tbody>\n</table>\n<p>5 rows × 42 columns</p>\n</div>"
     },
     "execution_count": 8,
     "metadata": {},
     "output_type": "execute_result"
    }
   ],
   "source": [
    "for operator in operator_list:\n",
    "    df[f\"OP_{operator}\"] = np.nan\n",
    "\n",
    "df.head()"
   ],
   "metadata": {
    "collapsed": false,
    "pycharm": {
     "name": "#%%\n"
    }
   }
  },
  {
   "cell_type": "code",
   "execution_count": 9,
   "outputs": [
    {
     "name": "stderr",
     "output_type": "stream",
     "text": [
      "100%|██████████| 292960/292960 [38:20<00:00, 127.33it/s] \n"
     ]
    }
   ],
   "source": [
    "frames = []\n",
    "groupby_round = df.groupby([\"matchid\", \"roundnumber\"])\n",
    "del df\n",
    "\n",
    "for group, tbl in tqdm(groupby_round):\n",
    "\n",
    "    # tbl[\"ops\"] = str(tbl[\"operator\"].values.to_list())\n",
    "\n",
    "    for operator in operator_list:\n",
    "        tbl[f\"OP_{operator}\"] = operator in tbl[\"operator\"].values\n",
    "\n",
    "    # tbl = tbl.drop_duplicates(subset=[\"matchid\", \"roundnumber\"])\n",
    "    # tbl.drop(columns=[\"role\"])\n",
    "\n",
    "    frames.append(tbl)"
   ],
   "metadata": {
    "collapsed": false,
    "pycharm": {
     "name": "#%%\n"
    }
   }
  },
  {
   "cell_type": "code",
   "execution_count": 10,
   "outputs": [
    {
     "name": "stdout",
     "output_type": "stream",
     "text": [
      "2.2702102661132812 MB\n"
     ]
    }
   ],
   "source": [
    "print(sys.getsizeof(frames) / (1024 ** 2), \"MB\")"
   ],
   "metadata": {
    "collapsed": false,
    "pycharm": {
     "name": "#%%\n"
    }
   }
  },
  {
   "cell_type": "code",
   "execution_count": 12,
   "outputs": [
    {
     "data": {
      "text/plain": "            mapname    matchid  roundnumber               objectivelocation  \\\n2675174   COASTLINE     147541            1  1F_KITCHEN-1F_SERVICE_ENTRANCE   \n2675175   COASTLINE     147541            1  1F_KITCHEN-1F_SERVICE_ENTRANCE   \n2675176   COASTLINE     147541            1  1F_KITCHEN-1F_SERVICE_ENTRANCE   \n2675177   COASTLINE     147541            1  1F_KITCHEN-1F_SERVICE_ENTRANCE   \n2675178   COASTLINE     147541            1  1F_KITCHEN-1F_SERVICE_ENTRANCE   \n...             ...        ...          ...                             ...   \n640198   CLUB_HOUSE  144273241            5                  BAR-STOCK_ROOM   \n640199   CLUB_HOUSE  144273241            5                  BAR-STOCK_ROOM   \n640200   CLUB_HOUSE  144273241            5                  BAR-STOCK_ROOM   \n640201   CLUB_HOUSE  144273241            5                  BAR-STOCK_ROOM   \n640202   CLUB_HOUSE  144273241            5                  BAR-STOCK_ROOM   \n\n          winrole      role             operator  OP_JTF2-BUCK  OP_GIGN-ROOK  \\\n2675174  Attacker  Defender          GSG9-BANDIT         False          True   \n2675175  Attacker  Defender           GSG9-JAGER         False          True   \n2675176  Attacker  Attacker  NAVYSEAL-BLACKBEARD         False          True   \n2675177  Attacker  Defender             SAS-MUTE         False          True   \n2675178  Attacker  Defender            GIGN-ROOK         False          True   \n...           ...       ...                  ...           ...           ...   \n640198   Defender  Attacker  NAVYSEAL-BLACKBEARD         False          True   \n640199   Defender  Defender            GIGN-ROOK         False          True   \n640200   Defender  Defender          GSG9-BANDIT         False          True   \n640201   Defender  Attacker        GIGN-MONTAGNE         False          True   \n640202   Defender  Attacker        SPETSNAZ-FUZE         False          True   \n\n         OP_G.E.O.-MIRA  ...  OP_SPETSNAZ-RESERVE  OP_GSG9-BLITZ  \\\n2675174           False  ...                False          False   \n2675175           False  ...                False          False   \n2675176           False  ...                False          False   \n2675177           False  ...                False          False   \n2675178           False  ...                False          False   \n...                 ...  ...                  ...            ...   \n640198            False  ...                False           True   \n640199            False  ...                False           True   \n640200            False  ...                False           True   \n640201            False  ...                False           True   \n640202            False  ...                False           True   \n\n         OP_BOPE-CAPITAO  OP_SPETSNAZ-KAPKAN  OP_SPETSNAZ-TACHANKA  \\\n2675174            False               False                 False   \n2675175            False               False                 False   \n2675176            False               False                 False   \n2675177            False               False                 False   \n2675178            False               False                 False   \n...                  ...                 ...                   ...   \n640198             False               False                 False   \n640199             False               False                 False   \n640200             False               False                 False   \n640201             False               False                 False   \n640202             False               False                 False   \n\n         OP_SAT-ECHO  OP_SAS-RESERVE  OP_GIGN-RESERVE  OP_GSG9-RESERVE  \\\n2675174        False           False            False            False   \n2675175        False           False            False            False   \n2675176        False           False            False            False   \n2675177        False           False            False            False   \n2675178        False           False            False            False   \n...              ...             ...              ...              ...   \n640198         False           False            False            False   \n640199         False           False            False            False   \n640200         False           False            False            False   \n640201         False           False            False            False   \n640202         False           False            False            False   \n\n         OP_SWAT-RESERVE  \n2675174            False  \n2675175            False  \n2675176            False  \n2675177            False  \n2675178            False  \n...                  ...  \n640198             False  \n640199             False  \n640200             False  \n640201             False  \n640202             False  \n\n[100000 rows x 42 columns]",
      "text/html": "<div>\n<style scoped>\n    .dataframe tbody tr th:only-of-type {\n        vertical-align: middle;\n    }\n\n    .dataframe tbody tr th {\n        vertical-align: top;\n    }\n\n    .dataframe thead th {\n        text-align: right;\n    }\n</style>\n<table border=\"1\" class=\"dataframe\">\n  <thead>\n    <tr style=\"text-align: right;\">\n      <th></th>\n      <th>mapname</th>\n      <th>matchid</th>\n      <th>roundnumber</th>\n      <th>objectivelocation</th>\n      <th>winrole</th>\n      <th>role</th>\n      <th>operator</th>\n      <th>OP_JTF2-BUCK</th>\n      <th>OP_GIGN-ROOK</th>\n      <th>OP_G.E.O.-MIRA</th>\n      <th>...</th>\n      <th>OP_SPETSNAZ-RESERVE</th>\n      <th>OP_GSG9-BLITZ</th>\n      <th>OP_BOPE-CAPITAO</th>\n      <th>OP_SPETSNAZ-KAPKAN</th>\n      <th>OP_SPETSNAZ-TACHANKA</th>\n      <th>OP_SAT-ECHO</th>\n      <th>OP_SAS-RESERVE</th>\n      <th>OP_GIGN-RESERVE</th>\n      <th>OP_GSG9-RESERVE</th>\n      <th>OP_SWAT-RESERVE</th>\n    </tr>\n  </thead>\n  <tbody>\n    <tr>\n      <th>2675174</th>\n      <td>COASTLINE</td>\n      <td>147541</td>\n      <td>1</td>\n      <td>1F_KITCHEN-1F_SERVICE_ENTRANCE</td>\n      <td>Attacker</td>\n      <td>Defender</td>\n      <td>GSG9-BANDIT</td>\n      <td>False</td>\n      <td>True</td>\n      <td>False</td>\n      <td>...</td>\n      <td>False</td>\n      <td>False</td>\n      <td>False</td>\n      <td>False</td>\n      <td>False</td>\n      <td>False</td>\n      <td>False</td>\n      <td>False</td>\n      <td>False</td>\n      <td>False</td>\n    </tr>\n    <tr>\n      <th>2675175</th>\n      <td>COASTLINE</td>\n      <td>147541</td>\n      <td>1</td>\n      <td>1F_KITCHEN-1F_SERVICE_ENTRANCE</td>\n      <td>Attacker</td>\n      <td>Defender</td>\n      <td>GSG9-JAGER</td>\n      <td>False</td>\n      <td>True</td>\n      <td>False</td>\n      <td>...</td>\n      <td>False</td>\n      <td>False</td>\n      <td>False</td>\n      <td>False</td>\n      <td>False</td>\n      <td>False</td>\n      <td>False</td>\n      <td>False</td>\n      <td>False</td>\n      <td>False</td>\n    </tr>\n    <tr>\n      <th>2675176</th>\n      <td>COASTLINE</td>\n      <td>147541</td>\n      <td>1</td>\n      <td>1F_KITCHEN-1F_SERVICE_ENTRANCE</td>\n      <td>Attacker</td>\n      <td>Attacker</td>\n      <td>NAVYSEAL-BLACKBEARD</td>\n      <td>False</td>\n      <td>True</td>\n      <td>False</td>\n      <td>...</td>\n      <td>False</td>\n      <td>False</td>\n      <td>False</td>\n      <td>False</td>\n      <td>False</td>\n      <td>False</td>\n      <td>False</td>\n      <td>False</td>\n      <td>False</td>\n      <td>False</td>\n    </tr>\n    <tr>\n      <th>2675177</th>\n      <td>COASTLINE</td>\n      <td>147541</td>\n      <td>1</td>\n      <td>1F_KITCHEN-1F_SERVICE_ENTRANCE</td>\n      <td>Attacker</td>\n      <td>Defender</td>\n      <td>SAS-MUTE</td>\n      <td>False</td>\n      <td>True</td>\n      <td>False</td>\n      <td>...</td>\n      <td>False</td>\n      <td>False</td>\n      <td>False</td>\n      <td>False</td>\n      <td>False</td>\n      <td>False</td>\n      <td>False</td>\n      <td>False</td>\n      <td>False</td>\n      <td>False</td>\n    </tr>\n    <tr>\n      <th>2675178</th>\n      <td>COASTLINE</td>\n      <td>147541</td>\n      <td>1</td>\n      <td>1F_KITCHEN-1F_SERVICE_ENTRANCE</td>\n      <td>Attacker</td>\n      <td>Defender</td>\n      <td>GIGN-ROOK</td>\n      <td>False</td>\n      <td>True</td>\n      <td>False</td>\n      <td>...</td>\n      <td>False</td>\n      <td>False</td>\n      <td>False</td>\n      <td>False</td>\n      <td>False</td>\n      <td>False</td>\n      <td>False</td>\n      <td>False</td>\n      <td>False</td>\n      <td>False</td>\n    </tr>\n    <tr>\n      <th>...</th>\n      <td>...</td>\n      <td>...</td>\n      <td>...</td>\n      <td>...</td>\n      <td>...</td>\n      <td>...</td>\n      <td>...</td>\n      <td>...</td>\n      <td>...</td>\n      <td>...</td>\n      <td>...</td>\n      <td>...</td>\n      <td>...</td>\n      <td>...</td>\n      <td>...</td>\n      <td>...</td>\n      <td>...</td>\n      <td>...</td>\n      <td>...</td>\n      <td>...</td>\n      <td>...</td>\n    </tr>\n    <tr>\n      <th>640198</th>\n      <td>CLUB_HOUSE</td>\n      <td>144273241</td>\n      <td>5</td>\n      <td>BAR-STOCK_ROOM</td>\n      <td>Defender</td>\n      <td>Attacker</td>\n      <td>NAVYSEAL-BLACKBEARD</td>\n      <td>False</td>\n      <td>True</td>\n      <td>False</td>\n      <td>...</td>\n      <td>False</td>\n      <td>True</td>\n      <td>False</td>\n      <td>False</td>\n      <td>False</td>\n      <td>False</td>\n      <td>False</td>\n      <td>False</td>\n      <td>False</td>\n      <td>False</td>\n    </tr>\n    <tr>\n      <th>640199</th>\n      <td>CLUB_HOUSE</td>\n      <td>144273241</td>\n      <td>5</td>\n      <td>BAR-STOCK_ROOM</td>\n      <td>Defender</td>\n      <td>Defender</td>\n      <td>GIGN-ROOK</td>\n      <td>False</td>\n      <td>True</td>\n      <td>False</td>\n      <td>...</td>\n      <td>False</td>\n      <td>True</td>\n      <td>False</td>\n      <td>False</td>\n      <td>False</td>\n      <td>False</td>\n      <td>False</td>\n      <td>False</td>\n      <td>False</td>\n      <td>False</td>\n    </tr>\n    <tr>\n      <th>640200</th>\n      <td>CLUB_HOUSE</td>\n      <td>144273241</td>\n      <td>5</td>\n      <td>BAR-STOCK_ROOM</td>\n      <td>Defender</td>\n      <td>Defender</td>\n      <td>GSG9-BANDIT</td>\n      <td>False</td>\n      <td>True</td>\n      <td>False</td>\n      <td>...</td>\n      <td>False</td>\n      <td>True</td>\n      <td>False</td>\n      <td>False</td>\n      <td>False</td>\n      <td>False</td>\n      <td>False</td>\n      <td>False</td>\n      <td>False</td>\n      <td>False</td>\n    </tr>\n    <tr>\n      <th>640201</th>\n      <td>CLUB_HOUSE</td>\n      <td>144273241</td>\n      <td>5</td>\n      <td>BAR-STOCK_ROOM</td>\n      <td>Defender</td>\n      <td>Attacker</td>\n      <td>GIGN-MONTAGNE</td>\n      <td>False</td>\n      <td>True</td>\n      <td>False</td>\n      <td>...</td>\n      <td>False</td>\n      <td>True</td>\n      <td>False</td>\n      <td>False</td>\n      <td>False</td>\n      <td>False</td>\n      <td>False</td>\n      <td>False</td>\n      <td>False</td>\n      <td>False</td>\n    </tr>\n    <tr>\n      <th>640202</th>\n      <td>CLUB_HOUSE</td>\n      <td>144273241</td>\n      <td>5</td>\n      <td>BAR-STOCK_ROOM</td>\n      <td>Defender</td>\n      <td>Attacker</td>\n      <td>SPETSNAZ-FUZE</td>\n      <td>False</td>\n      <td>True</td>\n      <td>False</td>\n      <td>...</td>\n      <td>False</td>\n      <td>True</td>\n      <td>False</td>\n      <td>False</td>\n      <td>False</td>\n      <td>False</td>\n      <td>False</td>\n      <td>False</td>\n      <td>False</td>\n      <td>False</td>\n    </tr>\n  </tbody>\n</table>\n<p>100000 rows × 42 columns</p>\n</div>"
     },
     "execution_count": 12,
     "metadata": {},
     "output_type": "execute_result"
    }
   ],
   "source": [
    "# df_test = pd.concat(frames).reset_index(drop=True)\n",
    "df_test = pd.concat(frames[:10_000])\n",
    "df_test"
   ],
   "metadata": {
    "collapsed": false,
    "pycharm": {
     "name": "#%%\n"
    }
   }
  },
  {
   "cell_type": "code",
   "execution_count": 14,
   "outputs": [
    {
     "data": {
      "text/plain": "           mapname     matchid roundnumber               objectivelocation  \\\n0        COASTLINE      147541           1  1F_KITCHEN-1F_SERVICE_ENTRANCE   \n1        COASTLINE      147541           1  1F_KITCHEN-1F_SERVICE_ENTRANCE   \n2        COASTLINE      147541           1  1F_KITCHEN-1F_SERVICE_ENTRANCE   \n3        COASTLINE      147541           1  1F_KITCHEN-1F_SERVICE_ENTRANCE   \n4        COASTLINE      147541           1  1F_KITCHEN-1F_SERVICE_ENTRANCE   \n...            ...         ...         ...                             ...   \n2929595      HOUSE  4294898609           9          KID'S_BEDROOM-WORKSHOP   \n2929596      HOUSE  4294898609           9          KID'S_BEDROOM-WORKSHOP   \n2929597      HOUSE  4294898609           9          KID'S_BEDROOM-WORKSHOP   \n2929598      HOUSE  4294898609           9          KID'S_BEDROOM-WORKSHOP   \n2929599      HOUSE  4294898609           9          KID'S_BEDROOM-WORKSHOP   \n\n          winrole      role             operator OP_JTF2-BUCK OP_GIGN-ROOK  \\\n0        Attacker  Defender          GSG9-BANDIT        False         True   \n1        Attacker  Defender           GSG9-JAGER        False         True   \n2        Attacker  Attacker  NAVYSEAL-BLACKBEARD        False         True   \n3        Attacker  Defender             SAS-MUTE        False         True   \n4        Attacker  Defender            GIGN-ROOK        False         True   \n...           ...       ...                  ...          ...          ...   \n2929595  Attacker  Attacker          GIGN-TWITCH         True         True   \n2929596  Attacker  Defender            GIGN-ROOK         True         True   \n2929597  Attacker  Defender           SWAT-PULSE         True         True   \n2929598  Attacker  Attacker        SPETSNAZ-FUZE         True         True   \n2929599  Attacker  Attacker        SWAT-THERMITE         True         True   \n\n        OP_G.E.O.-MIRA  ... OP_SPETSNAZ-RESERVE OP_GSG9-BLITZ OP_BOPE-CAPITAO  \\\n0                False  ...               False         False           False   \n1                False  ...               False         False           False   \n2                False  ...               False         False           False   \n3                False  ...               False         False           False   \n4                False  ...               False         False           False   \n...                ...  ...                 ...           ...             ...   \n2929595          False  ...               False         False           False   \n2929596          False  ...               False         False           False   \n2929597          False  ...               False         False           False   \n2929598          False  ...               False         False           False   \n2929599          False  ...               False         False           False   \n\n        OP_SPETSNAZ-KAPKAN OP_SPETSNAZ-TACHANKA OP_SAT-ECHO OP_SAS-RESERVE  \\\n0                    False                False       False          False   \n1                    False                False       False          False   \n2                    False                False       False          False   \n3                    False                False       False          False   \n4                    False                False       False          False   \n...                    ...                  ...         ...            ...   \n2929595               True                False       False          False   \n2929596               True                False       False          False   \n2929597               True                False       False          False   \n2929598               True                False       False          False   \n2929599               True                False       False          False   \n\n        OP_GIGN-RESERVE OP_GSG9-RESERVE OP_SWAT-RESERVE  \n0                 False           False           False  \n1                 False           False           False  \n2                 False           False           False  \n3                 False           False           False  \n4                 False           False           False  \n...                 ...             ...             ...  \n2929595           False           False           False  \n2929596           False           False           False  \n2929597           False           False           False  \n2929598           False           False           False  \n2929599           False           False           False  \n\n[2929600 rows x 42 columns]",
      "text/html": "<div>\n<style scoped>\n    .dataframe tbody tr th:only-of-type {\n        vertical-align: middle;\n    }\n\n    .dataframe tbody tr th {\n        vertical-align: top;\n    }\n\n    .dataframe thead th {\n        text-align: right;\n    }\n</style>\n<table border=\"1\" class=\"dataframe\">\n  <thead>\n    <tr style=\"text-align: right;\">\n      <th></th>\n      <th>mapname</th>\n      <th>matchid</th>\n      <th>roundnumber</th>\n      <th>objectivelocation</th>\n      <th>winrole</th>\n      <th>role</th>\n      <th>operator</th>\n      <th>OP_JTF2-BUCK</th>\n      <th>OP_GIGN-ROOK</th>\n      <th>OP_G.E.O.-MIRA</th>\n      <th>...</th>\n      <th>OP_SPETSNAZ-RESERVE</th>\n      <th>OP_GSG9-BLITZ</th>\n      <th>OP_BOPE-CAPITAO</th>\n      <th>OP_SPETSNAZ-KAPKAN</th>\n      <th>OP_SPETSNAZ-TACHANKA</th>\n      <th>OP_SAT-ECHO</th>\n      <th>OP_SAS-RESERVE</th>\n      <th>OP_GIGN-RESERVE</th>\n      <th>OP_GSG9-RESERVE</th>\n      <th>OP_SWAT-RESERVE</th>\n    </tr>\n  </thead>\n  <tbody>\n    <tr>\n      <th>0</th>\n      <td>COASTLINE</td>\n      <td>147541</td>\n      <td>1</td>\n      <td>1F_KITCHEN-1F_SERVICE_ENTRANCE</td>\n      <td>Attacker</td>\n      <td>Defender</td>\n      <td>GSG9-BANDIT</td>\n      <td>False</td>\n      <td>True</td>\n      <td>False</td>\n      <td>...</td>\n      <td>False</td>\n      <td>False</td>\n      <td>False</td>\n      <td>False</td>\n      <td>False</td>\n      <td>False</td>\n      <td>False</td>\n      <td>False</td>\n      <td>False</td>\n      <td>False</td>\n    </tr>\n    <tr>\n      <th>1</th>\n      <td>COASTLINE</td>\n      <td>147541</td>\n      <td>1</td>\n      <td>1F_KITCHEN-1F_SERVICE_ENTRANCE</td>\n      <td>Attacker</td>\n      <td>Defender</td>\n      <td>GSG9-JAGER</td>\n      <td>False</td>\n      <td>True</td>\n      <td>False</td>\n      <td>...</td>\n      <td>False</td>\n      <td>False</td>\n      <td>False</td>\n      <td>False</td>\n      <td>False</td>\n      <td>False</td>\n      <td>False</td>\n      <td>False</td>\n      <td>False</td>\n      <td>False</td>\n    </tr>\n    <tr>\n      <th>2</th>\n      <td>COASTLINE</td>\n      <td>147541</td>\n      <td>1</td>\n      <td>1F_KITCHEN-1F_SERVICE_ENTRANCE</td>\n      <td>Attacker</td>\n      <td>Attacker</td>\n      <td>NAVYSEAL-BLACKBEARD</td>\n      <td>False</td>\n      <td>True</td>\n      <td>False</td>\n      <td>...</td>\n      <td>False</td>\n      <td>False</td>\n      <td>False</td>\n      <td>False</td>\n      <td>False</td>\n      <td>False</td>\n      <td>False</td>\n      <td>False</td>\n      <td>False</td>\n      <td>False</td>\n    </tr>\n    <tr>\n      <th>3</th>\n      <td>COASTLINE</td>\n      <td>147541</td>\n      <td>1</td>\n      <td>1F_KITCHEN-1F_SERVICE_ENTRANCE</td>\n      <td>Attacker</td>\n      <td>Defender</td>\n      <td>SAS-MUTE</td>\n      <td>False</td>\n      <td>True</td>\n      <td>False</td>\n      <td>...</td>\n      <td>False</td>\n      <td>False</td>\n      <td>False</td>\n      <td>False</td>\n      <td>False</td>\n      <td>False</td>\n      <td>False</td>\n      <td>False</td>\n      <td>False</td>\n      <td>False</td>\n    </tr>\n    <tr>\n      <th>4</th>\n      <td>COASTLINE</td>\n      <td>147541</td>\n      <td>1</td>\n      <td>1F_KITCHEN-1F_SERVICE_ENTRANCE</td>\n      <td>Attacker</td>\n      <td>Defender</td>\n      <td>GIGN-ROOK</td>\n      <td>False</td>\n      <td>True</td>\n      <td>False</td>\n      <td>...</td>\n      <td>False</td>\n      <td>False</td>\n      <td>False</td>\n      <td>False</td>\n      <td>False</td>\n      <td>False</td>\n      <td>False</td>\n      <td>False</td>\n      <td>False</td>\n      <td>False</td>\n    </tr>\n    <tr>\n      <th>...</th>\n      <td>...</td>\n      <td>...</td>\n      <td>...</td>\n      <td>...</td>\n      <td>...</td>\n      <td>...</td>\n      <td>...</td>\n      <td>...</td>\n      <td>...</td>\n      <td>...</td>\n      <td>...</td>\n      <td>...</td>\n      <td>...</td>\n      <td>...</td>\n      <td>...</td>\n      <td>...</td>\n      <td>...</td>\n      <td>...</td>\n      <td>...</td>\n      <td>...</td>\n      <td>...</td>\n    </tr>\n    <tr>\n      <th>2929595</th>\n      <td>HOUSE</td>\n      <td>4294898609</td>\n      <td>9</td>\n      <td>KID'S_BEDROOM-WORKSHOP</td>\n      <td>Attacker</td>\n      <td>Attacker</td>\n      <td>GIGN-TWITCH</td>\n      <td>True</td>\n      <td>True</td>\n      <td>False</td>\n      <td>...</td>\n      <td>False</td>\n      <td>False</td>\n      <td>False</td>\n      <td>True</td>\n      <td>False</td>\n      <td>False</td>\n      <td>False</td>\n      <td>False</td>\n      <td>False</td>\n      <td>False</td>\n    </tr>\n    <tr>\n      <th>2929596</th>\n      <td>HOUSE</td>\n      <td>4294898609</td>\n      <td>9</td>\n      <td>KID'S_BEDROOM-WORKSHOP</td>\n      <td>Attacker</td>\n      <td>Defender</td>\n      <td>GIGN-ROOK</td>\n      <td>True</td>\n      <td>True</td>\n      <td>False</td>\n      <td>...</td>\n      <td>False</td>\n      <td>False</td>\n      <td>False</td>\n      <td>True</td>\n      <td>False</td>\n      <td>False</td>\n      <td>False</td>\n      <td>False</td>\n      <td>False</td>\n      <td>False</td>\n    </tr>\n    <tr>\n      <th>2929597</th>\n      <td>HOUSE</td>\n      <td>4294898609</td>\n      <td>9</td>\n      <td>KID'S_BEDROOM-WORKSHOP</td>\n      <td>Attacker</td>\n      <td>Defender</td>\n      <td>SWAT-PULSE</td>\n      <td>True</td>\n      <td>True</td>\n      <td>False</td>\n      <td>...</td>\n      <td>False</td>\n      <td>False</td>\n      <td>False</td>\n      <td>True</td>\n      <td>False</td>\n      <td>False</td>\n      <td>False</td>\n      <td>False</td>\n      <td>False</td>\n      <td>False</td>\n    </tr>\n    <tr>\n      <th>2929598</th>\n      <td>HOUSE</td>\n      <td>4294898609</td>\n      <td>9</td>\n      <td>KID'S_BEDROOM-WORKSHOP</td>\n      <td>Attacker</td>\n      <td>Attacker</td>\n      <td>SPETSNAZ-FUZE</td>\n      <td>True</td>\n      <td>True</td>\n      <td>False</td>\n      <td>...</td>\n      <td>False</td>\n      <td>False</td>\n      <td>False</td>\n      <td>True</td>\n      <td>False</td>\n      <td>False</td>\n      <td>False</td>\n      <td>False</td>\n      <td>False</td>\n      <td>False</td>\n    </tr>\n    <tr>\n      <th>2929599</th>\n      <td>HOUSE</td>\n      <td>4294898609</td>\n      <td>9</td>\n      <td>KID'S_BEDROOM-WORKSHOP</td>\n      <td>Attacker</td>\n      <td>Attacker</td>\n      <td>SWAT-THERMITE</td>\n      <td>True</td>\n      <td>True</td>\n      <td>False</td>\n      <td>...</td>\n      <td>False</td>\n      <td>False</td>\n      <td>False</td>\n      <td>True</td>\n      <td>False</td>\n      <td>False</td>\n      <td>False</td>\n      <td>False</td>\n      <td>False</td>\n      <td>False</td>\n    </tr>\n  </tbody>\n</table>\n<p>2929600 rows × 42 columns</p>\n</div>"
     },
     "execution_count": 14,
     "metadata": {},
     "output_type": "execute_result"
    }
   ],
   "source": [
    "df_test = pd.DataFrame(np.vstack(frames), columns=frames[0].columns)\n",
    "df_test"
   ],
   "metadata": {
    "collapsed": false,
    "pycharm": {
     "name": "#%%\n"
    }
   }
  },
  {
   "cell_type": "code",
   "execution_count": 15,
   "outputs": [
    {
     "data": {
      "text/plain": "           mapname     matchid roundnumber               objectivelocation  \\\n0        COASTLINE      147541           1  1F_KITCHEN-1F_SERVICE_ENTRANCE   \n10       COASTLINE      147541           3         2F_PENTHOUSE-2F_THEATER   \n20       COASTLINE      147541           4         2F_PENTHOUSE-2F_THEATER   \n30       COASTLINE      147541           5  1F_KITCHEN-1F_SERVICE_ENTRANCE   \n40          BORDER      251521           1         ARMORY_LOCKERS-ARCHIVES   \n...            ...         ...         ...                             ...   \n2929550      HOUSE  4294898609           5          KID'S_BEDROOM-WORKSHOP   \n2929560      HOUSE  4294898609           6       LIVING_ROOM-TRAINING_ROOM   \n2929570      HOUSE  4294898609           7            TRAINING_ROOM-GARAGE   \n2929580      HOUSE  4294898609           8            TRAINING_ROOM-GARAGE   \n2929590      HOUSE  4294898609           9          KID'S_BEDROOM-WORKSHOP   \n\n          winrole      role           operator OP_JTF2-BUCK OP_GIGN-ROOK  \\\n0        Attacker  Defender        GSG9-BANDIT        False         True   \n10       Defender  Attacker      SPETSNAZ-GLAZ        False         True   \n20       Attacker  Attacker         SAS-SLEDGE        False        False   \n30       Defender  Defender        G.E.O.-MIRA        False        False   \n40       Defender  Defender         GSG9-JAGER        False        False   \n...           ...       ...                ...          ...          ...   \n2929550  Defender  Attacker         SAS-SLEDGE        False         True   \n2929560  Attacker  Defender  NAVYSEAL-VALKYRIE        False         True   \n2929570  Defender  Attacker       SAS-THATCHER         True         True   \n2929580  Defender  Attacker      SWAT-THERMITE        False         True   \n2929590  Attacker  Attacker           SWAT-ASH         True         True   \n\n        OP_G.E.O.-MIRA  ... OP_SPETSNAZ-RESERVE OP_GSG9-BLITZ OP_BOPE-CAPITAO  \\\n0                False  ...               False         False           False   \n10                True  ...               False         False           False   \n20               False  ...               False         False           False   \n30                True  ...               False         False           False   \n40               False  ...               False         False           False   \n...                ...  ...                 ...           ...             ...   \n2929550          False  ...               False         False           False   \n2929560          False  ...               False         False            True   \n2929570          False  ...               False         False           False   \n2929580           True  ...               False         False            True   \n2929590          False  ...               False         False           False   \n\n        OP_SPETSNAZ-KAPKAN OP_SPETSNAZ-TACHANKA OP_SAT-ECHO OP_SAS-RESERVE  \\\n0                    False                False       False          False   \n10                   False                False       False          False   \n20                   False                False        True          False   \n30                   False                False        True          False   \n40                   False                False       False           True   \n...                    ...                  ...         ...            ...   \n2929550               True                False       False          False   \n2929560              False                False       False          False   \n2929570               True                False       False          False   \n2929580              False                False       False          False   \n2929590               True                False       False          False   \n\n        OP_GIGN-RESERVE OP_GSG9-RESERVE OP_SWAT-RESERVE  \n0                 False           False           False  \n10                False           False           False  \n20                False           False           False  \n30                False           False           False  \n40                False           False           False  \n...                 ...             ...             ...  \n2929550           False           False           False  \n2929560           False           False           False  \n2929570           False           False           False  \n2929580           False           False           False  \n2929590           False           False           False  \n\n[292960 rows x 42 columns]",
      "text/html": "<div>\n<style scoped>\n    .dataframe tbody tr th:only-of-type {\n        vertical-align: middle;\n    }\n\n    .dataframe tbody tr th {\n        vertical-align: top;\n    }\n\n    .dataframe thead th {\n        text-align: right;\n    }\n</style>\n<table border=\"1\" class=\"dataframe\">\n  <thead>\n    <tr style=\"text-align: right;\">\n      <th></th>\n      <th>mapname</th>\n      <th>matchid</th>\n      <th>roundnumber</th>\n      <th>objectivelocation</th>\n      <th>winrole</th>\n      <th>role</th>\n      <th>operator</th>\n      <th>OP_JTF2-BUCK</th>\n      <th>OP_GIGN-ROOK</th>\n      <th>OP_G.E.O.-MIRA</th>\n      <th>...</th>\n      <th>OP_SPETSNAZ-RESERVE</th>\n      <th>OP_GSG9-BLITZ</th>\n      <th>OP_BOPE-CAPITAO</th>\n      <th>OP_SPETSNAZ-KAPKAN</th>\n      <th>OP_SPETSNAZ-TACHANKA</th>\n      <th>OP_SAT-ECHO</th>\n      <th>OP_SAS-RESERVE</th>\n      <th>OP_GIGN-RESERVE</th>\n      <th>OP_GSG9-RESERVE</th>\n      <th>OP_SWAT-RESERVE</th>\n    </tr>\n  </thead>\n  <tbody>\n    <tr>\n      <th>0</th>\n      <td>COASTLINE</td>\n      <td>147541</td>\n      <td>1</td>\n      <td>1F_KITCHEN-1F_SERVICE_ENTRANCE</td>\n      <td>Attacker</td>\n      <td>Defender</td>\n      <td>GSG9-BANDIT</td>\n      <td>False</td>\n      <td>True</td>\n      <td>False</td>\n      <td>...</td>\n      <td>False</td>\n      <td>False</td>\n      <td>False</td>\n      <td>False</td>\n      <td>False</td>\n      <td>False</td>\n      <td>False</td>\n      <td>False</td>\n      <td>False</td>\n      <td>False</td>\n    </tr>\n    <tr>\n      <th>10</th>\n      <td>COASTLINE</td>\n      <td>147541</td>\n      <td>3</td>\n      <td>2F_PENTHOUSE-2F_THEATER</td>\n      <td>Defender</td>\n      <td>Attacker</td>\n      <td>SPETSNAZ-GLAZ</td>\n      <td>False</td>\n      <td>True</td>\n      <td>True</td>\n      <td>...</td>\n      <td>False</td>\n      <td>False</td>\n      <td>False</td>\n      <td>False</td>\n      <td>False</td>\n      <td>False</td>\n      <td>False</td>\n      <td>False</td>\n      <td>False</td>\n      <td>False</td>\n    </tr>\n    <tr>\n      <th>20</th>\n      <td>COASTLINE</td>\n      <td>147541</td>\n      <td>4</td>\n      <td>2F_PENTHOUSE-2F_THEATER</td>\n      <td>Attacker</td>\n      <td>Attacker</td>\n      <td>SAS-SLEDGE</td>\n      <td>False</td>\n      <td>False</td>\n      <td>False</td>\n      <td>...</td>\n      <td>False</td>\n      <td>False</td>\n      <td>False</td>\n      <td>False</td>\n      <td>False</td>\n      <td>True</td>\n      <td>False</td>\n      <td>False</td>\n      <td>False</td>\n      <td>False</td>\n    </tr>\n    <tr>\n      <th>30</th>\n      <td>COASTLINE</td>\n      <td>147541</td>\n      <td>5</td>\n      <td>1F_KITCHEN-1F_SERVICE_ENTRANCE</td>\n      <td>Defender</td>\n      <td>Defender</td>\n      <td>G.E.O.-MIRA</td>\n      <td>False</td>\n      <td>False</td>\n      <td>True</td>\n      <td>...</td>\n      <td>False</td>\n      <td>False</td>\n      <td>False</td>\n      <td>False</td>\n      <td>False</td>\n      <td>True</td>\n      <td>False</td>\n      <td>False</td>\n      <td>False</td>\n      <td>False</td>\n    </tr>\n    <tr>\n      <th>40</th>\n      <td>BORDER</td>\n      <td>251521</td>\n      <td>1</td>\n      <td>ARMORY_LOCKERS-ARCHIVES</td>\n      <td>Defender</td>\n      <td>Defender</td>\n      <td>GSG9-JAGER</td>\n      <td>False</td>\n      <td>False</td>\n      <td>False</td>\n      <td>...</td>\n      <td>False</td>\n      <td>False</td>\n      <td>False</td>\n      <td>False</td>\n      <td>False</td>\n      <td>False</td>\n      <td>True</td>\n      <td>False</td>\n      <td>False</td>\n      <td>False</td>\n    </tr>\n    <tr>\n      <th>...</th>\n      <td>...</td>\n      <td>...</td>\n      <td>...</td>\n      <td>...</td>\n      <td>...</td>\n      <td>...</td>\n      <td>...</td>\n      <td>...</td>\n      <td>...</td>\n      <td>...</td>\n      <td>...</td>\n      <td>...</td>\n      <td>...</td>\n      <td>...</td>\n      <td>...</td>\n      <td>...</td>\n      <td>...</td>\n      <td>...</td>\n      <td>...</td>\n      <td>...</td>\n      <td>...</td>\n    </tr>\n    <tr>\n      <th>2929550</th>\n      <td>HOUSE</td>\n      <td>4294898609</td>\n      <td>5</td>\n      <td>KID'S_BEDROOM-WORKSHOP</td>\n      <td>Defender</td>\n      <td>Attacker</td>\n      <td>SAS-SLEDGE</td>\n      <td>False</td>\n      <td>True</td>\n      <td>False</td>\n      <td>...</td>\n      <td>False</td>\n      <td>False</td>\n      <td>False</td>\n      <td>True</td>\n      <td>False</td>\n      <td>False</td>\n      <td>False</td>\n      <td>False</td>\n      <td>False</td>\n      <td>False</td>\n    </tr>\n    <tr>\n      <th>2929560</th>\n      <td>HOUSE</td>\n      <td>4294898609</td>\n      <td>6</td>\n      <td>LIVING_ROOM-TRAINING_ROOM</td>\n      <td>Attacker</td>\n      <td>Defender</td>\n      <td>NAVYSEAL-VALKYRIE</td>\n      <td>False</td>\n      <td>True</td>\n      <td>False</td>\n      <td>...</td>\n      <td>False</td>\n      <td>False</td>\n      <td>True</td>\n      <td>False</td>\n      <td>False</td>\n      <td>False</td>\n      <td>False</td>\n      <td>False</td>\n      <td>False</td>\n      <td>False</td>\n    </tr>\n    <tr>\n      <th>2929570</th>\n      <td>HOUSE</td>\n      <td>4294898609</td>\n      <td>7</td>\n      <td>TRAINING_ROOM-GARAGE</td>\n      <td>Defender</td>\n      <td>Attacker</td>\n      <td>SAS-THATCHER</td>\n      <td>True</td>\n      <td>True</td>\n      <td>False</td>\n      <td>...</td>\n      <td>False</td>\n      <td>False</td>\n      <td>False</td>\n      <td>True</td>\n      <td>False</td>\n      <td>False</td>\n      <td>False</td>\n      <td>False</td>\n      <td>False</td>\n      <td>False</td>\n    </tr>\n    <tr>\n      <th>2929580</th>\n      <td>HOUSE</td>\n      <td>4294898609</td>\n      <td>8</td>\n      <td>TRAINING_ROOM-GARAGE</td>\n      <td>Defender</td>\n      <td>Attacker</td>\n      <td>SWAT-THERMITE</td>\n      <td>False</td>\n      <td>True</td>\n      <td>True</td>\n      <td>...</td>\n      <td>False</td>\n      <td>False</td>\n      <td>True</td>\n      <td>False</td>\n      <td>False</td>\n      <td>False</td>\n      <td>False</td>\n      <td>False</td>\n      <td>False</td>\n      <td>False</td>\n    </tr>\n    <tr>\n      <th>2929590</th>\n      <td>HOUSE</td>\n      <td>4294898609</td>\n      <td>9</td>\n      <td>KID'S_BEDROOM-WORKSHOP</td>\n      <td>Attacker</td>\n      <td>Attacker</td>\n      <td>SWAT-ASH</td>\n      <td>True</td>\n      <td>True</td>\n      <td>False</td>\n      <td>...</td>\n      <td>False</td>\n      <td>False</td>\n      <td>False</td>\n      <td>True</td>\n      <td>False</td>\n      <td>False</td>\n      <td>False</td>\n      <td>False</td>\n      <td>False</td>\n      <td>False</td>\n    </tr>\n  </tbody>\n</table>\n<p>292960 rows × 42 columns</p>\n</div>"
     },
     "execution_count": 15,
     "metadata": {},
     "output_type": "execute_result"
    }
   ],
   "source": [
    "df_test = df_test.drop_duplicates(subset=[\"matchid\", \"roundnumber\"])\n",
    "df_test"
   ],
   "metadata": {
    "collapsed": false,
    "pycharm": {
     "name": "#%%\n"
    }
   }
  },
  {
   "cell_type": "code",
   "execution_count": 16,
   "outputs": [
    {
     "data": {
      "text/plain": "          mapname     matchid roundnumber               objectivelocation  \\\n0       COASTLINE      147541           1  1F_KITCHEN-1F_SERVICE_ENTRANCE   \n1       COASTLINE      147541           3         2F_PENTHOUSE-2F_THEATER   \n2       COASTLINE      147541           4         2F_PENTHOUSE-2F_THEATER   \n3       COASTLINE      147541           5  1F_KITCHEN-1F_SERVICE_ENTRANCE   \n4          BORDER      251521           1         ARMORY_LOCKERS-ARCHIVES   \n...           ...         ...         ...                             ...   \n292955      HOUSE  4294898609           5          KID'S_BEDROOM-WORKSHOP   \n292956      HOUSE  4294898609           6       LIVING_ROOM-TRAINING_ROOM   \n292957      HOUSE  4294898609           7            TRAINING_ROOM-GARAGE   \n292958      HOUSE  4294898609           8            TRAINING_ROOM-GARAGE   \n292959      HOUSE  4294898609           9          KID'S_BEDROOM-WORKSHOP   \n\n         winrole      role           operator OP_JTF2-BUCK OP_GIGN-ROOK  \\\n0       Attacker  Defender        GSG9-BANDIT        False         True   \n1       Defender  Attacker      SPETSNAZ-GLAZ        False         True   \n2       Attacker  Attacker         SAS-SLEDGE        False        False   \n3       Defender  Defender        G.E.O.-MIRA        False        False   \n4       Defender  Defender         GSG9-JAGER        False        False   \n...          ...       ...                ...          ...          ...   \n292955  Defender  Attacker         SAS-SLEDGE        False         True   \n292956  Attacker  Defender  NAVYSEAL-VALKYRIE        False         True   \n292957  Defender  Attacker       SAS-THATCHER         True         True   \n292958  Defender  Attacker      SWAT-THERMITE        False         True   \n292959  Attacker  Attacker           SWAT-ASH         True         True   \n\n       OP_G.E.O.-MIRA  ... OP_SPETSNAZ-RESERVE OP_GSG9-BLITZ OP_BOPE-CAPITAO  \\\n0               False  ...               False         False           False   \n1                True  ...               False         False           False   \n2               False  ...               False         False           False   \n3                True  ...               False         False           False   \n4               False  ...               False         False           False   \n...               ...  ...                 ...           ...             ...   \n292955          False  ...               False         False           False   \n292956          False  ...               False         False            True   \n292957          False  ...               False         False           False   \n292958           True  ...               False         False            True   \n292959          False  ...               False         False           False   \n\n       OP_SPETSNAZ-KAPKAN OP_SPETSNAZ-TACHANKA OP_SAT-ECHO OP_SAS-RESERVE  \\\n0                   False                False       False          False   \n1                   False                False       False          False   \n2                   False                False        True          False   \n3                   False                False        True          False   \n4                   False                False       False           True   \n...                   ...                  ...         ...            ...   \n292955               True                False       False          False   \n292956              False                False       False          False   \n292957               True                False       False          False   \n292958              False                False       False          False   \n292959               True                False       False          False   \n\n       OP_GIGN-RESERVE OP_GSG9-RESERVE OP_SWAT-RESERVE  \n0                False           False           False  \n1                False           False           False  \n2                False           False           False  \n3                False           False           False  \n4                False           False           False  \n...                ...             ...             ...  \n292955           False           False           False  \n292956           False           False           False  \n292957           False           False           False  \n292958           False           False           False  \n292959           False           False           False  \n\n[292960 rows x 42 columns]",
      "text/html": "<div>\n<style scoped>\n    .dataframe tbody tr th:only-of-type {\n        vertical-align: middle;\n    }\n\n    .dataframe tbody tr th {\n        vertical-align: top;\n    }\n\n    .dataframe thead th {\n        text-align: right;\n    }\n</style>\n<table border=\"1\" class=\"dataframe\">\n  <thead>\n    <tr style=\"text-align: right;\">\n      <th></th>\n      <th>mapname</th>\n      <th>matchid</th>\n      <th>roundnumber</th>\n      <th>objectivelocation</th>\n      <th>winrole</th>\n      <th>role</th>\n      <th>operator</th>\n      <th>OP_JTF2-BUCK</th>\n      <th>OP_GIGN-ROOK</th>\n      <th>OP_G.E.O.-MIRA</th>\n      <th>...</th>\n      <th>OP_SPETSNAZ-RESERVE</th>\n      <th>OP_GSG9-BLITZ</th>\n      <th>OP_BOPE-CAPITAO</th>\n      <th>OP_SPETSNAZ-KAPKAN</th>\n      <th>OP_SPETSNAZ-TACHANKA</th>\n      <th>OP_SAT-ECHO</th>\n      <th>OP_SAS-RESERVE</th>\n      <th>OP_GIGN-RESERVE</th>\n      <th>OP_GSG9-RESERVE</th>\n      <th>OP_SWAT-RESERVE</th>\n    </tr>\n  </thead>\n  <tbody>\n    <tr>\n      <th>0</th>\n      <td>COASTLINE</td>\n      <td>147541</td>\n      <td>1</td>\n      <td>1F_KITCHEN-1F_SERVICE_ENTRANCE</td>\n      <td>Attacker</td>\n      <td>Defender</td>\n      <td>GSG9-BANDIT</td>\n      <td>False</td>\n      <td>True</td>\n      <td>False</td>\n      <td>...</td>\n      <td>False</td>\n      <td>False</td>\n      <td>False</td>\n      <td>False</td>\n      <td>False</td>\n      <td>False</td>\n      <td>False</td>\n      <td>False</td>\n      <td>False</td>\n      <td>False</td>\n    </tr>\n    <tr>\n      <th>1</th>\n      <td>COASTLINE</td>\n      <td>147541</td>\n      <td>3</td>\n      <td>2F_PENTHOUSE-2F_THEATER</td>\n      <td>Defender</td>\n      <td>Attacker</td>\n      <td>SPETSNAZ-GLAZ</td>\n      <td>False</td>\n      <td>True</td>\n      <td>True</td>\n      <td>...</td>\n      <td>False</td>\n      <td>False</td>\n      <td>False</td>\n      <td>False</td>\n      <td>False</td>\n      <td>False</td>\n      <td>False</td>\n      <td>False</td>\n      <td>False</td>\n      <td>False</td>\n    </tr>\n    <tr>\n      <th>2</th>\n      <td>COASTLINE</td>\n      <td>147541</td>\n      <td>4</td>\n      <td>2F_PENTHOUSE-2F_THEATER</td>\n      <td>Attacker</td>\n      <td>Attacker</td>\n      <td>SAS-SLEDGE</td>\n      <td>False</td>\n      <td>False</td>\n      <td>False</td>\n      <td>...</td>\n      <td>False</td>\n      <td>False</td>\n      <td>False</td>\n      <td>False</td>\n      <td>False</td>\n      <td>True</td>\n      <td>False</td>\n      <td>False</td>\n      <td>False</td>\n      <td>False</td>\n    </tr>\n    <tr>\n      <th>3</th>\n      <td>COASTLINE</td>\n      <td>147541</td>\n      <td>5</td>\n      <td>1F_KITCHEN-1F_SERVICE_ENTRANCE</td>\n      <td>Defender</td>\n      <td>Defender</td>\n      <td>G.E.O.-MIRA</td>\n      <td>False</td>\n      <td>False</td>\n      <td>True</td>\n      <td>...</td>\n      <td>False</td>\n      <td>False</td>\n      <td>False</td>\n      <td>False</td>\n      <td>False</td>\n      <td>True</td>\n      <td>False</td>\n      <td>False</td>\n      <td>False</td>\n      <td>False</td>\n    </tr>\n    <tr>\n      <th>4</th>\n      <td>BORDER</td>\n      <td>251521</td>\n      <td>1</td>\n      <td>ARMORY_LOCKERS-ARCHIVES</td>\n      <td>Defender</td>\n      <td>Defender</td>\n      <td>GSG9-JAGER</td>\n      <td>False</td>\n      <td>False</td>\n      <td>False</td>\n      <td>...</td>\n      <td>False</td>\n      <td>False</td>\n      <td>False</td>\n      <td>False</td>\n      <td>False</td>\n      <td>False</td>\n      <td>True</td>\n      <td>False</td>\n      <td>False</td>\n      <td>False</td>\n    </tr>\n    <tr>\n      <th>...</th>\n      <td>...</td>\n      <td>...</td>\n      <td>...</td>\n      <td>...</td>\n      <td>...</td>\n      <td>...</td>\n      <td>...</td>\n      <td>...</td>\n      <td>...</td>\n      <td>...</td>\n      <td>...</td>\n      <td>...</td>\n      <td>...</td>\n      <td>...</td>\n      <td>...</td>\n      <td>...</td>\n      <td>...</td>\n      <td>...</td>\n      <td>...</td>\n      <td>...</td>\n      <td>...</td>\n    </tr>\n    <tr>\n      <th>292955</th>\n      <td>HOUSE</td>\n      <td>4294898609</td>\n      <td>5</td>\n      <td>KID'S_BEDROOM-WORKSHOP</td>\n      <td>Defender</td>\n      <td>Attacker</td>\n      <td>SAS-SLEDGE</td>\n      <td>False</td>\n      <td>True</td>\n      <td>False</td>\n      <td>...</td>\n      <td>False</td>\n      <td>False</td>\n      <td>False</td>\n      <td>True</td>\n      <td>False</td>\n      <td>False</td>\n      <td>False</td>\n      <td>False</td>\n      <td>False</td>\n      <td>False</td>\n    </tr>\n    <tr>\n      <th>292956</th>\n      <td>HOUSE</td>\n      <td>4294898609</td>\n      <td>6</td>\n      <td>LIVING_ROOM-TRAINING_ROOM</td>\n      <td>Attacker</td>\n      <td>Defender</td>\n      <td>NAVYSEAL-VALKYRIE</td>\n      <td>False</td>\n      <td>True</td>\n      <td>False</td>\n      <td>...</td>\n      <td>False</td>\n      <td>False</td>\n      <td>True</td>\n      <td>False</td>\n      <td>False</td>\n      <td>False</td>\n      <td>False</td>\n      <td>False</td>\n      <td>False</td>\n      <td>False</td>\n    </tr>\n    <tr>\n      <th>292957</th>\n      <td>HOUSE</td>\n      <td>4294898609</td>\n      <td>7</td>\n      <td>TRAINING_ROOM-GARAGE</td>\n      <td>Defender</td>\n      <td>Attacker</td>\n      <td>SAS-THATCHER</td>\n      <td>True</td>\n      <td>True</td>\n      <td>False</td>\n      <td>...</td>\n      <td>False</td>\n      <td>False</td>\n      <td>False</td>\n      <td>True</td>\n      <td>False</td>\n      <td>False</td>\n      <td>False</td>\n      <td>False</td>\n      <td>False</td>\n      <td>False</td>\n    </tr>\n    <tr>\n      <th>292958</th>\n      <td>HOUSE</td>\n      <td>4294898609</td>\n      <td>8</td>\n      <td>TRAINING_ROOM-GARAGE</td>\n      <td>Defender</td>\n      <td>Attacker</td>\n      <td>SWAT-THERMITE</td>\n      <td>False</td>\n      <td>True</td>\n      <td>True</td>\n      <td>...</td>\n      <td>False</td>\n      <td>False</td>\n      <td>True</td>\n      <td>False</td>\n      <td>False</td>\n      <td>False</td>\n      <td>False</td>\n      <td>False</td>\n      <td>False</td>\n      <td>False</td>\n    </tr>\n    <tr>\n      <th>292959</th>\n      <td>HOUSE</td>\n      <td>4294898609</td>\n      <td>9</td>\n      <td>KID'S_BEDROOM-WORKSHOP</td>\n      <td>Attacker</td>\n      <td>Attacker</td>\n      <td>SWAT-ASH</td>\n      <td>True</td>\n      <td>True</td>\n      <td>False</td>\n      <td>...</td>\n      <td>False</td>\n      <td>False</td>\n      <td>False</td>\n      <td>True</td>\n      <td>False</td>\n      <td>False</td>\n      <td>False</td>\n      <td>False</td>\n      <td>False</td>\n      <td>False</td>\n    </tr>\n  </tbody>\n</table>\n<p>292960 rows × 42 columns</p>\n</div>"
     },
     "execution_count": 16,
     "metadata": {},
     "output_type": "execute_result"
    }
   ],
   "source": [
    "df_test = df_test.reset_index(drop=True)\n",
    "df_test"
   ],
   "metadata": {
    "collapsed": false,
    "pycharm": {
     "name": "#%%\n"
    }
   }
  },
  {
   "cell_type": "code",
   "execution_count": 20,
   "outputs": [
    {
     "data": {
      "text/plain": "          mapname     matchid roundnumber               objectivelocation  \\\n0       COASTLINE      147541           1  1F_KITCHEN-1F_SERVICE_ENTRANCE   \n1       COASTLINE      147541           3         2F_PENTHOUSE-2F_THEATER   \n2       COASTLINE      147541           4         2F_PENTHOUSE-2F_THEATER   \n3       COASTLINE      147541           5  1F_KITCHEN-1F_SERVICE_ENTRANCE   \n4          BORDER      251521           1         ARMORY_LOCKERS-ARCHIVES   \n...           ...         ...         ...                             ...   \n292955      HOUSE  4294898609           5          KID'S_BEDROOM-WORKSHOP   \n292956      HOUSE  4294898609           6       LIVING_ROOM-TRAINING_ROOM   \n292957      HOUSE  4294898609           7            TRAINING_ROOM-GARAGE   \n292958      HOUSE  4294898609           8            TRAINING_ROOM-GARAGE   \n292959      HOUSE  4294898609           9          KID'S_BEDROOM-WORKSHOP   \n\n         winrole  OP_JTF2-BUCK  OP_GIGN-ROOK  OP_G.E.O.-MIRA  OP_SWAT-CASTLE  \\\n0       Attacker             0             1               0               0   \n1       Defender             0             1               1               0   \n2       Attacker             0             0               0               0   \n3       Defender             0             0               1               0   \n4       Defender             0             0               0               0   \n...          ...           ...           ...             ...             ...   \n292955  Defender             0             1               0               0   \n292956  Attacker             0             1               0               0   \n292957  Defender             1             1               0               0   \n292958  Defender             0             1               1               0   \n292959  Attacker             1             1               0               0   \n\n        OP_GSG9-JAGER  ...  OP_SPETSNAZ-RESERVE  OP_GSG9-BLITZ  \\\n0                   1  ...                    0              0   \n1                   0  ...                    0              0   \n2                   1  ...                    0              0   \n3                   1  ...                    0              0   \n4                   1  ...                    0              0   \n...               ...  ...                  ...            ...   \n292955              1  ...                    0              0   \n292956              1  ...                    0              0   \n292957              0  ...                    0              0   \n292958              1  ...                    0              0   \n292959              1  ...                    0              0   \n\n        OP_BOPE-CAPITAO  OP_SPETSNAZ-KAPKAN  OP_SPETSNAZ-TACHANKA  \\\n0                     0                   0                     0   \n1                     0                   0                     0   \n2                     0                   0                     0   \n3                     0                   0                     0   \n4                     0                   0                     0   \n...                 ...                 ...                   ...   \n292955                0                   1                     0   \n292956                1                   0                     0   \n292957                0                   1                     0   \n292958                1                   0                     0   \n292959                0                   1                     0   \n\n        OP_SAT-ECHO  OP_SAS-RESERVE  OP_GIGN-RESERVE  OP_GSG9-RESERVE  \\\n0                 0               0                0                0   \n1                 0               0                0                0   \n2                 1               0                0                0   \n3                 1               0                0                0   \n4                 0               1                0                0   \n...             ...             ...              ...              ...   \n292955            0               0                0                0   \n292956            0               0                0                0   \n292957            0               0                0                0   \n292958            0               0                0                0   \n292959            0               0                0                0   \n\n        OP_SWAT-RESERVE  \n0                     0  \n1                     0  \n2                     0  \n3                     0  \n4                     0  \n...                 ...  \n292955                0  \n292956                0  \n292957                0  \n292958                0  \n292959                0  \n\n[292960 rows x 40 columns]",
      "text/html": "<div>\n<style scoped>\n    .dataframe tbody tr th:only-of-type {\n        vertical-align: middle;\n    }\n\n    .dataframe tbody tr th {\n        vertical-align: top;\n    }\n\n    .dataframe thead th {\n        text-align: right;\n    }\n</style>\n<table border=\"1\" class=\"dataframe\">\n  <thead>\n    <tr style=\"text-align: right;\">\n      <th></th>\n      <th>mapname</th>\n      <th>matchid</th>\n      <th>roundnumber</th>\n      <th>objectivelocation</th>\n      <th>winrole</th>\n      <th>OP_JTF2-BUCK</th>\n      <th>OP_GIGN-ROOK</th>\n      <th>OP_G.E.O.-MIRA</th>\n      <th>OP_SWAT-CASTLE</th>\n      <th>OP_GSG9-JAGER</th>\n      <th>...</th>\n      <th>OP_SPETSNAZ-RESERVE</th>\n      <th>OP_GSG9-BLITZ</th>\n      <th>OP_BOPE-CAPITAO</th>\n      <th>OP_SPETSNAZ-KAPKAN</th>\n      <th>OP_SPETSNAZ-TACHANKA</th>\n      <th>OP_SAT-ECHO</th>\n      <th>OP_SAS-RESERVE</th>\n      <th>OP_GIGN-RESERVE</th>\n      <th>OP_GSG9-RESERVE</th>\n      <th>OP_SWAT-RESERVE</th>\n    </tr>\n  </thead>\n  <tbody>\n    <tr>\n      <th>0</th>\n      <td>COASTLINE</td>\n      <td>147541</td>\n      <td>1</td>\n      <td>1F_KITCHEN-1F_SERVICE_ENTRANCE</td>\n      <td>Attacker</td>\n      <td>0</td>\n      <td>1</td>\n      <td>0</td>\n      <td>0</td>\n      <td>1</td>\n      <td>...</td>\n      <td>0</td>\n      <td>0</td>\n      <td>0</td>\n      <td>0</td>\n      <td>0</td>\n      <td>0</td>\n      <td>0</td>\n      <td>0</td>\n      <td>0</td>\n      <td>0</td>\n    </tr>\n    <tr>\n      <th>1</th>\n      <td>COASTLINE</td>\n      <td>147541</td>\n      <td>3</td>\n      <td>2F_PENTHOUSE-2F_THEATER</td>\n      <td>Defender</td>\n      <td>0</td>\n      <td>1</td>\n      <td>1</td>\n      <td>0</td>\n      <td>0</td>\n      <td>...</td>\n      <td>0</td>\n      <td>0</td>\n      <td>0</td>\n      <td>0</td>\n      <td>0</td>\n      <td>0</td>\n      <td>0</td>\n      <td>0</td>\n      <td>0</td>\n      <td>0</td>\n    </tr>\n    <tr>\n      <th>2</th>\n      <td>COASTLINE</td>\n      <td>147541</td>\n      <td>4</td>\n      <td>2F_PENTHOUSE-2F_THEATER</td>\n      <td>Attacker</td>\n      <td>0</td>\n      <td>0</td>\n      <td>0</td>\n      <td>0</td>\n      <td>1</td>\n      <td>...</td>\n      <td>0</td>\n      <td>0</td>\n      <td>0</td>\n      <td>0</td>\n      <td>0</td>\n      <td>1</td>\n      <td>0</td>\n      <td>0</td>\n      <td>0</td>\n      <td>0</td>\n    </tr>\n    <tr>\n      <th>3</th>\n      <td>COASTLINE</td>\n      <td>147541</td>\n      <td>5</td>\n      <td>1F_KITCHEN-1F_SERVICE_ENTRANCE</td>\n      <td>Defender</td>\n      <td>0</td>\n      <td>0</td>\n      <td>1</td>\n      <td>0</td>\n      <td>1</td>\n      <td>...</td>\n      <td>0</td>\n      <td>0</td>\n      <td>0</td>\n      <td>0</td>\n      <td>0</td>\n      <td>1</td>\n      <td>0</td>\n      <td>0</td>\n      <td>0</td>\n      <td>0</td>\n    </tr>\n    <tr>\n      <th>4</th>\n      <td>BORDER</td>\n      <td>251521</td>\n      <td>1</td>\n      <td>ARMORY_LOCKERS-ARCHIVES</td>\n      <td>Defender</td>\n      <td>0</td>\n      <td>0</td>\n      <td>0</td>\n      <td>0</td>\n      <td>1</td>\n      <td>...</td>\n      <td>0</td>\n      <td>0</td>\n      <td>0</td>\n      <td>0</td>\n      <td>0</td>\n      <td>0</td>\n      <td>1</td>\n      <td>0</td>\n      <td>0</td>\n      <td>0</td>\n    </tr>\n    <tr>\n      <th>...</th>\n      <td>...</td>\n      <td>...</td>\n      <td>...</td>\n      <td>...</td>\n      <td>...</td>\n      <td>...</td>\n      <td>...</td>\n      <td>...</td>\n      <td>...</td>\n      <td>...</td>\n      <td>...</td>\n      <td>...</td>\n      <td>...</td>\n      <td>...</td>\n      <td>...</td>\n      <td>...</td>\n      <td>...</td>\n      <td>...</td>\n      <td>...</td>\n      <td>...</td>\n      <td>...</td>\n    </tr>\n    <tr>\n      <th>292955</th>\n      <td>HOUSE</td>\n      <td>4294898609</td>\n      <td>5</td>\n      <td>KID'S_BEDROOM-WORKSHOP</td>\n      <td>Defender</td>\n      <td>0</td>\n      <td>1</td>\n      <td>0</td>\n      <td>0</td>\n      <td>1</td>\n      <td>...</td>\n      <td>0</td>\n      <td>0</td>\n      <td>0</td>\n      <td>1</td>\n      <td>0</td>\n      <td>0</td>\n      <td>0</td>\n      <td>0</td>\n      <td>0</td>\n      <td>0</td>\n    </tr>\n    <tr>\n      <th>292956</th>\n      <td>HOUSE</td>\n      <td>4294898609</td>\n      <td>6</td>\n      <td>LIVING_ROOM-TRAINING_ROOM</td>\n      <td>Attacker</td>\n      <td>0</td>\n      <td>1</td>\n      <td>0</td>\n      <td>0</td>\n      <td>1</td>\n      <td>...</td>\n      <td>0</td>\n      <td>0</td>\n      <td>1</td>\n      <td>0</td>\n      <td>0</td>\n      <td>0</td>\n      <td>0</td>\n      <td>0</td>\n      <td>0</td>\n      <td>0</td>\n    </tr>\n    <tr>\n      <th>292957</th>\n      <td>HOUSE</td>\n      <td>4294898609</td>\n      <td>7</td>\n      <td>TRAINING_ROOM-GARAGE</td>\n      <td>Defender</td>\n      <td>1</td>\n      <td>1</td>\n      <td>0</td>\n      <td>0</td>\n      <td>0</td>\n      <td>...</td>\n      <td>0</td>\n      <td>0</td>\n      <td>0</td>\n      <td>1</td>\n      <td>0</td>\n      <td>0</td>\n      <td>0</td>\n      <td>0</td>\n      <td>0</td>\n      <td>0</td>\n    </tr>\n    <tr>\n      <th>292958</th>\n      <td>HOUSE</td>\n      <td>4294898609</td>\n      <td>8</td>\n      <td>TRAINING_ROOM-GARAGE</td>\n      <td>Defender</td>\n      <td>0</td>\n      <td>1</td>\n      <td>1</td>\n      <td>0</td>\n      <td>1</td>\n      <td>...</td>\n      <td>0</td>\n      <td>0</td>\n      <td>1</td>\n      <td>0</td>\n      <td>0</td>\n      <td>0</td>\n      <td>0</td>\n      <td>0</td>\n      <td>0</td>\n      <td>0</td>\n    </tr>\n    <tr>\n      <th>292959</th>\n      <td>HOUSE</td>\n      <td>4294898609</td>\n      <td>9</td>\n      <td>KID'S_BEDROOM-WORKSHOP</td>\n      <td>Attacker</td>\n      <td>1</td>\n      <td>1</td>\n      <td>0</td>\n      <td>0</td>\n      <td>1</td>\n      <td>...</td>\n      <td>0</td>\n      <td>0</td>\n      <td>0</td>\n      <td>1</td>\n      <td>0</td>\n      <td>0</td>\n      <td>0</td>\n      <td>0</td>\n      <td>0</td>\n      <td>0</td>\n    </tr>\n  </tbody>\n</table>\n<p>292960 rows × 40 columns</p>\n</div>"
     },
     "execution_count": 20,
     "metadata": {},
     "output_type": "execute_result"
    }
   ],
   "source": [
    "for operator in operator_list:\n",
    "    df_test[f\"OP_{operator}\"] = df_test[f\"OP_{operator}\"].astype(\"int64\")\n",
    "\n",
    "df_test = df_test.drop(columns=[\"role\", \"operator\"], errors=\"ignore\")\n",
    "df_test"
   ],
   "metadata": {
    "collapsed": false,
    "pycharm": {
     "name": "#%%\n"
    }
   }
  },
  {
   "cell_type": "code",
   "execution_count": 21,
   "outputs": [
    {
     "name": "stdout",
     "output_type": "stream",
     "text": [
      "congrats u did it!\n"
     ]
    }
   ],
   "source": [
    "df_test.to_csv(\"./data/hot-encoded-data.csv\")\n",
    "print(\"congrats u did it!\")"
   ],
   "metadata": {
    "collapsed": false,
    "pycharm": {
     "name": "#%%\n"
    }
   }
  },
  {
   "cell_type": "code",
   "execution_count": 155,
   "outputs": [],
   "source": [
    "# df_ops_per_round = df.groupby([\"matchid\", \"roundnumber\"])[\"operator\"].apply(list).reset_index()\n",
    "# df_ops_per_round"
   ],
   "metadata": {
    "collapsed": false,
    "pycharm": {
     "name": "#%%\n"
    }
   }
  },
  {
   "cell_type": "code",
   "execution_count": 156,
   "outputs": [],
   "source": [
    "# def one_hot_encode_ops(row):\n",
    "#     # for operator in operator_list:\n",
    "#     #     row[f\"OP_{operator}\"] = int(operator in row[\"operator\"])\n",
    "#\n",
    "#\n",
    "#     return row"
   ],
   "metadata": {
    "collapsed": false,
    "pycharm": {
     "name": "#%%\n"
    }
   }
  },
  {
   "cell_type": "code",
   "execution_count": 157,
   "outputs": [],
   "source": [
    "# df_ops_per_round.head(10).apply(one_hot_encode_ops, axis=1)\n",
    "# df_ops_per_round = df_ops_per_round.head(1000).apply(one_hot_encode_ops, axis=1)\n",
    "# print(df_ops_per_round.shape)\n",
    "# df_ops_per_round.head()"
   ],
   "metadata": {
    "collapsed": false,
    "pycharm": {
     "name": "#%%\n"
    }
   }
  },
  {
   "cell_type": "code",
   "execution_count": 158,
   "outputs": [],
   "source": [
    "# for operator in operator_list:\n",
    "#     df_ops_per_round[f\"OP_{operator}\"] = int(operator in df_ops_per_round[\"operator\"])\n",
    "#\n",
    "# df_ops_per_round"
   ],
   "metadata": {
    "collapsed": false,
    "pycharm": {
     "name": "#%%\n"
    }
   }
  },
  {
   "cell_type": "code",
   "execution_count": 159,
   "outputs": [],
   "source": [
    "# df_sample = df.loc[(df[\"mapname\"] == \"CHALET\") | (df[\"mapname\"] == \"FAVELAS\") | (df[\"mapname\"] == \"BARTLETT_U.\") | (df[\"mapname\"] == \"HOUSE\")]\n",
    "# df_sample = df.loc[(df[\"mapname\"] == \"CHALET\")]\n",
    "# df_sample = df\n",
    "# df_sample"
   ],
   "metadata": {
    "collapsed": false,
    "pycharm": {
     "name": "#%%\n"
    }
   }
  },
  {
   "cell_type": "code",
   "execution_count": 160,
   "outputs": [],
   "source": [
    "# df_sample_2 = df_sample.groupby([\"matchid\", \"roundnumber\"])[\"operator\"].apply(list).reset_index()\n",
    "# df_sample_2"
   ],
   "metadata": {
    "collapsed": false,
    "pycharm": {
     "name": "#%%\n"
    }
   }
  },
  {
   "cell_type": "code",
   "execution_count": 161,
   "outputs": [],
   "source": [
    "# df_sample_3 = pd.merge(left=df_sample_2, right=df_sample[[\"matchid\", \"roundnumber\", \"mapname\", \"objectivelocation\", \"winrole\"]], on=[\"matchid\", \"roundnumber\"], how=\"inner\").drop_duplicates(subset=[\"matchid\", \"roundnumber\"]).drop(columns=[\"matchid\", \"roundnumber\"])\n",
    "# df_sample_3"
   ],
   "metadata": {
    "collapsed": false,
    "pycharm": {
     "name": "#%%\n"
    }
   }
  },
  {
   "cell_type": "code",
   "execution_count": 162,
   "outputs": [],
   "source": [
    "# df_sample_3[\"nboperators\"] = df_sample_3[\"operator\"].apply(len)\n",
    "# df_sample_3"
   ],
   "metadata": {
    "collapsed": false,
    "pycharm": {
     "name": "#%%\n"
    }
   }
  },
  {
   "cell_type": "code",
   "execution_count": 163,
   "outputs": [],
   "source": [
    "# df_sample_4 = df_sample_3.loc[df_sample_3[\"nboperators\"] == 10]\n",
    "# df_sample_4 = df_sample_4.drop(columns=[\"nboperators\"]).reset_index(drop=True)\n",
    "# df_sample_4"
   ],
   "metadata": {
    "collapsed": false,
    "pycharm": {
     "name": "#%%\n"
    }
   }
  },
  {
   "cell_type": "code",
   "execution_count": 164,
   "outputs": [],
   "source": [
    "# df_sample_5 = pd.DataFrame(df_sample_4['operator'].tolist(), columns=[f\"operator_{x}\" for x in range(1, 11)])\n",
    "# df_sample_5"
   ],
   "metadata": {
    "collapsed": false,
    "pycharm": {
     "name": "#%%\n"
    }
   }
  },
  {
   "cell_type": "code",
   "execution_count": 165,
   "outputs": [],
   "source": [
    "# df_sample_6 = pd.concat([df_sample_4, df_sample_5], axis=1).drop(columns=[\"operator\"])\n",
    "# df_sample_6"
   ],
   "metadata": {
    "collapsed": false,
    "pycharm": {
     "name": "#%%\n"
    }
   }
  },
  {
   "cell_type": "code",
   "execution_count": 166,
   "outputs": [],
   "source": [
    "# df_labels = df_sample_6[\"winrole\"]\n",
    "# df_labels"
   ],
   "metadata": {
    "collapsed": false,
    "pycharm": {
     "name": "#%%\n"
    }
   }
  },
  {
   "cell_type": "code",
   "execution_count": null,
   "outputs": [],
   "source": [
    "# df_sample_7 = df_sample_6.drop(columns=[\"winrole\", \"objectivelocation\"])\n",
    "# df_sample_7"
   ],
   "metadata": {
    "collapsed": false,
    "pycharm": {
     "name": "#%%\n"
    }
   }
  }
 ],
 "metadata": {
  "kernelspec": {
   "display_name": "Python 3",
   "language": "python",
   "name": "python3"
  },
  "language_info": {
   "codemirror_mode": {
    "name": "ipython",
    "version": 2
   },
   "file_extension": ".py",
   "mimetype": "text/x-python",
   "name": "python",
   "nbconvert_exporter": "python",
   "pygments_lexer": "ipython2",
   "version": "2.7.6"
  }
 },
 "nbformat": 4,
 "nbformat_minor": 0
}