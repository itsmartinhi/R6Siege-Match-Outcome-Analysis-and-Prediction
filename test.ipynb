{
 "cells": [
  {
   "cell_type": "code",
   "execution_count": 1,
   "metadata": {
    "collapsed": true
   },
   "outputs": [],
   "source": [
    "import pandas as pd\n",
    "import sys\n",
    "import seaborn as sns\n",
    "import matplotlib.pyplot as plt\n",
    "import numpy as np\n",
    "from sklearn.naive_bayes import MultinomialNB\n",
    "from tqdm import tqdm"
   ]
  },
  {
   "cell_type": "code",
   "execution_count": 2,
   "outputs": [],
   "source": [
    "df = pd.read_csv(\n",
    "    \"./data/data_reduced_all.csv\",\n",
    "    usecols={\n",
    "        \"dateid\",\n",
    "        \"platform\",\n",
    "        \"gamemode\",\n",
    "        \"mapname\",\n",
    "        \"matchid\",\n",
    "        \"roundnumber\",\n",
    "        \"objectivelocation\",\n",
    "        \"winrole\",\n",
    "        \"endroundreason\",\n",
    "        \"roundduration\",\n",
    "        \"clearancelevel\",\n",
    "        \"skillrank\",\n",
    "        \"role\",\n",
    "        \"team\",\n",
    "        \"haswon\",\n",
    "        \"operator\",\n",
    "        \"nbkills\",\n",
    "        \"isdead\"\n",
    "    },\n",
    "    dtype={\n",
    "        # \"dateid\": \"int64\",\n",
    "        \"platform\": \"category\",\n",
    "        \"gamemode\": \"category\",\n",
    "        \"mapname\": \"category\",\n",
    "        \"matchid\": \"int64\",\n",
    "        \"roundnumber\": \"int64\",\n",
    "        \"objectivelocation\": \"category\",\n",
    "        \"winrole\": \"category\",\n",
    "        \"endroundreason\": \"category\",\n",
    "        \"roundduration\": \"int64\",\n",
    "        \"clearancelevel\": \"int64\",\n",
    "        \"skillrank\": \"category\",\n",
    "        \"role\": \"category\",\n",
    "        \"team\": \"int64\",\n",
    "        \"haswon\": \"boolean\",\n",
    "        \"operator\": \"category\",\n",
    "        \"nbkills\": \"int64\",\n",
    "        \"isdead\": \"boolean\"\n",
    "    },\n",
    "    parse_dates=[\"dateid\"]\n",
    ")"
   ],
   "metadata": {
    "collapsed": false,
    "pycharm": {
     "name": "#%%\n"
    }
   }
  },
  {
   "cell_type": "code",
   "execution_count": 4,
   "outputs": [
    {
     "data": {
      "text/plain": "CategoricalDtype(categories=['Unranked', 'Copper', 'Bronze', 'Silver', 'Gold', 'Platinum',\n                  'Diamond'],\n, ordered=False)"
     },
     "execution_count": 4,
     "metadata": {},
     "output_type": "execute_result"
    }
   ],
   "source": [
    "df[\"skillrank\"] = df[\"skillrank\"].cat.reorder_categories([\"Unranked\", \"Copper\", \"Bronze\", \"Silver\", \"Gold\", \"Platinum\", \"Diamond\"])\n",
    "df[\"skillrank\"].dtype"
   ],
   "metadata": {
    "collapsed": false,
    "pycharm": {
     "name": "#%%\n"
    }
   }
  },
  {
   "cell_type": "code",
   "execution_count": 5,
   "outputs": [
    {
     "data": {
      "text/plain": "skillrank\nUnranked    189.0\nCopper      177.0\nBronze      182.0\nSilver      186.0\nGold        191.0\nPlatinum    196.0\nDiamond     196.0\nName: roundduration, dtype: float64"
     },
     "execution_count": 5,
     "metadata": {},
     "output_type": "execute_result"
    }
   ],
   "source": [
    "df.groupby(\"skillrank\")[\"roundduration\"].median()"
   ],
   "metadata": {
    "collapsed": false,
    "pycharm": {
     "name": "#%%\n"
    }
   }
  },
  {
   "cell_type": "code",
   "execution_count": 8,
   "outputs": [
    {
     "data": {
      "text/plain": "  skillrank  median_roundduration\n0  Unranked                 189.0\n1    Copper                 177.0\n2    Bronze                 182.0\n3    Silver                 186.0\n4      Gold                 191.0\n5  Platinum                 196.0\n6   Diamond                 196.0",
      "text/html": "<div>\n<style scoped>\n    .dataframe tbody tr th:only-of-type {\n        vertical-align: middle;\n    }\n\n    .dataframe tbody tr th {\n        vertical-align: top;\n    }\n\n    .dataframe thead th {\n        text-align: right;\n    }\n</style>\n<table border=\"1\" class=\"dataframe\">\n  <thead>\n    <tr style=\"text-align: right;\">\n      <th></th>\n      <th>skillrank</th>\n      <th>median_roundduration</th>\n    </tr>\n  </thead>\n  <tbody>\n    <tr>\n      <th>0</th>\n      <td>Unranked</td>\n      <td>189.0</td>\n    </tr>\n    <tr>\n      <th>1</th>\n      <td>Copper</td>\n      <td>177.0</td>\n    </tr>\n    <tr>\n      <th>2</th>\n      <td>Bronze</td>\n      <td>182.0</td>\n    </tr>\n    <tr>\n      <th>3</th>\n      <td>Silver</td>\n      <td>186.0</td>\n    </tr>\n    <tr>\n      <th>4</th>\n      <td>Gold</td>\n      <td>191.0</td>\n    </tr>\n    <tr>\n      <th>5</th>\n      <td>Platinum</td>\n      <td>196.0</td>\n    </tr>\n    <tr>\n      <th>6</th>\n      <td>Diamond</td>\n      <td>196.0</td>\n    </tr>\n  </tbody>\n</table>\n</div>"
     },
     "execution_count": 8,
     "metadata": {},
     "output_type": "execute_result"
    }
   ],
   "source": [
    "df_plot = df.groupby(\"skillrank\")[\"roundduration\"].median().reset_index(name=\"median_roundduration\")\n",
    "df_plot"
   ],
   "metadata": {
    "collapsed": false,
    "pycharm": {
     "name": "#%%\n"
    }
   }
  },
  {
   "cell_type": "code",
   "execution_count": 9,
   "outputs": [
    {
     "data": {
      "text/plain": "<AxesSubplot:xlabel='skillrank', ylabel='median_roundduration'>"
     },
     "execution_count": 9,
     "metadata": {},
     "output_type": "execute_result"
    },
    {
     "data": {
      "text/plain": "<Figure size 432x288 with 1 Axes>",
      "image/png": "[encoded data removed]"
     },
     "metadata": {},
     "output_type": "display_data"
    }
   ],
   "source": [
    "sns.lineplot(data=df_plot, x=\"skillrank\", y=\"median_roundduration\")"
   ],
   "metadata": {
    "collapsed": false,
    "pycharm": {
     "name": "#%%\n"
    }
   }
  },
  {
   "cell_type": "code",
   "execution_count": 17,
   "outputs": [
    {
     "data": {
      "text/plain": "skillrank                         \nUnranked   DefendersEliminated        0.478453\n           AttackersEliminated        0.360053\n           BombExploded               0.076323\n           DefuserDeactivated         0.060073\n           BombDeactivated_OneBomb    0.021023\n                                        ...   \nDiamond    BombDeactivated_OneBomb    0.013876\n           AttackersSurrendered       0.001982\n           DefendersSurrendered       0.001406\n           AllTeamsDead               0.000993\n           NoEnemies                  0.000011\nName: endroundreason, Length: 63, dtype: float64"
     },
     "execution_count": 17,
     "metadata": {},
     "output_type": "execute_result"
    }
   ],
   "source": [
    "df.groupby(\"skillrank\")[\"endroundreason\"].value_counts(normalize=True)"
   ],
   "metadata": {
    "collapsed": false,
    "pycharm": {
     "name": "#%%\n"
    }
   }
  },
  {
   "cell_type": "code",
   "execution_count": 18,
   "outputs": [
    {
     "data": {
      "text/plain": "skillrank\nUnranked    0.581061\nCopper      0.645451\nBronze      0.669406\nSilver      0.689127\nGold        0.729612\nPlatinum    0.785122\nDiamond     0.875126\nName: nbkills, dtype: float64"
     },
     "execution_count": 18,
     "metadata": {},
     "output_type": "execute_result"
    }
   ],
   "source": [
    "df.groupby(\"skillrank\")[\"nbkills\"].mean()"
   ],
   "metadata": {
    "collapsed": false,
    "pycharm": {
     "name": "#%%\n"
    }
   }
  },
  {
   "cell_type": "code",
   "execution_count": 19,
   "outputs": [
    {
     "data": {
      "text/plain": "skillrank  isdead\nUnranked   True      0.735832\n           False     0.264168\nCopper     True      0.720831\n           False     0.279169\nBronze     True      0.711773\n           False     0.288227\nSilver     True      0.711689\n           False     0.288311\nGold       True      0.706167\n           False     0.293833\nPlatinum   True      0.702191\n           False     0.297809\nDiamond    True      0.669120\n           False     0.330880\nName: isdead, dtype: float64"
     },
     "execution_count": 19,
     "metadata": {},
     "output_type": "execute_result"
    }
   ],
   "source": [
    "df.groupby(\"skillrank\")[\"isdead\"].value_counts(normalize=True)"
   ],
   "metadata": {
    "collapsed": false,
    "pycharm": {
     "name": "#%%\n"
    }
   }
  }
 ],
 "metadata": {
  "kernelspec": {
   "display_name": "Python 3",
   "language": "python",
   "name": "python3"
  },
  "language_info": {
   "codemirror_mode": {
    "name": "ipython",
    "version": 2
   },
   "file_extension": ".py",
   "mimetype": "text/x-python",
   "name": "python",
   "nbconvert_exporter": "python",
   "pygments_lexer": "ipython2",
   "version": "2.7.6"
  }
 },
 "nbformat": 4,
 "nbformat_minor": 0
}