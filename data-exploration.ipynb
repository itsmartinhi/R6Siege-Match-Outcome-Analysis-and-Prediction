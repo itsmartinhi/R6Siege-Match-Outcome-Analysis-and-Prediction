{
 "cells": [
  {
   "cell_type": "code",
   "execution_count": 1,
   "metadata": {
    "collapsed": true
   },
   "outputs": [],
   "source": [
    "import pandas as pd\n",
    "import sys\n",
    "import seaborn as sns\n",
    "import numpy as np\n",
    "from sklearn.naive_bayes import MultinomialNB\n",
    "from tqdm import tqdm"
   ]
  },
  {
   "cell_type": "code",
   "execution_count": 2,
   "outputs": [],
   "source": [
    "df = pd.read_csv(\n",
    "    \"./data/data_reduced.csv\",\n",
    "    usecols={\n",
    "        \"dateid\",\n",
    "        \"platform\",\n",
    "        \"gamemode\",\n",
    "        \"mapname\",\n",
    "        \"matchid\",\n",
    "        \"roundnumber\",\n",
    "        \"objectivelocation\",\n",
    "        \"winrole\",\n",
    "        \"endroundreason\",\n",
    "        \"roundduration\",\n",
    "        \"clearancelevel\",\n",
    "        \"skillrank\",\n",
    "        \"role\",\n",
    "        \"team\",\n",
    "        \"haswon\",\n",
    "        \"operator\",\n",
    "        \"nbkills\",\n",
    "        \"isdead\"\n",
    "    },\n",
    "    dtype={\n",
    "        \"dateid\": \"int64\",\n",
    "        \"platform\": \"category\",\n",
    "        \"gamemode\": \"category\",\n",
    "        \"mapname\": \"category\",\n",
    "        \"matchid\": \"int64\",\n",
    "        \"roundnumber\": \"int64\",\n",
    "        \"objectivelocation\": \"category\",\n",
    "        \"winrole\": \"category\",\n",
    "        \"endroundreason\": \"category\",\n",
    "        \"roundduration\": \"int64\",\n",
    "        \"clearancelevel\": \"int64\",\n",
    "        \"skillrank\": \"category\",\n",
    "        \"role\": \"category\",\n",
    "        \"team\": \"int64\",\n",
    "        \"haswon\": \"boolean\",\n",
    "        \"operator\": \"category\",\n",
    "        \"nbkills\": \"int64\",\n",
    "        \"isdead\": \"boolean\"\n",
    "    },\n",
    ")"
   ],
   "metadata": {
    "collapsed": false,
    "pycharm": {
     "name": "#%%\n"
    }
   }
  },
  {
   "cell_type": "code",
   "execution_count": 3,
   "outputs": [
    {
     "data": {
      "text/plain": "(3889573, 18)"
     },
     "execution_count": 3,
     "metadata": {},
     "output_type": "execute_result"
    }
   ],
   "source": [
    "df.shape"
   ],
   "metadata": {
    "collapsed": false,
    "pycharm": {
     "name": "#%%\n"
    }
   }
  },
  {
   "cell_type": "code",
   "execution_count": 4,
   "outputs": [
    {
     "data": {
      "text/plain": "     dateid platform gamemode      mapname     matchid  roundnumber  \\\n0  20170212       PC     BOMB  BARTLETT_U.  1529883301            6   \n1  20170212       PC     BOMB  BARTLETT_U.  1529883301            2   \n2  20170212       PC     BOMB  BARTLETT_U.  1529883301            4   \n3  20170212       PC     BOMB  BARTLETT_U.  1529883301            6   \n4  20170212       PC     BOMB  BARTLETT_U.  1529883301            7   \n\n           objectivelocation   winrole       endroundreason  roundduration  \\\n0  ROWING_MUSEUM-TROPHY_ROOM  Attacker  DefendersEliminated            246   \n1       READING_ROOM-LIBRARY  Defender  AttackersEliminated            231   \n2         KITCHEN-PIANO_ROOM  Attacker  DefendersEliminated            233   \n3  ROWING_MUSEUM-TROPHY_ROOM  Attacker  DefendersEliminated            246   \n4          CLASSROOM-LIBRARY  Attacker  DefendersEliminated            168   \n\n   clearancelevel skillrank      role  team  haswon     operator  nbkills  \\\n0             147  Platinum  Attacker     1    True    JTF2-BUCK        1   \n1              40  Unranked  Defender     0    True    GIGN-ROOK        0   \n2              60      Gold  Defender     0   False  G.E.O.-MIRA        0   \n3              40  Unranked  Defender     0   False    GIGN-ROOK        0   \n4              56  Unranked  Defender     0   False  SWAT-CASTLE        0   \n\n   isdead  \n0    True  \n1    True  \n2    True  \n3    True  \n4    True  ",
      "text/html": "<div>\n<style scoped>\n    .dataframe tbody tr th:only-of-type {\n        vertical-align: middle;\n    }\n\n    .dataframe tbody tr th {\n        vertical-align: top;\n    }\n\n    .dataframe thead th {\n        text-align: right;\n    }\n</style>\n<table border=\"1\" class=\"dataframe\">\n  <thead>\n    <tr style=\"text-align: right;\">\n      <th></th>\n      <th>dateid</th>\n      <th>platform</th>\n      <th>gamemode</th>\n      <th>mapname</th>\n      <th>matchid</th>\n      <th>roundnumber</th>\n      <th>objectivelocation</th>\n      <th>winrole</th>\n      <th>endroundreason</th>\n      <th>roundduration</th>\n      <th>clearancelevel</th>\n      <th>skillrank</th>\n      <th>role</th>\n      <th>team</th>\n      <th>haswon</th>\n      <th>operator</th>\n      <th>nbkills</th>\n      <th>isdead</th>\n    </tr>\n  </thead>\n  <tbody>\n    <tr>\n      <th>0</th>\n      <td>20170212</td>\n      <td>PC</td>\n      <td>BOMB</td>\n      <td>BARTLETT_U.</td>\n      <td>1529883301</td>\n      <td>6</td>\n      <td>ROWING_MUSEUM-TROPHY_ROOM</td>\n      <td>Attacker</td>\n      <td>DefendersEliminated</td>\n      <td>246</td>\n      <td>147</td>\n      <td>Platinum</td>\n      <td>Attacker</td>\n      <td>1</td>\n      <td>True</td>\n      <td>JTF2-BUCK</td>\n      <td>1</td>\n      <td>True</td>\n    </tr>\n    <tr>\n      <th>1</th>\n      <td>20170212</td>\n      <td>PC</td>\n      <td>BOMB</td>\n      <td>BARTLETT_U.</td>\n      <td>1529883301</td>\n      <td>2</td>\n      <td>READING_ROOM-LIBRARY</td>\n      <td>Defender</td>\n      <td>AttackersEliminated</td>\n      <td>231</td>\n      <td>40</td>\n      <td>Unranked</td>\n      <td>Defender</td>\n      <td>0</td>\n      <td>True</td>\n      <td>GIGN-ROOK</td>\n      <td>0</td>\n      <td>True</td>\n    </tr>\n    <tr>\n      <th>2</th>\n      <td>20170212</td>\n      <td>PC</td>\n      <td>BOMB</td>\n      <td>BARTLETT_U.</td>\n      <td>1529883301</td>\n      <td>4</td>\n      <td>KITCHEN-PIANO_ROOM</td>\n      <td>Attacker</td>\n      <td>DefendersEliminated</td>\n      <td>233</td>\n      <td>60</td>\n      <td>Gold</td>\n      <td>Defender</td>\n      <td>0</td>\n      <td>False</td>\n      <td>G.E.O.-MIRA</td>\n      <td>0</td>\n      <td>True</td>\n    </tr>\n    <tr>\n      <th>3</th>\n      <td>20170212</td>\n      <td>PC</td>\n      <td>BOMB</td>\n      <td>BARTLETT_U.</td>\n      <td>1529883301</td>\n      <td>6</td>\n      <td>ROWING_MUSEUM-TROPHY_ROOM</td>\n      <td>Attacker</td>\n      <td>DefendersEliminated</td>\n      <td>246</td>\n      <td>40</td>\n      <td>Unranked</td>\n      <td>Defender</td>\n      <td>0</td>\n      <td>False</td>\n      <td>GIGN-ROOK</td>\n      <td>0</td>\n      <td>True</td>\n    </tr>\n    <tr>\n      <th>4</th>\n      <td>20170212</td>\n      <td>PC</td>\n      <td>BOMB</td>\n      <td>BARTLETT_U.</td>\n      <td>1529883301</td>\n      <td>7</td>\n      <td>CLASSROOM-LIBRARY</td>\n      <td>Attacker</td>\n      <td>DefendersEliminated</td>\n      <td>168</td>\n      <td>56</td>\n      <td>Unranked</td>\n      <td>Defender</td>\n      <td>0</td>\n      <td>False</td>\n      <td>SWAT-CASTLE</td>\n      <td>0</td>\n      <td>True</td>\n    </tr>\n  </tbody>\n</table>\n</div>"
     },
     "execution_count": 4,
     "metadata": {},
     "output_type": "execute_result"
    }
   ],
   "source": [
    "df.head()"
   ],
   "metadata": {
    "collapsed": false,
    "pycharm": {
     "name": "#%%\n"
    }
   }
  },
  {
   "cell_type": "code",
   "execution_count": 6,
   "outputs": [
    {
     "name": "stdout",
     "output_type": "stream",
     "text": [
      "255.96 mb\n"
     ]
    }
   ],
   "source": [
    "def print_size(df):\n",
    "    print(round(sys.getsizeof(df) / (1024 ** 2), 2), \"mb\")\n",
    "\n",
    "print_size(df)"
   ],
   "metadata": {
    "collapsed": false,
    "pycharm": {
     "name": "#%%\n"
    }
   }
  },
  {
   "cell_type": "code",
   "execution_count": 7,
   "outputs": [
    {
     "data": {
      "text/plain": "Defender    2032656\nAttacker    1856917\nName: winrole, dtype: int64"
     },
     "execution_count": 7,
     "metadata": {},
     "output_type": "execute_result"
    }
   ],
   "source": [
    "df[\"winrole\"].value_counts(dropna=False)"
   ],
   "metadata": {
    "collapsed": false,
    "pycharm": {
     "name": "#%%\n"
    }
   }
  },
  {
   "cell_type": "code",
   "execution_count": 8,
   "outputs": [
    {
     "data": {
      "text/plain": "HOUSE               255100\nKAFE_DOSTOYEVSKY    252848\nCLUB_HOUSE          250387\nCHALET              248992\nOREGON              248659\nKANAL               247234\nHEREFORD_BASE       245882\nPLANE               244267\nSKYSCRAPER          243444\nCONSULATE           240936\nBANK                240288\nBORDER              238590\nBARTLETT_U.         237370\nYACHT               237142\nFAVELAS             236969\nCOASTLINE           221465\nName: mapname, dtype: int64"
     },
     "execution_count": 8,
     "metadata": {},
     "output_type": "execute_result"
    }
   ],
   "source": [
    "df[\"mapname\"].value_counts()"
   ],
   "metadata": {
    "collapsed": false,
    "pycharm": {
     "name": "#%%\n"
    }
   }
  },
  {
   "cell_type": "code",
   "execution_count": 10,
   "outputs": [
    {
     "data": {
      "text/plain": "(8785348, 12)"
     },
     "execution_count": 10,
     "metadata": {},
     "output_type": "execute_result"
    }
   ],
   "source": [
    "test = pd.read_csv(\"./data/datadump_s5_summary_objectives.csv\")\n",
    "test.shape"
   ],
   "metadata": {
    "collapsed": false,
    "pycharm": {
     "name": "#%%\n"
    }
   }
  },
  {
   "cell_type": "code",
   "execution_count": 21,
   "outputs": [
    {
     "data": {
      "text/plain": "  platform    dateid gamemode mapname            objectivelocation skillrank  \\\n0       PC  20170210     BOMB    BANK  EXECUTIVE_LOUNGE-CEO_OFFICE    Bronze   \n1       PC  20170210     BOMB    BANK  EXECUTIVE_LOUNGE-CEO_OFFICE    Bronze   \n2       PC  20170210     BOMB    BANK  EXECUTIVE_LOUNGE-CEO_OFFICE    Bronze   \n3       PC  20170210     BOMB    BANK  EXECUTIVE_LOUNGE-CEO_OFFICE    Bronze   \n4       PC  20170210     BOMB    BANK  EXECUTIVE_LOUNGE-CEO_OFFICE    Bronze   \n\n       role       operator  nbwins  nbkills  nbdeaths  nbpicks  \n0  Attacker  G.E.O.-JACKAL       0        0         1        1  \n1  Attacker  GIGN-MONTAGNE       1        0         2        3  \n2  Attacker        GSG9-IQ       0        0         1        1  \n3  Attacker      JTF2-BUCK       0        0         1        1  \n4  Attacker   SAS-THATCHER       0        0         1        1  ",
      "text/html": "<div>\n<style scoped>\n    .dataframe tbody tr th:only-of-type {\n        vertical-align: middle;\n    }\n\n    .dataframe tbody tr th {\n        vertical-align: top;\n    }\n\n    .dataframe thead th {\n        text-align: right;\n    }\n</style>\n<table border=\"1\" class=\"dataframe\">\n  <thead>\n    <tr style=\"text-align: right;\">\n      <th></th>\n      <th>platform</th>\n      <th>dateid</th>\n      <th>gamemode</th>\n      <th>mapname</th>\n      <th>objectivelocation</th>\n      <th>skillrank</th>\n      <th>role</th>\n      <th>operator</th>\n      <th>nbwins</th>\n      <th>nbkills</th>\n      <th>nbdeaths</th>\n      <th>nbpicks</th>\n    </tr>\n  </thead>\n  <tbody>\n    <tr>\n      <th>0</th>\n      <td>PC</td>\n      <td>20170210</td>\n      <td>BOMB</td>\n      <td>BANK</td>\n      <td>EXECUTIVE_LOUNGE-CEO_OFFICE</td>\n      <td>Bronze</td>\n      <td>Attacker</td>\n      <td>G.E.O.-JACKAL</td>\n      <td>0</td>\n      <td>0</td>\n      <td>1</td>\n      <td>1</td>\n    </tr>\n    <tr>\n      <th>1</th>\n      <td>PC</td>\n      <td>20170210</td>\n      <td>BOMB</td>\n      <td>BANK</td>\n      <td>EXECUTIVE_LOUNGE-CEO_OFFICE</td>\n      <td>Bronze</td>\n      <td>Attacker</td>\n      <td>GIGN-MONTAGNE</td>\n      <td>1</td>\n      <td>0</td>\n      <td>2</td>\n      <td>3</td>\n    </tr>\n    <tr>\n      <th>2</th>\n      <td>PC</td>\n      <td>20170210</td>\n      <td>BOMB</td>\n      <td>BANK</td>\n      <td>EXECUTIVE_LOUNGE-CEO_OFFICE</td>\n      <td>Bronze</td>\n      <td>Attacker</td>\n      <td>GSG9-IQ</td>\n      <td>0</td>\n      <td>0</td>\n      <td>1</td>\n      <td>1</td>\n    </tr>\n    <tr>\n      <th>3</th>\n      <td>PC</td>\n      <td>20170210</td>\n      <td>BOMB</td>\n      <td>BANK</td>\n      <td>EXECUTIVE_LOUNGE-CEO_OFFICE</td>\n      <td>Bronze</td>\n      <td>Attacker</td>\n      <td>JTF2-BUCK</td>\n      <td>0</td>\n      <td>0</td>\n      <td>1</td>\n      <td>1</td>\n    </tr>\n    <tr>\n      <th>4</th>\n      <td>PC</td>\n      <td>20170210</td>\n      <td>BOMB</td>\n      <td>BANK</td>\n      <td>EXECUTIVE_LOUNGE-CEO_OFFICE</td>\n      <td>Bronze</td>\n      <td>Attacker</td>\n      <td>SAS-THATCHER</td>\n      <td>0</td>\n      <td>0</td>\n      <td>1</td>\n      <td>1</td>\n    </tr>\n  </tbody>\n</table>\n</div>"
     },
     "execution_count": 21,
     "metadata": {},
     "output_type": "execute_result"
    }
   ],
   "source": [
    "test.head()"
   ],
   "metadata": {
    "collapsed": false,
    "pycharm": {
     "name": "#%%\n"
    }
   }
  },
  {
   "cell_type": "code",
   "execution_count": 22,
   "outputs": [
    {
     "data": {
      "text/plain": "    mapname      role           operator  nbwins  nbkills  nbdeaths  nbpicks\n0      BANK  Attacker       BOPE-CAPITAO   43342    59347     65445    90290\n1      BANK  Attacker      G.E.O.-JACKAL  117301   179952    168240   239529\n2      BANK  Attacker      GIGN-MONTAGNE   50908    43913     77346   109711\n3      BANK  Attacker       GIGN-RESERVE    1949     2046      2996     4231\n4      BANK  Attacker        GIGN-TWITCH  135596   197271    181915   275564\n..      ...       ...                ...     ...      ...       ...      ...\n635   YACHT  Defender   SPETSNAZ-RESERVE    1886     2230      3362     4257\n636   YACHT  Defender  SPETSNAZ-TACHANKA    9582    10868     15477    21121\n637   YACHT  Defender        SWAT-CASTLE   52463    59472     77938   107544\n638   YACHT  Defender         SWAT-PULSE   89467   125819    134204   180387\n639   YACHT  Defender       SWAT-RESERVE    2131     2433      3786     4768\n\n[640 rows x 7 columns]",
      "text/html": "<div>\n<style scoped>\n    .dataframe tbody tr th:only-of-type {\n        vertical-align: middle;\n    }\n\n    .dataframe tbody tr th {\n        vertical-align: top;\n    }\n\n    .dataframe thead th {\n        text-align: right;\n    }\n</style>\n<table border=\"1\" class=\"dataframe\">\n  <thead>\n    <tr style=\"text-align: right;\">\n      <th></th>\n      <th>mapname</th>\n      <th>role</th>\n      <th>operator</th>\n      <th>nbwins</th>\n      <th>nbkills</th>\n      <th>nbdeaths</th>\n      <th>nbpicks</th>\n    </tr>\n  </thead>\n  <tbody>\n    <tr>\n      <th>0</th>\n      <td>BANK</td>\n      <td>Attacker</td>\n      <td>BOPE-CAPITAO</td>\n      <td>43342</td>\n      <td>59347</td>\n      <td>65445</td>\n      <td>90290</td>\n    </tr>\n    <tr>\n      <th>1</th>\n      <td>BANK</td>\n      <td>Attacker</td>\n      <td>G.E.O.-JACKAL</td>\n      <td>117301</td>\n      <td>179952</td>\n      <td>168240</td>\n      <td>239529</td>\n    </tr>\n    <tr>\n      <th>2</th>\n      <td>BANK</td>\n      <td>Attacker</td>\n      <td>GIGN-MONTAGNE</td>\n      <td>50908</td>\n      <td>43913</td>\n      <td>77346</td>\n      <td>109711</td>\n    </tr>\n    <tr>\n      <th>3</th>\n      <td>BANK</td>\n      <td>Attacker</td>\n      <td>GIGN-RESERVE</td>\n      <td>1949</td>\n      <td>2046</td>\n      <td>2996</td>\n      <td>4231</td>\n    </tr>\n    <tr>\n      <th>4</th>\n      <td>BANK</td>\n      <td>Attacker</td>\n      <td>GIGN-TWITCH</td>\n      <td>135596</td>\n      <td>197271</td>\n      <td>181915</td>\n      <td>275564</td>\n    </tr>\n    <tr>\n      <th>...</th>\n      <td>...</td>\n      <td>...</td>\n      <td>...</td>\n      <td>...</td>\n      <td>...</td>\n      <td>...</td>\n      <td>...</td>\n    </tr>\n    <tr>\n      <th>635</th>\n      <td>YACHT</td>\n      <td>Defender</td>\n      <td>SPETSNAZ-RESERVE</td>\n      <td>1886</td>\n      <td>2230</td>\n      <td>3362</td>\n      <td>4257</td>\n    </tr>\n    <tr>\n      <th>636</th>\n      <td>YACHT</td>\n      <td>Defender</td>\n      <td>SPETSNAZ-TACHANKA</td>\n      <td>9582</td>\n      <td>10868</td>\n      <td>15477</td>\n      <td>21121</td>\n    </tr>\n    <tr>\n      <th>637</th>\n      <td>YACHT</td>\n      <td>Defender</td>\n      <td>SWAT-CASTLE</td>\n      <td>52463</td>\n      <td>59472</td>\n      <td>77938</td>\n      <td>107544</td>\n    </tr>\n    <tr>\n      <th>638</th>\n      <td>YACHT</td>\n      <td>Defender</td>\n      <td>SWAT-PULSE</td>\n      <td>89467</td>\n      <td>125819</td>\n      <td>134204</td>\n      <td>180387</td>\n    </tr>\n    <tr>\n      <th>639</th>\n      <td>YACHT</td>\n      <td>Defender</td>\n      <td>SWAT-RESERVE</td>\n      <td>2131</td>\n      <td>2433</td>\n      <td>3786</td>\n      <td>4768</td>\n    </tr>\n  </tbody>\n</table>\n<p>640 rows × 7 columns</p>\n</div>"
     },
     "execution_count": 22,
     "metadata": {},
     "output_type": "execute_result"
    }
   ],
   "source": [
    "df_maps = test.groupby([\"mapname\", \"operator\"], as_index=False)[['nbwins', 'nbkills', 'nbdeaths', 'nbpicks']].sum()\n",
    "df_maps"
   ],
   "metadata": {
    "collapsed": false,
    "pycharm": {
     "name": "#%%\n"
    }
   }
  },
  {
   "cell_type": "code",
   "execution_count": 24,
   "outputs": [
    {
     "data": {
      "text/plain": "    mapname      role           operator  nbwins  nbkills  nbdeaths  nbpicks  \\\n0      BANK  Attacker       BOPE-CAPITAO   43342    59347     65445    90290   \n1      BANK  Attacker      G.E.O.-JACKAL  117301   179952    168240   239529   \n2      BANK  Attacker      GIGN-MONTAGNE   50908    43913     77346   109711   \n3      BANK  Attacker       GIGN-RESERVE    1949     2046      2996     4231   \n4      BANK  Attacker        GIGN-TWITCH  135596   197271    181915   275564   \n..      ...       ...                ...     ...      ...       ...      ...   \n635   YACHT  Defender   SPETSNAZ-RESERVE    1886     2230      3362     4257   \n636   YACHT  Defender  SPETSNAZ-TACHANKA    9582    10868     15477    21121   \n637   YACHT  Defender        SWAT-CASTLE   52463    59472     77938   107544   \n638   YACHT  Defender         SWAT-PULSE   89467   125819    134204   180387   \n639   YACHT  Defender       SWAT-RESERVE    2131     2433      3786     4768   \n\n     kd_ratio  win_ratio  \n0    0.480031   0.480031  \n1    0.489715   0.489715  \n2    0.464019   0.464019  \n3    0.460648   0.460648  \n4    0.492067   0.492067  \n..        ...        ...  \n635  0.443035   0.443035  \n636  0.453672   0.453672  \n637  0.487828   0.487828  \n638  0.495973   0.495973  \n639  0.446938   0.446938  \n\n[640 rows x 9 columns]",
      "text/html": "<div>\n<style scoped>\n    .dataframe tbody tr th:only-of-type {\n        vertical-align: middle;\n    }\n\n    .dataframe tbody tr th {\n        vertical-align: top;\n    }\n\n    .dataframe thead th {\n        text-align: right;\n    }\n</style>\n<table border=\"1\" class=\"dataframe\">\n  <thead>\n    <tr style=\"text-align: right;\">\n      <th></th>\n      <th>mapname</th>\n      <th>role</th>\n      <th>operator</th>\n      <th>nbwins</th>\n      <th>nbkills</th>\n      <th>nbdeaths</th>\n      <th>nbpicks</th>\n      <th>kd_ratio</th>\n      <th>win_ratio</th>\n    </tr>\n  </thead>\n  <tbody>\n    <tr>\n      <th>0</th>\n      <td>BANK</td>\n      <td>Attacker</td>\n      <td>BOPE-CAPITAO</td>\n      <td>43342</td>\n      <td>59347</td>\n      <td>65445</td>\n      <td>90290</td>\n      <td>0.480031</td>\n      <td>0.480031</td>\n    </tr>\n    <tr>\n      <th>1</th>\n      <td>BANK</td>\n      <td>Attacker</td>\n      <td>G.E.O.-JACKAL</td>\n      <td>117301</td>\n      <td>179952</td>\n      <td>168240</td>\n      <td>239529</td>\n      <td>0.489715</td>\n      <td>0.489715</td>\n    </tr>\n    <tr>\n      <th>2</th>\n      <td>BANK</td>\n      <td>Attacker</td>\n      <td>GIGN-MONTAGNE</td>\n      <td>50908</td>\n      <td>43913</td>\n      <td>77346</td>\n      <td>109711</td>\n      <td>0.464019</td>\n      <td>0.464019</td>\n    </tr>\n    <tr>\n      <th>3</th>\n      <td>BANK</td>\n      <td>Attacker</td>\n      <td>GIGN-RESERVE</td>\n      <td>1949</td>\n      <td>2046</td>\n      <td>2996</td>\n      <td>4231</td>\n      <td>0.460648</td>\n      <td>0.460648</td>\n    </tr>\n    <tr>\n      <th>4</th>\n      <td>BANK</td>\n      <td>Attacker</td>\n      <td>GIGN-TWITCH</td>\n      <td>135596</td>\n      <td>197271</td>\n      <td>181915</td>\n      <td>275564</td>\n      <td>0.492067</td>\n      <td>0.492067</td>\n    </tr>\n    <tr>\n      <th>...</th>\n      <td>...</td>\n      <td>...</td>\n      <td>...</td>\n      <td>...</td>\n      <td>...</td>\n      <td>...</td>\n      <td>...</td>\n      <td>...</td>\n      <td>...</td>\n    </tr>\n    <tr>\n      <th>635</th>\n      <td>YACHT</td>\n      <td>Defender</td>\n      <td>SPETSNAZ-RESERVE</td>\n      <td>1886</td>\n      <td>2230</td>\n      <td>3362</td>\n      <td>4257</td>\n      <td>0.443035</td>\n      <td>0.443035</td>\n    </tr>\n    <tr>\n      <th>636</th>\n      <td>YACHT</td>\n      <td>Defender</td>\n      <td>SPETSNAZ-TACHANKA</td>\n      <td>9582</td>\n      <td>10868</td>\n      <td>15477</td>\n      <td>21121</td>\n      <td>0.453672</td>\n      <td>0.453672</td>\n    </tr>\n    <tr>\n      <th>637</th>\n      <td>YACHT</td>\n      <td>Defender</td>\n      <td>SWAT-CASTLE</td>\n      <td>52463</td>\n      <td>59472</td>\n      <td>77938</td>\n      <td>107544</td>\n      <td>0.487828</td>\n      <td>0.487828</td>\n    </tr>\n    <tr>\n      <th>638</th>\n      <td>YACHT</td>\n      <td>Defender</td>\n      <td>SWAT-PULSE</td>\n      <td>89467</td>\n      <td>125819</td>\n      <td>134204</td>\n      <td>180387</td>\n      <td>0.495973</td>\n      <td>0.495973</td>\n    </tr>\n    <tr>\n      <th>639</th>\n      <td>YACHT</td>\n      <td>Defender</td>\n      <td>SWAT-RESERVE</td>\n      <td>2131</td>\n      <td>2433</td>\n      <td>3786</td>\n      <td>4768</td>\n      <td>0.446938</td>\n      <td>0.446938</td>\n    </tr>\n  </tbody>\n</table>\n<p>640 rows × 9 columns</p>\n</div>"
     },
     "execution_count": 24,
     "metadata": {},
     "output_type": "execute_result"
    }
   ],
   "source": [
    "df_maps[\"win_ratio\"] = df_maps[\"nbwins\"] / df_maps[\"nbpicks\"]\n",
    "df_maps"
   ],
   "metadata": {
    "collapsed": false,
    "pycharm": {
     "name": "#%%\n"
    }
   }
  },
  {
   "cell_type": "code",
   "execution_count": 25,
   "outputs": [
    {
     "data": {
      "text/plain": "    mapname      role           operator  nbwins  nbkills  nbdeaths  nbpicks  \\\n0      BANK  Attacker       BOPE-CAPITAO   43342    59347     65445    90290   \n1      BANK  Attacker      G.E.O.-JACKAL  117301   179952    168240   239529   \n2      BANK  Attacker      GIGN-MONTAGNE   50908    43913     77346   109711   \n3      BANK  Attacker       GIGN-RESERVE    1949     2046      2996     4231   \n4      BANK  Attacker        GIGN-TWITCH  135596   197271    181915   275564   \n..      ...       ...                ...     ...      ...       ...      ...   \n635   YACHT  Defender   SPETSNAZ-RESERVE    1886     2230      3362     4257   \n636   YACHT  Defender  SPETSNAZ-TACHANKA    9582    10868     15477    21121   \n637   YACHT  Defender        SWAT-CASTLE   52463    59472     77938   107544   \n638   YACHT  Defender         SWAT-PULSE   89467   125819    134204   180387   \n639   YACHT  Defender       SWAT-RESERVE    2131     2433      3786     4768   \n\n     kd_ratio  win_ratio  \n0    0.906823   0.480031  \n1    1.069615   0.489715  \n2    0.567748   0.464019  \n3    0.682911   0.460648  \n4    1.084413   0.492067  \n..        ...        ...  \n635  0.663296   0.443035  \n636  0.702203   0.453672  \n637  0.763068   0.487828  \n638  0.937520   0.495973  \n639  0.642631   0.446938  \n\n[640 rows x 9 columns]",
      "text/html": "<div>\n<style scoped>\n    .dataframe tbody tr th:only-of-type {\n        vertical-align: middle;\n    }\n\n    .dataframe tbody tr th {\n        vertical-align: top;\n    }\n\n    .dataframe thead th {\n        text-align: right;\n    }\n</style>\n<table border=\"1\" class=\"dataframe\">\n  <thead>\n    <tr style=\"text-align: right;\">\n      <th></th>\n      <th>mapname</th>\n      <th>role</th>\n      <th>operator</th>\n      <th>nbwins</th>\n      <th>nbkills</th>\n      <th>nbdeaths</th>\n      <th>nbpicks</th>\n      <th>kd_ratio</th>\n      <th>win_ratio</th>\n    </tr>\n  </thead>\n  <tbody>\n    <tr>\n      <th>0</th>\n      <td>BANK</td>\n      <td>Attacker</td>\n      <td>BOPE-CAPITAO</td>\n      <td>43342</td>\n      <td>59347</td>\n      <td>65445</td>\n      <td>90290</td>\n      <td>0.906823</td>\n      <td>0.480031</td>\n    </tr>\n    <tr>\n      <th>1</th>\n      <td>BANK</td>\n      <td>Attacker</td>\n      <td>G.E.O.-JACKAL</td>\n      <td>117301</td>\n      <td>179952</td>\n      <td>168240</td>\n      <td>239529</td>\n      <td>1.069615</td>\n      <td>0.489715</td>\n    </tr>\n    <tr>\n      <th>2</th>\n      <td>BANK</td>\n      <td>Attacker</td>\n      <td>GIGN-MONTAGNE</td>\n      <td>50908</td>\n      <td>43913</td>\n      <td>77346</td>\n      <td>109711</td>\n      <td>0.567748</td>\n      <td>0.464019</td>\n    </tr>\n    <tr>\n      <th>3</th>\n      <td>BANK</td>\n      <td>Attacker</td>\n      <td>GIGN-RESERVE</td>\n      <td>1949</td>\n      <td>2046</td>\n      <td>2996</td>\n      <td>4231</td>\n      <td>0.682911</td>\n      <td>0.460648</td>\n    </tr>\n    <tr>\n      <th>4</th>\n      <td>BANK</td>\n      <td>Attacker</td>\n      <td>GIGN-TWITCH</td>\n      <td>135596</td>\n      <td>197271</td>\n      <td>181915</td>\n      <td>275564</td>\n      <td>1.084413</td>\n      <td>0.492067</td>\n    </tr>\n    <tr>\n      <th>...</th>\n      <td>...</td>\n      <td>...</td>\n      <td>...</td>\n      <td>...</td>\n      <td>...</td>\n      <td>...</td>\n      <td>...</td>\n      <td>...</td>\n      <td>...</td>\n    </tr>\n    <tr>\n      <th>635</th>\n      <td>YACHT</td>\n      <td>Defender</td>\n      <td>SPETSNAZ-RESERVE</td>\n      <td>1886</td>\n      <td>2230</td>\n      <td>3362</td>\n      <td>4257</td>\n      <td>0.663296</td>\n      <td>0.443035</td>\n    </tr>\n    <tr>\n      <th>636</th>\n      <td>YACHT</td>\n      <td>Defender</td>\n      <td>SPETSNAZ-TACHANKA</td>\n      <td>9582</td>\n      <td>10868</td>\n      <td>15477</td>\n      <td>21121</td>\n      <td>0.702203</td>\n      <td>0.453672</td>\n    </tr>\n    <tr>\n      <th>637</th>\n      <td>YACHT</td>\n      <td>Defender</td>\n      <td>SWAT-CASTLE</td>\n      <td>52463</td>\n      <td>59472</td>\n      <td>77938</td>\n      <td>107544</td>\n      <td>0.763068</td>\n      <td>0.487828</td>\n    </tr>\n    <tr>\n      <th>638</th>\n      <td>YACHT</td>\n      <td>Defender</td>\n      <td>SWAT-PULSE</td>\n      <td>89467</td>\n      <td>125819</td>\n      <td>134204</td>\n      <td>180387</td>\n      <td>0.937520</td>\n      <td>0.495973</td>\n    </tr>\n    <tr>\n      <th>639</th>\n      <td>YACHT</td>\n      <td>Defender</td>\n      <td>SWAT-RESERVE</td>\n      <td>2131</td>\n      <td>2433</td>\n      <td>3786</td>\n      <td>4768</td>\n      <td>0.642631</td>\n      <td>0.446938</td>\n    </tr>\n  </tbody>\n</table>\n<p>640 rows × 9 columns</p>\n</div>"
     },
     "execution_count": 25,
     "metadata": {},
     "output_type": "execute_result"
    }
   ],
   "source": [
    "df_maps[\"kd_ratio\"] = df_maps[\"nbkills\"] / df_maps[\"nbdeaths\"]\n",
    "df_maps"
   ],
   "metadata": {
    "collapsed": false,
    "pycharm": {
     "name": "#%%\n"
    }
   }
  },
  {
   "cell_type": "code",
   "execution_count": 27,
   "outputs": [
    {
     "data": {
      "text/plain": "             mapname      role   nbwins  nbkills  nbdeaths  nbpicks  \\\n0               BANK  Attacker  1291581  1887730   1870105  2675126   \n1               BANK  Defender  1447407  1864148   1896745  2699571   \n2        BARTLETT_U.  Attacker  1241273  1815176   1852964  2628860   \n3        BARTLETT_U.  Defender  1452915  1848806   1829067  2654339   \n4             BORDER  Attacker  1341549  1914519   1879312  2667897   \n5             BORDER  Defender  1387612  1874116   1929287  2692283   \n6             CHALET  Attacker  1477725  1999576   1794663  2694804   \n7             CHALET  Defender  1273391  1790878   2010119  2717417   \n8         CLUB_HOUSE  Attacker  1402386  1972144   1843063  2696048   \n9         CLUB_HOUSE  Defender  1351948  1837548   1979480  2718838   \n10         COASTLINE  Attacker  1247294  1742097   1646625  2408266   \n11         COASTLINE  Defender  1215578  1644691   1755073  2431416   \n12         CONSULATE  Attacker  1321208  1907107   1858984  2671091   \n13         CONSULATE  Defender  1412682  1855302   1916316  2695575   \n14           FAVELAS  Attacker  1471518  1981734   1788029  2676542   \n15           FAVELAS  Defender  1261731  1772928   1994282  2698350   \n16     HEREFORD_BASE  Attacker  1339180  1944271   1909760  2710470   \n17     HEREFORD_BASE  Defender  1430170  1900413   1956945  2733893   \n18             HOUSE  Attacker  1530782  2083279   1873715  2810301   \n19             HOUSE  Defender  1333455  1870559   2100789  2831929   \n20  KAFE_DOSTOYEVSKY  Attacker  1374446  1947544   1830243  2671517   \n21  KAFE_DOSTOYEVSKY  Defender  1358460  1823020   1955415  2695856   \n22             KANAL  Attacker  1348911  1925998   1844556  2678901   \n23             KANAL  Defender  1390899  1831525   1938112  2701823   \n24            OREGON  Attacker  1363831  1942086   1895588  2710596   \n25            OREGON  Defender  1405993  1889590   1949898  2734313   \n26             PLANE  Attacker  1322632  1949836   1894039  2702067   \n27             PLANE  Defender  1434836  1879791   1961350  2724581   \n28        SKYSCRAPER  Attacker  1369083  1931257   1884982  2693835   \n29        SKYSCRAPER  Defender  1384795  1879529   1949854  2719124   \n30             YACHT  Attacker  1373545  1944527   1871200  2684466   \n31             YACHT  Defender  1374108  1864232   1954751  2709617   \n\n    win_ratio  kd_ratio  \n0    0.482811  1.009425  \n1    0.536162  0.982814  \n2    0.472172  0.979607  \n3    0.547374  1.010792  \n4    0.502849  1.018734  \n5    0.515403  0.971403  \n6    0.548361  1.114179  \n7    0.468603  0.890931  \n8    0.520164  1.070036  \n9    0.497252  0.928298  \n10   0.517922  1.057980  \n11   0.499947  0.937107  \n12   0.494632  1.025887  \n13   0.524074  0.968161  \n14   0.549783  1.108334  \n15   0.467594  0.889006  \n16   0.494077  1.018071  \n17   0.523126  0.971112  \n18   0.544704  1.111844  \n19   0.470865  0.890408  \n20   0.514481  1.064090  \n21   0.503907  0.932293  \n22   0.503531  1.044153  \n23   0.514800  0.945005  \n24   0.503148  1.024530  \n25   0.514203  0.969071  \n26   0.489489  1.029459  \n27   0.526626  0.958417  \n28   0.508228  1.024549  \n29   0.509280  0.963933  \n30   0.511664  1.039187  \n31   0.507123  0.953693  ",
      "text/html": "<div>\n<style scoped>\n    .dataframe tbody tr th:only-of-type {\n        vertical-align: middle;\n    }\n\n    .dataframe tbody tr th {\n        vertical-align: top;\n    }\n\n    .dataframe thead th {\n        text-align: right;\n    }\n</style>\n<table border=\"1\" class=\"dataframe\">\n  <thead>\n    <tr style=\"text-align: right;\">\n      <th></th>\n      <th>mapname</th>\n      <th>role</th>\n      <th>nbwins</th>\n      <th>nbkills</th>\n      <th>nbdeaths</th>\n      <th>nbpicks</th>\n      <th>win_ratio</th>\n      <th>kd_ratio</th>\n    </tr>\n  </thead>\n  <tbody>\n    <tr>\n      <th>0</th>\n      <td>BANK</td>\n      <td>Attacker</td>\n      <td>1291581</td>\n      <td>1887730</td>\n      <td>1870105</td>\n      <td>2675126</td>\n      <td>0.482811</td>\n      <td>1.009425</td>\n    </tr>\n    <tr>\n      <th>1</th>\n      <td>BANK</td>\n      <td>Defender</td>\n      <td>1447407</td>\n      <td>1864148</td>\n      <td>1896745</td>\n      <td>2699571</td>\n      <td>0.536162</td>\n      <td>0.982814</td>\n    </tr>\n    <tr>\n      <th>2</th>\n      <td>BARTLETT_U.</td>\n      <td>Attacker</td>\n      <td>1241273</td>\n      <td>1815176</td>\n      <td>1852964</td>\n      <td>2628860</td>\n      <td>0.472172</td>\n      <td>0.979607</td>\n    </tr>\n    <tr>\n      <th>3</th>\n      <td>BARTLETT_U.</td>\n      <td>Defender</td>\n      <td>1452915</td>\n      <td>1848806</td>\n      <td>1829067</td>\n      <td>2654339</td>\n      <td>0.547374</td>\n      <td>1.010792</td>\n    </tr>\n    <tr>\n      <th>4</th>\n      <td>BORDER</td>\n      <td>Attacker</td>\n      <td>1341549</td>\n      <td>1914519</td>\n      <td>1879312</td>\n      <td>2667897</td>\n      <td>0.502849</td>\n      <td>1.018734</td>\n    </tr>\n    <tr>\n      <th>5</th>\n      <td>BORDER</td>\n      <td>Defender</td>\n      <td>1387612</td>\n      <td>1874116</td>\n      <td>1929287</td>\n      <td>2692283</td>\n      <td>0.515403</td>\n      <td>0.971403</td>\n    </tr>\n    <tr>\n      <th>6</th>\n      <td>CHALET</td>\n      <td>Attacker</td>\n      <td>1477725</td>\n      <td>1999576</td>\n      <td>1794663</td>\n      <td>2694804</td>\n      <td>0.548361</td>\n      <td>1.114179</td>\n    </tr>\n    <tr>\n      <th>7</th>\n      <td>CHALET</td>\n      <td>Defender</td>\n      <td>1273391</td>\n      <td>1790878</td>\n      <td>2010119</td>\n      <td>2717417</td>\n      <td>0.468603</td>\n      <td>0.890931</td>\n    </tr>\n    <tr>\n      <th>8</th>\n      <td>CLUB_HOUSE</td>\n      <td>Attacker</td>\n      <td>1402386</td>\n      <td>1972144</td>\n      <td>1843063</td>\n      <td>2696048</td>\n      <td>0.520164</td>\n      <td>1.070036</td>\n    </tr>\n    <tr>\n      <th>9</th>\n      <td>CLUB_HOUSE</td>\n      <td>Defender</td>\n      <td>1351948</td>\n      <td>1837548</td>\n      <td>1979480</td>\n      <td>2718838</td>\n      <td>0.497252</td>\n      <td>0.928298</td>\n    </tr>\n    <tr>\n      <th>10</th>\n      <td>COASTLINE</td>\n      <td>Attacker</td>\n      <td>1247294</td>\n      <td>1742097</td>\n      <td>1646625</td>\n      <td>2408266</td>\n      <td>0.517922</td>\n      <td>1.057980</td>\n    </tr>\n    <tr>\n      <th>11</th>\n      <td>COASTLINE</td>\n      <td>Defender</td>\n      <td>1215578</td>\n      <td>1644691</td>\n      <td>1755073</td>\n      <td>2431416</td>\n      <td>0.499947</td>\n      <td>0.937107</td>\n    </tr>\n    <tr>\n      <th>12</th>\n      <td>CONSULATE</td>\n      <td>Attacker</td>\n      <td>1321208</td>\n      <td>1907107</td>\n      <td>1858984</td>\n      <td>2671091</td>\n      <td>0.494632</td>\n      <td>1.025887</td>\n    </tr>\n    <tr>\n      <th>13</th>\n      <td>CONSULATE</td>\n      <td>Defender</td>\n      <td>1412682</td>\n      <td>1855302</td>\n      <td>1916316</td>\n      <td>2695575</td>\n      <td>0.524074</td>\n      <td>0.968161</td>\n    </tr>\n    <tr>\n      <th>14</th>\n      <td>FAVELAS</td>\n      <td>Attacker</td>\n      <td>1471518</td>\n      <td>1981734</td>\n      <td>1788029</td>\n      <td>2676542</td>\n      <td>0.549783</td>\n      <td>1.108334</td>\n    </tr>\n    <tr>\n      <th>15</th>\n      <td>FAVELAS</td>\n      <td>Defender</td>\n      <td>1261731</td>\n      <td>1772928</td>\n      <td>1994282</td>\n      <td>2698350</td>\n      <td>0.467594</td>\n      <td>0.889006</td>\n    </tr>\n    <tr>\n      <th>16</th>\n      <td>HEREFORD_BASE</td>\n      <td>Attacker</td>\n      <td>1339180</td>\n      <td>1944271</td>\n      <td>1909760</td>\n      <td>2710470</td>\n      <td>0.494077</td>\n      <td>1.018071</td>\n    </tr>\n    <tr>\n      <th>17</th>\n      <td>HEREFORD_BASE</td>\n      <td>Defender</td>\n      <td>1430170</td>\n      <td>1900413</td>\n      <td>1956945</td>\n      <td>2733893</td>\n      <td>0.523126</td>\n      <td>0.971112</td>\n    </tr>\n    <tr>\n      <th>18</th>\n      <td>HOUSE</td>\n      <td>Attacker</td>\n      <td>1530782</td>\n      <td>2083279</td>\n      <td>1873715</td>\n      <td>2810301</td>\n      <td>0.544704</td>\n      <td>1.111844</td>\n    </tr>\n    <tr>\n      <th>19</th>\n      <td>HOUSE</td>\n      <td>Defender</td>\n      <td>1333455</td>\n      <td>1870559</td>\n      <td>2100789</td>\n      <td>2831929</td>\n      <td>0.470865</td>\n      <td>0.890408</td>\n    </tr>\n    <tr>\n      <th>20</th>\n      <td>KAFE_DOSTOYEVSKY</td>\n      <td>Attacker</td>\n      <td>1374446</td>\n      <td>1947544</td>\n      <td>1830243</td>\n      <td>2671517</td>\n      <td>0.514481</td>\n      <td>1.064090</td>\n    </tr>\n    <tr>\n      <th>21</th>\n      <td>KAFE_DOSTOYEVSKY</td>\n      <td>Defender</td>\n      <td>1358460</td>\n      <td>1823020</td>\n      <td>1955415</td>\n      <td>2695856</td>\n      <td>0.503907</td>\n      <td>0.932293</td>\n    </tr>\n    <tr>\n      <th>22</th>\n      <td>KANAL</td>\n      <td>Attacker</td>\n      <td>1348911</td>\n      <td>1925998</td>\n      <td>1844556</td>\n      <td>2678901</td>\n      <td>0.503531</td>\n      <td>1.044153</td>\n    </tr>\n    <tr>\n      <th>23</th>\n      <td>KANAL</td>\n      <td>Defender</td>\n      <td>1390899</td>\n      <td>1831525</td>\n      <td>1938112</td>\n      <td>2701823</td>\n      <td>0.514800</td>\n      <td>0.945005</td>\n    </tr>\n    <tr>\n      <th>24</th>\n      <td>OREGON</td>\n      <td>Attacker</td>\n      <td>1363831</td>\n      <td>1942086</td>\n      <td>1895588</td>\n      <td>2710596</td>\n      <td>0.503148</td>\n      <td>1.024530</td>\n    </tr>\n    <tr>\n      <th>25</th>\n      <td>OREGON</td>\n      <td>Defender</td>\n      <td>1405993</td>\n      <td>1889590</td>\n      <td>1949898</td>\n      <td>2734313</td>\n      <td>0.514203</td>\n      <td>0.969071</td>\n    </tr>\n    <tr>\n      <th>26</th>\n      <td>PLANE</td>\n      <td>Attacker</td>\n      <td>1322632</td>\n      <td>1949836</td>\n      <td>1894039</td>\n      <td>2702067</td>\n      <td>0.489489</td>\n      <td>1.029459</td>\n    </tr>\n    <tr>\n      <th>27</th>\n      <td>PLANE</td>\n      <td>Defender</td>\n      <td>1434836</td>\n      <td>1879791</td>\n      <td>1961350</td>\n      <td>2724581</td>\n      <td>0.526626</td>\n      <td>0.958417</td>\n    </tr>\n    <tr>\n      <th>28</th>\n      <td>SKYSCRAPER</td>\n      <td>Attacker</td>\n      <td>1369083</td>\n      <td>1931257</td>\n      <td>1884982</td>\n      <td>2693835</td>\n      <td>0.508228</td>\n      <td>1.024549</td>\n    </tr>\n    <tr>\n      <th>29</th>\n      <td>SKYSCRAPER</td>\n      <td>Defender</td>\n      <td>1384795</td>\n      <td>1879529</td>\n      <td>1949854</td>\n      <td>2719124</td>\n      <td>0.509280</td>\n      <td>0.963933</td>\n    </tr>\n    <tr>\n      <th>30</th>\n      <td>YACHT</td>\n      <td>Attacker</td>\n      <td>1373545</td>\n      <td>1944527</td>\n      <td>1871200</td>\n      <td>2684466</td>\n      <td>0.511664</td>\n      <td>1.039187</td>\n    </tr>\n    <tr>\n      <th>31</th>\n      <td>YACHT</td>\n      <td>Defender</td>\n      <td>1374108</td>\n      <td>1864232</td>\n      <td>1954751</td>\n      <td>2709617</td>\n      <td>0.507123</td>\n      <td>0.953693</td>\n    </tr>\n  </tbody>\n</table>\n</div>"
     },
     "execution_count": 27,
     "metadata": {},
     "output_type": "execute_result"
    }
   ],
   "source": [
    "df_maps_role = test.groupby([\"mapname\", \"role\"], as_index=False)[['nbwins', 'nbkills', 'nbdeaths', 'nbpicks']].sum()\n",
    "df_maps_role[\"win_ratio\"] = df_maps_role[\"nbwins\"] / df_maps_role[\"nbpicks\"]\n",
    "df_maps_role[\"kd_ratio\"] = df_maps_role[\"nbkills\"] / df_maps_role[\"nbdeaths\"]\n",
    "df_maps_role"
   ],
   "metadata": {
    "collapsed": false,
    "pycharm": {
     "name": "#%%\n"
    }
   }
  },
  {
   "cell_type": "code",
   "execution_count": 9,
   "outputs": [
    {
     "ename": "KeyboardInterrupt",
     "evalue": "",
     "output_type": "error",
     "traceback": [
      "\u001B[1;31m---------------------------------------------------------------------------\u001B[0m",
      "\u001B[1;31mNotImplementedError\u001B[0m                       Traceback (most recent call last)",
      "\u001B[1;32m~\\anaconda3\\lib\\site-packages\\pandas\\core\\groupby\\generic.py\u001B[0m in \u001B[0;36marray_func\u001B[1;34m(values)\u001B[0m\n\u001B[0;32m    340\u001B[0m                 result = self.grouper._cython_operation(\n\u001B[1;32m--> 341\u001B[1;33m                     \u001B[1;34m\"aggregate\"\u001B[0m\u001B[1;33m,\u001B[0m \u001B[0mvalues\u001B[0m\u001B[1;33m,\u001B[0m \u001B[0mhow\u001B[0m\u001B[1;33m,\u001B[0m \u001B[0maxis\u001B[0m\u001B[1;33m=\u001B[0m\u001B[0mdata\u001B[0m\u001B[1;33m.\u001B[0m\u001B[0mndim\u001B[0m \u001B[1;33m-\u001B[0m \u001B[1;36m1\u001B[0m\u001B[1;33m,\u001B[0m \u001B[0mmin_count\u001B[0m\u001B[1;33m=\u001B[0m\u001B[0mmin_count\u001B[0m\u001B[1;33m\u001B[0m\u001B[1;33m\u001B[0m\u001B[0m\n\u001B[0m\u001B[0;32m    342\u001B[0m                 )\n",
      "\u001B[1;32m~\\anaconda3\\lib\\site-packages\\pandas\\core\\groupby\\ops.py\u001B[0m in \u001B[0;36m_cython_operation\u001B[1;34m(self, kind, values, how, axis, min_count, **kwargs)\u001B[0m\n\u001B[0;32m    983\u001B[0m             \u001B[0mngroups\u001B[0m\u001B[1;33m=\u001B[0m\u001B[0mngroups\u001B[0m\u001B[1;33m,\u001B[0m\u001B[1;33m\u001B[0m\u001B[1;33m\u001B[0m\u001B[0m\n\u001B[1;32m--> 984\u001B[1;33m             \u001B[1;33m**\u001B[0m\u001B[0mkwargs\u001B[0m\u001B[1;33m,\u001B[0m\u001B[1;33m\u001B[0m\u001B[1;33m\u001B[0m\u001B[0m\n\u001B[0m\u001B[0;32m    985\u001B[0m         )\n",
      "\u001B[1;32m~\\anaconda3\\lib\\site-packages\\pandas\\core\\groupby\\ops.py\u001B[0m in \u001B[0;36mcython_operation\u001B[1;34m(self, values, axis, min_count, comp_ids, ngroups, **kwargs)\u001B[0m\n\u001B[0;32m    626\u001B[0m         \u001B[1;31m# if not raise NotImplementedError\u001B[0m\u001B[1;33m\u001B[0m\u001B[1;33m\u001B[0m\u001B[1;33m\u001B[0m\u001B[0m\n\u001B[1;32m--> 627\u001B[1;33m         \u001B[0mself\u001B[0m\u001B[1;33m.\u001B[0m\u001B[0m_disallow_invalid_ops\u001B[0m\u001B[1;33m(\u001B[0m\u001B[0mdtype\u001B[0m\u001B[1;33m,\u001B[0m \u001B[0mis_numeric\u001B[0m\u001B[1;33m)\u001B[0m\u001B[1;33m\u001B[0m\u001B[1;33m\u001B[0m\u001B[0m\n\u001B[0m\u001B[0;32m    628\u001B[0m \u001B[1;33m\u001B[0m\u001B[0m\n",
      "\u001B[1;32m~\\anaconda3\\lib\\site-packages\\pandas\\core\\groupby\\ops.py\u001B[0m in \u001B[0;36m_disallow_invalid_ops\u001B[1;34m(self, dtype, is_numeric)\u001B[0m\n\u001B[0;32m    233\u001B[0m                 \u001B[1;32mraise\u001B[0m \u001B[0mTypeError\u001B[0m\u001B[1;33m(\u001B[0m\u001B[1;34mf\"{dtype} type does not support {how} operations\"\u001B[0m\u001B[1;33m)\u001B[0m\u001B[1;33m\u001B[0m\u001B[1;33m\u001B[0m\u001B[0m\n\u001B[1;32m--> 234\u001B[1;33m             \u001B[1;32mraise\u001B[0m \u001B[0mNotImplementedError\u001B[0m\u001B[1;33m(\u001B[0m\u001B[1;34mf\"{dtype} dtype not supported\"\u001B[0m\u001B[1;33m)\u001B[0m\u001B[1;33m\u001B[0m\u001B[1;33m\u001B[0m\u001B[0m\n\u001B[0m\u001B[0;32m    235\u001B[0m \u001B[1;33m\u001B[0m\u001B[0m\n",
      "\u001B[1;31mNotImplementedError\u001B[0m: category dtype not supported",
      "\nDuring handling of the above exception, another exception occurred:\n",
      "\u001B[1;31mKeyboardInterrupt\u001B[0m                         Traceback (most recent call last)",
      "\u001B[1;32m<ipython-input-9-fd36fcf07115>\u001B[0m in \u001B[0;36m<module>\u001B[1;34m\u001B[0m\n\u001B[1;32m----> 1\u001B[1;33m \u001B[0mdf\u001B[0m\u001B[1;33m.\u001B[0m\u001B[0mgroupby\u001B[0m\u001B[1;33m(\u001B[0m\u001B[1;33m[\u001B[0m\u001B[1;34m\"matchid\"\u001B[0m\u001B[1;33m,\u001B[0m \u001B[1;34m\"roundnumber\"\u001B[0m\u001B[1;33m]\u001B[0m\u001B[1;33m)\u001B[0m\u001B[1;33m[\u001B[0m\u001B[1;34m\"winrole\"\u001B[0m\u001B[1;33m]\u001B[0m\u001B[1;33m.\u001B[0m\u001B[0mfirst\u001B[0m\u001B[1;33m(\u001B[0m\u001B[1;33m)\u001B[0m\u001B[1;33m.\u001B[0m\u001B[0mreset_index\u001B[0m\u001B[1;33m(\u001B[0m\u001B[0mname\u001B[0m\u001B[1;33m=\u001B[0m\u001B[1;34m\"winner_team\"\u001B[0m\u001B[1;33m)\u001B[0m\u001B[1;33m\u001B[0m\u001B[1;33m\u001B[0m\u001B[0m\n\u001B[0m",
      "\u001B[1;32m~\\anaconda3\\lib\\site-packages\\pandas\\core\\groupby\\groupby.py\u001B[0m in \u001B[0;36mfirst\u001B[1;34m(self, numeric_only, min_count)\u001B[0m\n\u001B[0;32m   1900\u001B[0m             \u001B[0mmin_count\u001B[0m\u001B[1;33m=\u001B[0m\u001B[0mmin_count\u001B[0m\u001B[1;33m,\u001B[0m\u001B[1;33m\u001B[0m\u001B[1;33m\u001B[0m\u001B[0m\n\u001B[0;32m   1901\u001B[0m             \u001B[0malias\u001B[0m\u001B[1;33m=\u001B[0m\u001B[1;34m\"first\"\u001B[0m\u001B[1;33m,\u001B[0m\u001B[1;33m\u001B[0m\u001B[1;33m\u001B[0m\u001B[0m\n\u001B[1;32m-> 1902\u001B[1;33m             \u001B[0mnpfunc\u001B[0m\u001B[1;33m=\u001B[0m\u001B[0mfirst_compat\u001B[0m\u001B[1;33m,\u001B[0m\u001B[1;33m\u001B[0m\u001B[1;33m\u001B[0m\u001B[0m\n\u001B[0m\u001B[0;32m   1903\u001B[0m         )\n\u001B[0;32m   1904\u001B[0m \u001B[1;33m\u001B[0m\u001B[0m\n",
      "\u001B[1;32m~\\anaconda3\\lib\\site-packages\\pandas\\core\\groupby\\groupby.py\u001B[0m in \u001B[0;36m_agg_general\u001B[1;34m(self, numeric_only, min_count, alias, npfunc)\u001B[0m\n\u001B[0;32m   1363\u001B[0m                 \u001B[0malt\u001B[0m\u001B[1;33m=\u001B[0m\u001B[0mnpfunc\u001B[0m\u001B[1;33m,\u001B[0m\u001B[1;33m\u001B[0m\u001B[1;33m\u001B[0m\u001B[0m\n\u001B[0;32m   1364\u001B[0m                 \u001B[0mnumeric_only\u001B[0m\u001B[1;33m=\u001B[0m\u001B[0mnumeric_only\u001B[0m\u001B[1;33m,\u001B[0m\u001B[1;33m\u001B[0m\u001B[1;33m\u001B[0m\u001B[0m\n\u001B[1;32m-> 1365\u001B[1;33m                 \u001B[0mmin_count\u001B[0m\u001B[1;33m=\u001B[0m\u001B[0mmin_count\u001B[0m\u001B[1;33m,\u001B[0m\u001B[1;33m\u001B[0m\u001B[1;33m\u001B[0m\u001B[0m\n\u001B[0m\u001B[0;32m   1366\u001B[0m             )\n\u001B[0;32m   1367\u001B[0m             \u001B[1;32mreturn\u001B[0m \u001B[0mresult\u001B[0m\u001B[1;33m.\u001B[0m\u001B[0m__finalize__\u001B[0m\u001B[1;33m(\u001B[0m\u001B[0mself\u001B[0m\u001B[1;33m.\u001B[0m\u001B[0mobj\u001B[0m\u001B[1;33m,\u001B[0m \u001B[0mmethod\u001B[0m\u001B[1;33m=\u001B[0m\u001B[1;34m\"groupby\"\u001B[0m\u001B[1;33m)\u001B[0m\u001B[1;33m\u001B[0m\u001B[1;33m\u001B[0m\u001B[0m\n",
      "\u001B[1;32m~\\anaconda3\\lib\\site-packages\\pandas\\core\\groupby\\generic.py\u001B[0m in \u001B[0;36m_cython_agg_general\u001B[1;34m(self, how, alt, numeric_only, min_count)\u001B[0m\n\u001B[0;32m    350\u001B[0m             \u001B[1;32mreturn\u001B[0m \u001B[0mresult\u001B[0m\u001B[1;33m\u001B[0m\u001B[1;33m\u001B[0m\u001B[0m\n\u001B[0;32m    351\u001B[0m \u001B[1;33m\u001B[0m\u001B[0m\n\u001B[1;32m--> 352\u001B[1;33m         \u001B[0mresult\u001B[0m \u001B[1;33m=\u001B[0m \u001B[0marray_func\u001B[0m\u001B[1;33m(\u001B[0m\u001B[0mobjvals\u001B[0m\u001B[1;33m)\u001B[0m\u001B[1;33m\u001B[0m\u001B[1;33m\u001B[0m\u001B[0m\n\u001B[0m\u001B[0;32m    353\u001B[0m \u001B[1;33m\u001B[0m\u001B[0m\n\u001B[0;32m    354\u001B[0m         ser = self.obj._constructor(\n",
      "\u001B[1;32m~\\anaconda3\\lib\\site-packages\\pandas\\core\\groupby\\generic.py\u001B[0m in \u001B[0;36marray_func\u001B[1;34m(values)\u001B[0m\n\u001B[0;32m    346\u001B[0m                 \u001B[1;31m# try to python agg\u001B[0m\u001B[1;33m\u001B[0m\u001B[1;33m\u001B[0m\u001B[1;33m\u001B[0m\u001B[0m\n\u001B[0;32m    347\u001B[0m                 \u001B[1;31m# TODO: shouldn't min_count matter?\u001B[0m\u001B[1;33m\u001B[0m\u001B[1;33m\u001B[0m\u001B[1;33m\u001B[0m\u001B[0m\n\u001B[1;32m--> 348\u001B[1;33m                 \u001B[0mresult\u001B[0m \u001B[1;33m=\u001B[0m \u001B[0mself\u001B[0m\u001B[1;33m.\u001B[0m\u001B[0m_agg_py_fallback\u001B[0m\u001B[1;33m(\u001B[0m\u001B[0mvalues\u001B[0m\u001B[1;33m,\u001B[0m \u001B[0mndim\u001B[0m\u001B[1;33m=\u001B[0m\u001B[0mdata\u001B[0m\u001B[1;33m.\u001B[0m\u001B[0mndim\u001B[0m\u001B[1;33m,\u001B[0m \u001B[0malt\u001B[0m\u001B[1;33m=\u001B[0m\u001B[0malt\u001B[0m\u001B[1;33m)\u001B[0m\u001B[1;33m\u001B[0m\u001B[1;33m\u001B[0m\u001B[0m\n\u001B[0m\u001B[0;32m    349\u001B[0m \u001B[1;33m\u001B[0m\u001B[0m\n\u001B[0;32m    350\u001B[0m             \u001B[1;32mreturn\u001B[0m \u001B[0mresult\u001B[0m\u001B[1;33m\u001B[0m\u001B[1;33m\u001B[0m\u001B[0m\n",
      "\u001B[1;32m~\\anaconda3\\lib\\site-packages\\pandas\\core\\groupby\\groupby.py\u001B[0m in \u001B[0;36m_agg_py_fallback\u001B[1;34m(self, values, ndim, alt)\u001B[0m\n\u001B[0;32m   1393\u001B[0m         \u001B[1;31m#  should always be preserved by the implemented aggregations\u001B[0m\u001B[1;33m\u001B[0m\u001B[1;33m\u001B[0m\u001B[1;33m\u001B[0m\u001B[0m\n\u001B[0;32m   1394\u001B[0m         \u001B[1;31m# TODO: Is this exactly right; see WrappedCythonOp get_result_dtype?\u001B[0m\u001B[1;33m\u001B[0m\u001B[1;33m\u001B[0m\u001B[1;33m\u001B[0m\u001B[0m\n\u001B[1;32m-> 1395\u001B[1;33m         \u001B[0mres_values\u001B[0m \u001B[1;33m=\u001B[0m \u001B[0mself\u001B[0m\u001B[1;33m.\u001B[0m\u001B[0mgrouper\u001B[0m\u001B[1;33m.\u001B[0m\u001B[0magg_series\u001B[0m\u001B[1;33m(\u001B[0m\u001B[0mser\u001B[0m\u001B[1;33m,\u001B[0m \u001B[0malt\u001B[0m\u001B[1;33m,\u001B[0m \u001B[0mpreserve_dtype\u001B[0m\u001B[1;33m=\u001B[0m\u001B[1;32mTrue\u001B[0m\u001B[1;33m)\u001B[0m\u001B[1;33m\u001B[0m\u001B[1;33m\u001B[0m\u001B[0m\n\u001B[0m\u001B[0;32m   1396\u001B[0m \u001B[1;33m\u001B[0m\u001B[0m\n\u001B[0;32m   1397\u001B[0m         \u001B[1;32mif\u001B[0m \u001B[0misinstance\u001B[0m\u001B[1;33m(\u001B[0m\u001B[0mvalues\u001B[0m\u001B[1;33m,\u001B[0m \u001B[0mCategorical\u001B[0m\u001B[1;33m)\u001B[0m\u001B[1;33m:\u001B[0m\u001B[1;33m\u001B[0m\u001B[1;33m\u001B[0m\u001B[0m\n",
      "\u001B[1;32m~\\anaconda3\\lib\\site-packages\\pandas\\core\\groupby\\ops.py\u001B[0m in \u001B[0;36magg_series\u001B[1;34m(self, obj, func, preserve_dtype)\u001B[0m\n\u001B[0;32m   1013\u001B[0m             \u001B[1;31m# In the datetime64tz case it would incorrectly cast to tz-naive\u001B[0m\u001B[1;33m\u001B[0m\u001B[1;33m\u001B[0m\u001B[1;33m\u001B[0m\u001B[0m\n\u001B[0;32m   1014\u001B[0m             \u001B[1;31m# TODO: can we get a performant workaround for EAs backed by ndarray?\u001B[0m\u001B[1;33m\u001B[0m\u001B[1;33m\u001B[0m\u001B[1;33m\u001B[0m\u001B[0m\n\u001B[1;32m-> 1015\u001B[1;33m             \u001B[0mresult\u001B[0m \u001B[1;33m=\u001B[0m \u001B[0mself\u001B[0m\u001B[1;33m.\u001B[0m\u001B[0m_aggregate_series_pure_python\u001B[0m\u001B[1;33m(\u001B[0m\u001B[0mobj\u001B[0m\u001B[1;33m,\u001B[0m \u001B[0mfunc\u001B[0m\u001B[1;33m)\u001B[0m\u001B[1;33m\u001B[0m\u001B[1;33m\u001B[0m\u001B[0m\n\u001B[0m\u001B[0;32m   1016\u001B[0m \u001B[1;33m\u001B[0m\u001B[0m\n\u001B[0;32m   1017\u001B[0m             \u001B[1;31m# we can preserve a little bit more aggressively with EA dtype\u001B[0m\u001B[1;33m\u001B[0m\u001B[1;33m\u001B[0m\u001B[1;33m\u001B[0m\u001B[0m\n",
      "\u001B[1;32m~\\anaconda3\\lib\\site-packages\\pandas\\core\\groupby\\ops.py\u001B[0m in \u001B[0;36m_aggregate_series_pure_python\u001B[1;34m(self, obj, func)\u001B[0m\n\u001B[0;32m   1070\u001B[0m             \u001B[1;31m# Each step of this loop corresponds to\u001B[0m\u001B[1;33m\u001B[0m\u001B[1;33m\u001B[0m\u001B[1;33m\u001B[0m\u001B[0m\n\u001B[0;32m   1071\u001B[0m             \u001B[1;31m#  libreduction._BaseGrouper._apply_to_group\u001B[0m\u001B[1;33m\u001B[0m\u001B[1;33m\u001B[0m\u001B[1;33m\u001B[0m\u001B[0m\n\u001B[1;32m-> 1072\u001B[1;33m             \u001B[0mres\u001B[0m \u001B[1;33m=\u001B[0m \u001B[0mfunc\u001B[0m\u001B[1;33m(\u001B[0m\u001B[0mgroup\u001B[0m\u001B[1;33m)\u001B[0m\u001B[1;33m\u001B[0m\u001B[1;33m\u001B[0m\u001B[0m\n\u001B[0m\u001B[0;32m   1073\u001B[0m             \u001B[0mres\u001B[0m \u001B[1;33m=\u001B[0m \u001B[0mlibreduction\u001B[0m\u001B[1;33m.\u001B[0m\u001B[0mextract_result\u001B[0m\u001B[1;33m(\u001B[0m\u001B[0mres\u001B[0m\u001B[1;33m)\u001B[0m\u001B[1;33m\u001B[0m\u001B[1;33m\u001B[0m\u001B[0m\n\u001B[0;32m   1074\u001B[0m \u001B[1;33m\u001B[0m\u001B[0m\n",
      "\u001B[1;32m~\\anaconda3\\lib\\site-packages\\pandas\\core\\groupby\\groupby.py\u001B[0m in \u001B[0;36mfirst_compat\u001B[1;34m(obj, axis)\u001B[0m\n\u001B[0;32m   1892\u001B[0m                 \u001B[1;32mreturn\u001B[0m \u001B[0mobj\u001B[0m\u001B[1;33m.\u001B[0m\u001B[0mapply\u001B[0m\u001B[1;33m(\u001B[0m\u001B[0mfirst\u001B[0m\u001B[1;33m,\u001B[0m \u001B[0maxis\u001B[0m\u001B[1;33m=\u001B[0m\u001B[0maxis\u001B[0m\u001B[1;33m)\u001B[0m\u001B[1;33m\u001B[0m\u001B[1;33m\u001B[0m\u001B[0m\n\u001B[0;32m   1893\u001B[0m             \u001B[1;32melif\u001B[0m \u001B[0misinstance\u001B[0m\u001B[1;33m(\u001B[0m\u001B[0mobj\u001B[0m\u001B[1;33m,\u001B[0m \u001B[0mSeries\u001B[0m\u001B[1;33m)\u001B[0m\u001B[1;33m:\u001B[0m\u001B[1;33m\u001B[0m\u001B[1;33m\u001B[0m\u001B[0m\n\u001B[1;32m-> 1894\u001B[1;33m                 \u001B[1;32mreturn\u001B[0m \u001B[0mfirst\u001B[0m\u001B[1;33m(\u001B[0m\u001B[0mobj\u001B[0m\u001B[1;33m)\u001B[0m\u001B[1;33m\u001B[0m\u001B[1;33m\u001B[0m\u001B[0m\n\u001B[0m\u001B[0;32m   1895\u001B[0m             \u001B[1;32melse\u001B[0m\u001B[1;33m:\u001B[0m  \u001B[1;31m# pragma: no cover\u001B[0m\u001B[1;33m\u001B[0m\u001B[1;33m\u001B[0m\u001B[0m\n\u001B[0;32m   1896\u001B[0m                 \u001B[1;32mraise\u001B[0m \u001B[0mTypeError\u001B[0m\u001B[1;33m(\u001B[0m\u001B[0mtype\u001B[0m\u001B[1;33m(\u001B[0m\u001B[0mobj\u001B[0m\u001B[1;33m)\u001B[0m\u001B[1;33m)\u001B[0m\u001B[1;33m\u001B[0m\u001B[1;33m\u001B[0m\u001B[0m\n",
      "\u001B[1;32m~\\anaconda3\\lib\\site-packages\\pandas\\core\\groupby\\groupby.py\u001B[0m in \u001B[0;36mfirst\u001B[1;34m(x)\u001B[0m\n\u001B[0;32m   1884\u001B[0m             \u001B[1;32mdef\u001B[0m \u001B[0mfirst\u001B[0m\u001B[1;33m(\u001B[0m\u001B[0mx\u001B[0m\u001B[1;33m:\u001B[0m \u001B[0mSeries\u001B[0m\u001B[1;33m)\u001B[0m\u001B[1;33m:\u001B[0m\u001B[1;33m\u001B[0m\u001B[1;33m\u001B[0m\u001B[0m\n\u001B[0;32m   1885\u001B[0m                 \u001B[1;34m\"\"\"Helper function for first item that isn't NA.\"\"\"\u001B[0m\u001B[1;33m\u001B[0m\u001B[1;33m\u001B[0m\u001B[0m\n\u001B[1;32m-> 1886\u001B[1;33m                 \u001B[0marr\u001B[0m \u001B[1;33m=\u001B[0m \u001B[0mx\u001B[0m\u001B[1;33m.\u001B[0m\u001B[0marray\u001B[0m\u001B[1;33m[\u001B[0m\u001B[0mnotna\u001B[0m\u001B[1;33m(\u001B[0m\u001B[0mx\u001B[0m\u001B[1;33m.\u001B[0m\u001B[0marray\u001B[0m\u001B[1;33m)\u001B[0m\u001B[1;33m]\u001B[0m\u001B[1;33m\u001B[0m\u001B[1;33m\u001B[0m\u001B[0m\n\u001B[0m\u001B[0;32m   1887\u001B[0m                 \u001B[1;32mif\u001B[0m \u001B[1;32mnot\u001B[0m \u001B[0mlen\u001B[0m\u001B[1;33m(\u001B[0m\u001B[0marr\u001B[0m\u001B[1;33m)\u001B[0m\u001B[1;33m:\u001B[0m\u001B[1;33m\u001B[0m\u001B[1;33m\u001B[0m\u001B[0m\n\u001B[0;32m   1888\u001B[0m                     \u001B[1;32mreturn\u001B[0m \u001B[0mnp\u001B[0m\u001B[1;33m.\u001B[0m\u001B[0mnan\u001B[0m\u001B[1;33m\u001B[0m\u001B[1;33m\u001B[0m\u001B[0m\n",
      "\u001B[1;32m~\\anaconda3\\lib\\site-packages\\pandas\\core\\arrays\\categorical.py\u001B[0m in \u001B[0;36m__getitem__\u001B[1;34m(self, key)\u001B[0m\n\u001B[0;32m   2010\u001B[0m         \u001B[0mReturn\u001B[0m \u001B[0man\u001B[0m \u001B[0mitem\u001B[0m\u001B[1;33m.\u001B[0m\u001B[1;33m\u001B[0m\u001B[1;33m\u001B[0m\u001B[0m\n\u001B[0;32m   2011\u001B[0m         \"\"\"\n\u001B[1;32m-> 2012\u001B[1;33m         \u001B[0mresult\u001B[0m \u001B[1;33m=\u001B[0m \u001B[0msuper\u001B[0m\u001B[1;33m(\u001B[0m\u001B[1;33m)\u001B[0m\u001B[1;33m.\u001B[0m\u001B[0m__getitem__\u001B[0m\u001B[1;33m(\u001B[0m\u001B[0mkey\u001B[0m\u001B[1;33m)\u001B[0m\u001B[1;33m\u001B[0m\u001B[1;33m\u001B[0m\u001B[0m\n\u001B[0m\u001B[0;32m   2013\u001B[0m         \u001B[1;32mif\u001B[0m \u001B[0mgetattr\u001B[0m\u001B[1;33m(\u001B[0m\u001B[0mresult\u001B[0m\u001B[1;33m,\u001B[0m \u001B[1;34m\"ndim\"\u001B[0m\u001B[1;33m,\u001B[0m \u001B[1;36m0\u001B[0m\u001B[1;33m)\u001B[0m \u001B[1;33m>\u001B[0m \u001B[1;36m1\u001B[0m\u001B[1;33m:\u001B[0m\u001B[1;33m\u001B[0m\u001B[1;33m\u001B[0m\u001B[0m\n\u001B[0;32m   2014\u001B[0m             \u001B[0mresult\u001B[0m \u001B[1;33m=\u001B[0m \u001B[0mresult\u001B[0m\u001B[1;33m.\u001B[0m\u001B[0m_ndarray\u001B[0m\u001B[1;33m\u001B[0m\u001B[1;33m\u001B[0m\u001B[0m\n",
      "\u001B[1;32m~\\anaconda3\\lib\\site-packages\\pandas\\core\\arrays\\_mixins.py\u001B[0m in \u001B[0;36m__getitem__\u001B[1;34m(self, key)\u001B[0m\n\u001B[0;32m    204\u001B[0m             \u001B[0mkey\u001B[0m\u001B[1;33m,\u001B[0m \u001B[0mextract_numpy\u001B[0m\u001B[1;33m=\u001B[0m\u001B[1;32mTrue\u001B[0m\u001B[1;33m\u001B[0m\u001B[1;33m\u001B[0m\u001B[0m\n\u001B[0;32m    205\u001B[0m         )\n\u001B[1;32m--> 206\u001B[1;33m         \u001B[0mkey\u001B[0m \u001B[1;33m=\u001B[0m \u001B[0mcheck_array_indexer\u001B[0m\u001B[1;33m(\u001B[0m\u001B[0mself\u001B[0m\u001B[1;33m,\u001B[0m \u001B[0mkey\u001B[0m\u001B[1;33m)\u001B[0m\u001B[1;33m\u001B[0m\u001B[1;33m\u001B[0m\u001B[0m\n\u001B[0m\u001B[0;32m    207\u001B[0m         \u001B[0mresult\u001B[0m \u001B[1;33m=\u001B[0m \u001B[0mself\u001B[0m\u001B[1;33m.\u001B[0m\u001B[0m_ndarray\u001B[0m\u001B[1;33m[\u001B[0m\u001B[0mkey\u001B[0m\u001B[1;33m]\u001B[0m\u001B[1;33m\u001B[0m\u001B[1;33m\u001B[0m\u001B[0m\n\u001B[0;32m    208\u001B[0m         \u001B[1;32mif\u001B[0m \u001B[0mlib\u001B[0m\u001B[1;33m.\u001B[0m\u001B[0mis_scalar\u001B[0m\u001B[1;33m(\u001B[0m\u001B[0mresult\u001B[0m\u001B[1;33m)\u001B[0m\u001B[1;33m:\u001B[0m\u001B[1;33m\u001B[0m\u001B[1;33m\u001B[0m\u001B[0m\n",
      "\u001B[1;32m~\\anaconda3\\lib\\site-packages\\pandas\\core\\indexers.py\u001B[0m in \u001B[0;36mcheck_array_indexer\u001B[1;34m(array, indexer)\u001B[0m\n\u001B[0;32m    551\u001B[0m \u001B[1;33m\u001B[0m\u001B[0m\n\u001B[0;32m    552\u001B[0m     \u001B[0mdtype\u001B[0m \u001B[1;33m=\u001B[0m \u001B[0mindexer\u001B[0m\u001B[1;33m.\u001B[0m\u001B[0mdtype\u001B[0m\u001B[1;33m\u001B[0m\u001B[1;33m\u001B[0m\u001B[0m\n\u001B[1;32m--> 553\u001B[1;33m     \u001B[1;32mif\u001B[0m \u001B[0mis_bool_dtype\u001B[0m\u001B[1;33m(\u001B[0m\u001B[0mdtype\u001B[0m\u001B[1;33m)\u001B[0m\u001B[1;33m:\u001B[0m\u001B[1;33m\u001B[0m\u001B[1;33m\u001B[0m\u001B[0m\n\u001B[0m\u001B[0;32m    554\u001B[0m         \u001B[1;32mif\u001B[0m \u001B[0mis_extension_array_dtype\u001B[0m\u001B[1;33m(\u001B[0m\u001B[0mdtype\u001B[0m\u001B[1;33m)\u001B[0m\u001B[1;33m:\u001B[0m\u001B[1;33m\u001B[0m\u001B[1;33m\u001B[0m\u001B[0m\n\u001B[0;32m    555\u001B[0m             \u001B[0mindexer\u001B[0m \u001B[1;33m=\u001B[0m \u001B[0mindexer\u001B[0m\u001B[1;33m.\u001B[0m\u001B[0mto_numpy\u001B[0m\u001B[1;33m(\u001B[0m\u001B[0mdtype\u001B[0m\u001B[1;33m=\u001B[0m\u001B[0mbool\u001B[0m\u001B[1;33m,\u001B[0m \u001B[0mna_value\u001B[0m\u001B[1;33m=\u001B[0m\u001B[1;32mFalse\u001B[0m\u001B[1;33m)\u001B[0m\u001B[1;33m\u001B[0m\u001B[1;33m\u001B[0m\u001B[0m\n",
      "\u001B[1;32m~\\anaconda3\\lib\\site-packages\\pandas\\core\\dtypes\\common.py\u001B[0m in \u001B[0;36mis_bool_dtype\u001B[1;34m(arr_or_dtype)\u001B[0m\n\u001B[0;32m   1313\u001B[0m         \u001B[1;31m# now we use the special definition for Index\u001B[0m\u001B[1;33m\u001B[0m\u001B[1;33m\u001B[0m\u001B[1;33m\u001B[0m\u001B[0m\n\u001B[0;32m   1314\u001B[0m \u001B[1;33m\u001B[0m\u001B[0m\n\u001B[1;32m-> 1315\u001B[1;33m     \u001B[1;32mif\u001B[0m \u001B[0misinstance\u001B[0m\u001B[1;33m(\u001B[0m\u001B[0marr_or_dtype\u001B[0m\u001B[1;33m,\u001B[0m \u001B[0mABCIndex\u001B[0m\u001B[1;33m)\u001B[0m\u001B[1;33m:\u001B[0m\u001B[1;33m\u001B[0m\u001B[1;33m\u001B[0m\u001B[0m\n\u001B[0m\u001B[0;32m   1316\u001B[0m \u001B[1;33m\u001B[0m\u001B[0m\n\u001B[0;32m   1317\u001B[0m         \u001B[1;31m# TODO(jreback)\u001B[0m\u001B[1;33m\u001B[0m\u001B[1;33m\u001B[0m\u001B[1;33m\u001B[0m\u001B[0m\n",
      "\u001B[1;31mKeyboardInterrupt\u001B[0m: "
     ]
    }
   ],
   "source": [
    "df.groupby([\"matchid\", \"roundnumber\"])[\"winrole\"].first().reset_index(name=\"winner_team\")"
   ],
   "metadata": {
    "collapsed": false,
    "pycharm": {
     "name": "#%%\n"
    }
   }
  },
  {
   "cell_type": "code",
   "execution_count": null,
   "outputs": [],
   "source": [
    "df.head(1000).groupby([\"matchid\", \"roundnumber\"], as_index=False)[\"winrole\"].first()"
   ],
   "metadata": {
    "collapsed": false,
    "pycharm": {
     "name": "#%%\n"
    }
   }
  },
  {
   "cell_type": "code",
   "execution_count": 23,
   "outputs": [
    {
     "ename": "KeyboardInterrupt",
     "evalue": "",
     "output_type": "error",
     "traceback": [
      "\u001B[1;31m---------------------------------------------------------------------------\u001B[0m",
      "\u001B[1;31mKeyboardInterrupt\u001B[0m                         Traceback (most recent call last)",
      "\u001B[1;32m<ipython-input-23-36bbe9ff875e>\u001B[0m in \u001B[0;36m<module>\u001B[1;34m\u001B[0m\n\u001B[1;32m----> 1\u001B[1;33m \u001B[0mdf\u001B[0m\u001B[1;33m.\u001B[0m\u001B[0mgroupby\u001B[0m\u001B[1;33m(\u001B[0m\u001B[1;33m[\u001B[0m\u001B[1;34m\"dateid\"\u001B[0m\u001B[1;33m,\u001B[0m \u001B[1;34m\"matchid\"\u001B[0m\u001B[1;33m,\u001B[0m \u001B[1;34m\"roundnumber\"\u001B[0m\u001B[1;33m,\u001B[0m \u001B[1;34m\"team\"\u001B[0m\u001B[1;33m]\u001B[0m\u001B[1;33m)\u001B[0m\u001B[1;33m[\u001B[0m\u001B[1;34m\"operator\"\u001B[0m\u001B[1;33m]\u001B[0m\u001B[1;33m.\u001B[0m\u001B[0mapply\u001B[0m\u001B[1;33m(\u001B[0m\u001B[0mlist\u001B[0m\u001B[1;33m)\u001B[0m\u001B[1;33m.\u001B[0m\u001B[0mreset_index\u001B[0m\u001B[1;33m(\u001B[0m\u001B[0mname\u001B[0m\u001B[1;33m=\u001B[0m\u001B[1;34m\"operators\"\u001B[0m\u001B[1;33m)\u001B[0m\u001B[1;33m\u001B[0m\u001B[1;33m\u001B[0m\u001B[0m\n\u001B[0m",
      "\u001B[1;32m~\\anaconda3\\lib\\site-packages\\pandas\\core\\groupby\\generic.py\u001B[0m in \u001B[0;36mapply\u001B[1;34m(self, func, *args, **kwargs)\u001B[0m\n\u001B[0;32m    221\u001B[0m     )\n\u001B[0;32m    222\u001B[0m     \u001B[1;32mdef\u001B[0m \u001B[0mapply\u001B[0m\u001B[1;33m(\u001B[0m\u001B[0mself\u001B[0m\u001B[1;33m,\u001B[0m \u001B[0mfunc\u001B[0m\u001B[1;33m,\u001B[0m \u001B[1;33m*\u001B[0m\u001B[0margs\u001B[0m\u001B[1;33m,\u001B[0m \u001B[1;33m**\u001B[0m\u001B[0mkwargs\u001B[0m\u001B[1;33m)\u001B[0m\u001B[1;33m:\u001B[0m\u001B[1;33m\u001B[0m\u001B[1;33m\u001B[0m\u001B[0m\n\u001B[1;32m--> 223\u001B[1;33m         \u001B[1;32mreturn\u001B[0m \u001B[0msuper\u001B[0m\u001B[1;33m(\u001B[0m\u001B[1;33m)\u001B[0m\u001B[1;33m.\u001B[0m\u001B[0mapply\u001B[0m\u001B[1;33m(\u001B[0m\u001B[0mfunc\u001B[0m\u001B[1;33m,\u001B[0m \u001B[1;33m*\u001B[0m\u001B[0margs\u001B[0m\u001B[1;33m,\u001B[0m \u001B[1;33m**\u001B[0m\u001B[0mkwargs\u001B[0m\u001B[1;33m)\u001B[0m\u001B[1;33m\u001B[0m\u001B[1;33m\u001B[0m\u001B[0m\n\u001B[0m\u001B[0;32m    224\u001B[0m \u001B[1;33m\u001B[0m\u001B[0m\n\u001B[0;32m    225\u001B[0m     \u001B[1;33m@\u001B[0m\u001B[0mdoc\u001B[0m\u001B[1;33m(\u001B[0m\u001B[0m_agg_template\u001B[0m\u001B[1;33m,\u001B[0m \u001B[0mexamples\u001B[0m\u001B[1;33m=\u001B[0m\u001B[0m_agg_examples_doc\u001B[0m\u001B[1;33m,\u001B[0m \u001B[0mklass\u001B[0m\u001B[1;33m=\u001B[0m\u001B[1;34m\"Series\"\u001B[0m\u001B[1;33m)\u001B[0m\u001B[1;33m\u001B[0m\u001B[1;33m\u001B[0m\u001B[0m\n",
      "\u001B[1;32m~\\anaconda3\\lib\\site-packages\\pandas\\core\\groupby\\groupby.py\u001B[0m in \u001B[0;36mapply\u001B[1;34m(self, func, *args, **kwargs)\u001B[0m\n\u001B[0;32m   1270\u001B[0m         \u001B[1;32mwith\u001B[0m \u001B[0moption_context\u001B[0m\u001B[1;33m(\u001B[0m\u001B[1;34m\"mode.chained_assignment\"\u001B[0m\u001B[1;33m,\u001B[0m \u001B[1;32mNone\u001B[0m\u001B[1;33m)\u001B[0m\u001B[1;33m:\u001B[0m\u001B[1;33m\u001B[0m\u001B[1;33m\u001B[0m\u001B[0m\n\u001B[0;32m   1271\u001B[0m             \u001B[1;32mtry\u001B[0m\u001B[1;33m:\u001B[0m\u001B[1;33m\u001B[0m\u001B[1;33m\u001B[0m\u001B[0m\n\u001B[1;32m-> 1272\u001B[1;33m                 \u001B[0mresult\u001B[0m \u001B[1;33m=\u001B[0m \u001B[0mself\u001B[0m\u001B[1;33m.\u001B[0m\u001B[0m_python_apply_general\u001B[0m\u001B[1;33m(\u001B[0m\u001B[0mf\u001B[0m\u001B[1;33m,\u001B[0m \u001B[0mself\u001B[0m\u001B[1;33m.\u001B[0m\u001B[0m_selected_obj\u001B[0m\u001B[1;33m)\u001B[0m\u001B[1;33m\u001B[0m\u001B[1;33m\u001B[0m\u001B[0m\n\u001B[0m\u001B[0;32m   1273\u001B[0m             \u001B[1;32mexcept\u001B[0m \u001B[0mTypeError\u001B[0m\u001B[1;33m:\u001B[0m\u001B[1;33m\u001B[0m\u001B[1;33m\u001B[0m\u001B[0m\n\u001B[0;32m   1274\u001B[0m                 \u001B[1;31m# gh-20949\u001B[0m\u001B[1;33m\u001B[0m\u001B[1;33m\u001B[0m\u001B[1;33m\u001B[0m\u001B[0m\n",
      "\u001B[1;32m~\\anaconda3\\lib\\site-packages\\pandas\\core\\groupby\\groupby.py\u001B[0m in \u001B[0;36m_python_apply_general\u001B[1;34m(self, f, data)\u001B[0m\n\u001B[0;32m   1304\u001B[0m             \u001B[0mdata\u001B[0m \u001B[0mafter\u001B[0m \u001B[0mapplying\u001B[0m \u001B[0mf\u001B[0m\u001B[1;33m\u001B[0m\u001B[1;33m\u001B[0m\u001B[0m\n\u001B[0;32m   1305\u001B[0m         \"\"\"\n\u001B[1;32m-> 1306\u001B[1;33m         \u001B[0mkeys\u001B[0m\u001B[1;33m,\u001B[0m \u001B[0mvalues\u001B[0m\u001B[1;33m,\u001B[0m \u001B[0mmutated\u001B[0m \u001B[1;33m=\u001B[0m \u001B[0mself\u001B[0m\u001B[1;33m.\u001B[0m\u001B[0mgrouper\u001B[0m\u001B[1;33m.\u001B[0m\u001B[0mapply\u001B[0m\u001B[1;33m(\u001B[0m\u001B[0mf\u001B[0m\u001B[1;33m,\u001B[0m \u001B[0mdata\u001B[0m\u001B[1;33m,\u001B[0m \u001B[0mself\u001B[0m\u001B[1;33m.\u001B[0m\u001B[0maxis\u001B[0m\u001B[1;33m)\u001B[0m\u001B[1;33m\u001B[0m\u001B[1;33m\u001B[0m\u001B[0m\n\u001B[0m\u001B[0;32m   1307\u001B[0m \u001B[1;33m\u001B[0m\u001B[0m\n\u001B[0;32m   1308\u001B[0m         return self._wrap_applied_output(\n",
      "\u001B[1;32m~\\anaconda3\\lib\\site-packages\\pandas\\core\\groupby\\ops.py\u001B[0m in \u001B[0;36mapply\u001B[1;34m(self, f, data, axis)\u001B[0m\n\u001B[0;32m    818\u001B[0m             \u001B[1;31m# group might be modified\u001B[0m\u001B[1;33m\u001B[0m\u001B[1;33m\u001B[0m\u001B[1;33m\u001B[0m\u001B[0m\n\u001B[0;32m    819\u001B[0m             \u001B[0mgroup_axes\u001B[0m \u001B[1;33m=\u001B[0m \u001B[0mgroup\u001B[0m\u001B[1;33m.\u001B[0m\u001B[0maxes\u001B[0m\u001B[1;33m\u001B[0m\u001B[1;33m\u001B[0m\u001B[0m\n\u001B[1;32m--> 820\u001B[1;33m             \u001B[0mres\u001B[0m \u001B[1;33m=\u001B[0m \u001B[0mf\u001B[0m\u001B[1;33m(\u001B[0m\u001B[0mgroup\u001B[0m\u001B[1;33m)\u001B[0m\u001B[1;33m\u001B[0m\u001B[1;33m\u001B[0m\u001B[0m\n\u001B[0m\u001B[0;32m    821\u001B[0m             \u001B[1;32mif\u001B[0m \u001B[1;32mnot\u001B[0m \u001B[0m_is_indexed_like\u001B[0m\u001B[1;33m(\u001B[0m\u001B[0mres\u001B[0m\u001B[1;33m,\u001B[0m \u001B[0mgroup_axes\u001B[0m\u001B[1;33m,\u001B[0m \u001B[0maxis\u001B[0m\u001B[1;33m)\u001B[0m\u001B[1;33m:\u001B[0m\u001B[1;33m\u001B[0m\u001B[1;33m\u001B[0m\u001B[0m\n\u001B[0;32m    822\u001B[0m                 \u001B[0mmutated\u001B[0m \u001B[1;33m=\u001B[0m \u001B[1;32mTrue\u001B[0m\u001B[1;33m\u001B[0m\u001B[1;33m\u001B[0m\u001B[0m\n",
      "\u001B[1;32m~\\anaconda3\\lib\\site-packages\\pandas\\core\\base.py\u001B[0m in \u001B[0;36m__iter__\u001B[1;34m(self)\u001B[0m\n\u001B[0;32m    750\u001B[0m         \u001B[1;32mif\u001B[0m \u001B[1;32mnot\u001B[0m \u001B[0misinstance\u001B[0m\u001B[1;33m(\u001B[0m\u001B[0mself\u001B[0m\u001B[1;33m.\u001B[0m\u001B[0m_values\u001B[0m\u001B[1;33m,\u001B[0m \u001B[0mnp\u001B[0m\u001B[1;33m.\u001B[0m\u001B[0mndarray\u001B[0m\u001B[1;33m)\u001B[0m\u001B[1;33m:\u001B[0m\u001B[1;33m\u001B[0m\u001B[1;33m\u001B[0m\u001B[0m\n\u001B[0;32m    751\u001B[0m             \u001B[1;31m# Check type instead of dtype to catch DTA/TDA\u001B[0m\u001B[1;33m\u001B[0m\u001B[1;33m\u001B[0m\u001B[1;33m\u001B[0m\u001B[0m\n\u001B[1;32m--> 752\u001B[1;33m             \u001B[1;32mreturn\u001B[0m \u001B[0miter\u001B[0m\u001B[1;33m(\u001B[0m\u001B[0mself\u001B[0m\u001B[1;33m.\u001B[0m\u001B[0m_values\u001B[0m\u001B[1;33m)\u001B[0m\u001B[1;33m\u001B[0m\u001B[1;33m\u001B[0m\u001B[0m\n\u001B[0m\u001B[0;32m    753\u001B[0m         \u001B[1;32melse\u001B[0m\u001B[1;33m:\u001B[0m\u001B[1;33m\u001B[0m\u001B[1;33m\u001B[0m\u001B[0m\n\u001B[0;32m    754\u001B[0m             \u001B[1;32mreturn\u001B[0m \u001B[0mmap\u001B[0m\u001B[1;33m(\u001B[0m\u001B[0mself\u001B[0m\u001B[1;33m.\u001B[0m\u001B[0m_values\u001B[0m\u001B[1;33m.\u001B[0m\u001B[0mitem\u001B[0m\u001B[1;33m,\u001B[0m \u001B[0mrange\u001B[0m\u001B[1;33m(\u001B[0m\u001B[0mself\u001B[0m\u001B[1;33m.\u001B[0m\u001B[0m_values\u001B[0m\u001B[1;33m.\u001B[0m\u001B[0msize\u001B[0m\u001B[1;33m)\u001B[0m\u001B[1;33m)\u001B[0m\u001B[1;33m\u001B[0m\u001B[1;33m\u001B[0m\u001B[0m\n",
      "\u001B[1;32m~\\anaconda3\\lib\\site-packages\\pandas\\core\\arrays\\categorical.py\u001B[0m in \u001B[0;36m__iter__\u001B[1;34m(self)\u001B[0m\n\u001B[0;32m   1887\u001B[0m         \u001B[0mReturns\u001B[0m \u001B[0man\u001B[0m \u001B[0mIterator\u001B[0m \u001B[0mover\u001B[0m \u001B[0mthe\u001B[0m \u001B[0mvalues\u001B[0m \u001B[0mof\u001B[0m \u001B[0mthis\u001B[0m \u001B[0mCategorical\u001B[0m\u001B[1;33m.\u001B[0m\u001B[1;33m\u001B[0m\u001B[1;33m\u001B[0m\u001B[0m\n\u001B[0;32m   1888\u001B[0m         \"\"\"\n\u001B[1;32m-> 1889\u001B[1;33m         \u001B[1;32mreturn\u001B[0m \u001B[0miter\u001B[0m\u001B[1;33m(\u001B[0m\u001B[0mself\u001B[0m\u001B[1;33m.\u001B[0m\u001B[0m_internal_get_values\u001B[0m\u001B[1;33m(\u001B[0m\u001B[1;33m)\u001B[0m\u001B[1;33m.\u001B[0m\u001B[0mtolist\u001B[0m\u001B[1;33m(\u001B[0m\u001B[1;33m)\u001B[0m\u001B[1;33m)\u001B[0m\u001B[1;33m\u001B[0m\u001B[1;33m\u001B[0m\u001B[0m\n\u001B[0m\u001B[0;32m   1890\u001B[0m \u001B[1;33m\u001B[0m\u001B[0m\n\u001B[0;32m   1891\u001B[0m     \u001B[1;32mdef\u001B[0m \u001B[0m__contains__\u001B[0m\u001B[1;33m(\u001B[0m\u001B[0mself\u001B[0m\u001B[1;33m,\u001B[0m \u001B[0mkey\u001B[0m\u001B[1;33m)\u001B[0m \u001B[1;33m->\u001B[0m \u001B[0mbool\u001B[0m\u001B[1;33m:\u001B[0m\u001B[1;33m\u001B[0m\u001B[1;33m\u001B[0m\u001B[0m\n",
      "\u001B[1;32m~\\anaconda3\\lib\\site-packages\\pandas\\core\\arrays\\categorical.py\u001B[0m in \u001B[0;36m_internal_get_values\u001B[1;34m(self)\u001B[0m\n\u001B[0;32m   1638\u001B[0m         \u001B[1;32melif\u001B[0m \u001B[0mis_integer_dtype\u001B[0m\u001B[1;33m(\u001B[0m\u001B[0mself\u001B[0m\u001B[1;33m.\u001B[0m\u001B[0mcategories\u001B[0m\u001B[1;33m)\u001B[0m \u001B[1;32mand\u001B[0m \u001B[1;33m-\u001B[0m\u001B[1;36m1\u001B[0m \u001B[1;32min\u001B[0m \u001B[0mself\u001B[0m\u001B[1;33m.\u001B[0m\u001B[0m_codes\u001B[0m\u001B[1;33m:\u001B[0m\u001B[1;33m\u001B[0m\u001B[1;33m\u001B[0m\u001B[0m\n\u001B[0;32m   1639\u001B[0m             \u001B[1;32mreturn\u001B[0m \u001B[0mself\u001B[0m\u001B[1;33m.\u001B[0m\u001B[0mcategories\u001B[0m\u001B[1;33m.\u001B[0m\u001B[0mastype\u001B[0m\u001B[1;33m(\u001B[0m\u001B[1;34m\"object\"\u001B[0m\u001B[1;33m)\u001B[0m\u001B[1;33m.\u001B[0m\u001B[0mtake\u001B[0m\u001B[1;33m(\u001B[0m\u001B[0mself\u001B[0m\u001B[1;33m.\u001B[0m\u001B[0m_codes\u001B[0m\u001B[1;33m,\u001B[0m \u001B[0mfill_value\u001B[0m\u001B[1;33m=\u001B[0m\u001B[0mnp\u001B[0m\u001B[1;33m.\u001B[0m\u001B[0mnan\u001B[0m\u001B[1;33m)\u001B[0m\u001B[1;33m\u001B[0m\u001B[1;33m\u001B[0m\u001B[0m\n\u001B[1;32m-> 1640\u001B[1;33m         \u001B[1;32mreturn\u001B[0m \u001B[0mnp\u001B[0m\u001B[1;33m.\u001B[0m\u001B[0marray\u001B[0m\u001B[1;33m(\u001B[0m\u001B[0mself\u001B[0m\u001B[1;33m)\u001B[0m\u001B[1;33m\u001B[0m\u001B[1;33m\u001B[0m\u001B[0m\n\u001B[0m\u001B[0;32m   1641\u001B[0m \u001B[1;33m\u001B[0m\u001B[0m\n\u001B[0;32m   1642\u001B[0m     \u001B[1;32mdef\u001B[0m \u001B[0mcheck_for_ordered\u001B[0m\u001B[1;33m(\u001B[0m\u001B[0mself\u001B[0m\u001B[1;33m,\u001B[0m \u001B[0mop\u001B[0m\u001B[1;33m)\u001B[0m\u001B[1;33m:\u001B[0m\u001B[1;33m\u001B[0m\u001B[1;33m\u001B[0m\u001B[0m\n",
      "\u001B[1;32m~\\anaconda3\\lib\\site-packages\\pandas\\core\\arrays\\categorical.py\u001B[0m in \u001B[0;36m__array__\u001B[1;34m(self, dtype)\u001B[0m\n\u001B[0;32m   1448\u001B[0m             \u001B[0mcategorical\u001B[0m\u001B[1;33m.\u001B[0m\u001B[0mcategories\u001B[0m\u001B[1;33m.\u001B[0m\u001B[0mdtype\u001B[0m\u001B[1;33m.\u001B[0m\u001B[1;33m\u001B[0m\u001B[1;33m\u001B[0m\u001B[0m\n\u001B[0;32m   1449\u001B[0m         \"\"\"\n\u001B[1;32m-> 1450\u001B[1;33m         \u001B[0mret\u001B[0m \u001B[1;33m=\u001B[0m \u001B[0mtake_nd\u001B[0m\u001B[1;33m(\u001B[0m\u001B[0mself\u001B[0m\u001B[1;33m.\u001B[0m\u001B[0mcategories\u001B[0m\u001B[1;33m.\u001B[0m\u001B[0m_values\u001B[0m\u001B[1;33m,\u001B[0m \u001B[0mself\u001B[0m\u001B[1;33m.\u001B[0m\u001B[0m_codes\u001B[0m\u001B[1;33m)\u001B[0m\u001B[1;33m\u001B[0m\u001B[1;33m\u001B[0m\u001B[0m\n\u001B[0m\u001B[0;32m   1451\u001B[0m         \u001B[1;32mif\u001B[0m \u001B[0mdtype\u001B[0m \u001B[1;32mand\u001B[0m \u001B[1;32mnot\u001B[0m \u001B[0mis_dtype_equal\u001B[0m\u001B[1;33m(\u001B[0m\u001B[0mdtype\u001B[0m\u001B[1;33m,\u001B[0m \u001B[0mself\u001B[0m\u001B[1;33m.\u001B[0m\u001B[0mcategories\u001B[0m\u001B[1;33m.\u001B[0m\u001B[0mdtype\u001B[0m\u001B[1;33m)\u001B[0m\u001B[1;33m:\u001B[0m\u001B[1;33m\u001B[0m\u001B[1;33m\u001B[0m\u001B[0m\n\u001B[0;32m   1452\u001B[0m             \u001B[1;32mreturn\u001B[0m \u001B[0mnp\u001B[0m\u001B[1;33m.\u001B[0m\u001B[0masarray\u001B[0m\u001B[1;33m(\u001B[0m\u001B[0mret\u001B[0m\u001B[1;33m,\u001B[0m \u001B[0mdtype\u001B[0m\u001B[1;33m)\u001B[0m\u001B[1;33m\u001B[0m\u001B[1;33m\u001B[0m\u001B[0m\n",
      "\u001B[1;32m~\\anaconda3\\lib\\site-packages\\pandas\\core\\array_algos\\take.py\u001B[0m in \u001B[0;36mtake_nd\u001B[1;34m(arr, indexer, axis, fill_value, allow_fill)\u001B[0m\n\u001B[0;32m    106\u001B[0m \u001B[1;33m\u001B[0m\u001B[0m\n\u001B[0;32m    107\u001B[0m     \u001B[0marr\u001B[0m \u001B[1;33m=\u001B[0m \u001B[0mnp\u001B[0m\u001B[1;33m.\u001B[0m\u001B[0masarray\u001B[0m\u001B[1;33m(\u001B[0m\u001B[0marr\u001B[0m\u001B[1;33m)\u001B[0m\u001B[1;33m\u001B[0m\u001B[1;33m\u001B[0m\u001B[0m\n\u001B[1;32m--> 108\u001B[1;33m     \u001B[1;32mreturn\u001B[0m \u001B[0m_take_nd_ndarray\u001B[0m\u001B[1;33m(\u001B[0m\u001B[0marr\u001B[0m\u001B[1;33m,\u001B[0m \u001B[0mindexer\u001B[0m\u001B[1;33m,\u001B[0m \u001B[0maxis\u001B[0m\u001B[1;33m,\u001B[0m \u001B[0mfill_value\u001B[0m\u001B[1;33m,\u001B[0m \u001B[0mallow_fill\u001B[0m\u001B[1;33m)\u001B[0m\u001B[1;33m\u001B[0m\u001B[1;33m\u001B[0m\u001B[0m\n\u001B[0m\u001B[0;32m    109\u001B[0m \u001B[1;33m\u001B[0m\u001B[0m\n\u001B[0;32m    110\u001B[0m \u001B[1;33m\u001B[0m\u001B[0m\n",
      "\u001B[1;32m~\\anaconda3\\lib\\site-packages\\pandas\\core\\array_algos\\take.py\u001B[0m in \u001B[0;36m_take_nd_ndarray\u001B[1;34m(arr, indexer, axis, fill_value, allow_fill)\u001B[0m\n\u001B[0;32m    121\u001B[0m         \u001B[0mdtype\u001B[0m\u001B[1;33m,\u001B[0m \u001B[0mfill_value\u001B[0m \u001B[1;33m=\u001B[0m \u001B[0marr\u001B[0m\u001B[1;33m.\u001B[0m\u001B[0mdtype\u001B[0m\u001B[1;33m,\u001B[0m \u001B[0marr\u001B[0m\u001B[1;33m.\u001B[0m\u001B[0mdtype\u001B[0m\u001B[1;33m.\u001B[0m\u001B[0mtype\u001B[0m\u001B[1;33m(\u001B[0m\u001B[1;33m)\u001B[0m\u001B[1;33m\u001B[0m\u001B[1;33m\u001B[0m\u001B[0m\n\u001B[0;32m    122\u001B[0m     \u001B[1;32melse\u001B[0m\u001B[1;33m:\u001B[0m\u001B[1;33m\u001B[0m\u001B[1;33m\u001B[0m\u001B[0m\n\u001B[1;32m--> 123\u001B[1;33m         \u001B[0mindexer\u001B[0m \u001B[1;33m=\u001B[0m \u001B[0mensure_platform_int\u001B[0m\u001B[1;33m(\u001B[0m\u001B[0mindexer\u001B[0m\u001B[1;33m)\u001B[0m\u001B[1;33m\u001B[0m\u001B[1;33m\u001B[0m\u001B[0m\n\u001B[0m\u001B[0;32m    124\u001B[0m \u001B[1;33m\u001B[0m\u001B[0m\n\u001B[0;32m    125\u001B[0m     indexer, dtype, fill_value, mask_info = _take_preprocess_indexer_and_fill_value(\n",
      "\u001B[1;31mKeyboardInterrupt\u001B[0m: "
     ]
    }
   ],
   "source": [
    "# df.groupby([\"dateid\", \"matchid\", \"roundnumber\", \"team\"])[\"operator\"].apply(list).reset_index(name=\"operators\")"
   ],
   "metadata": {
    "collapsed": false,
    "pycharm": {
     "name": "#%%\n"
    }
   }
  }
 ],
 "metadata": {
  "kernelspec": {
   "display_name": "Python 3",
   "language": "python",
   "name": "python3"
  },
  "language_info": {
   "codemirror_mode": {
    "name": "ipython",
    "version": 2
   },
   "file_extension": ".py",
   "mimetype": "text/x-python",
   "name": "python",
   "nbconvert_exporter": "python",
   "pygments_lexer": "ipython2",
   "version": "2.7.6"
  }
 },
 "nbformat": 4,
 "nbformat_minor": 0
}