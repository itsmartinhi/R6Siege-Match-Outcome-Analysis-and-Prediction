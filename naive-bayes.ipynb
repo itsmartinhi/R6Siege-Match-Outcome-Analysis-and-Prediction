{
 "cells": [
  {
   "cell_type": "code",
   "execution_count": 1,
   "metadata": {
    "collapsed": true
   },
   "outputs": [],
   "source": [
    "import sys\n",
    "\n",
    "import pandas as pd\n",
    "import numpy as np\n",
    "from sklearn.naive_bayes import MultinomialNB\n",
    "from sklearn.model_selection import train_test_split\n",
    "from sklearn import preprocessing\n",
    "from tqdm import tqdm"
   ]
  },
  {
   "cell_type": "code",
   "execution_count": 2,
   "outputs": [],
   "source": [
    "df = pd.read_csv(\n",
    "    \"./data/data_reduced.csv\",\n",
    "    usecols={\n",
    "        \"dateid\",\n",
    "        \"platform\",\n",
    "        \"gamemode\",\n",
    "        \"mapname\",\n",
    "        \"matchid\",\n",
    "        \"roundnumber\",\n",
    "        \"objectivelocation\",\n",
    "        \"winrole\",\n",
    "        \"endroundreason\",\n",
    "        \"roundduration\",\n",
    "        \"clearancelevel\",\n",
    "        \"skillrank\",\n",
    "        \"role\",\n",
    "        \"team\",\n",
    "        \"haswon\",\n",
    "        \"operator\",\n",
    "        \"nbkills\",\n",
    "        \"isdead\"\n",
    "    },\n",
    "    dtype={\n",
    "        \"platform\": \"category\",\n",
    "        \"gamemode\": \"category\",\n",
    "        \"mapname\": \"category\",\n",
    "        \"matchid\": \"int64\",\n",
    "        \"roundnumber\": \"int64\",\n",
    "        \"objectivelocation\": \"category\",\n",
    "        \"winrole\": \"category\",\n",
    "        \"endroundreason\": \"category\",\n",
    "        \"roundduration\": \"int64\",\n",
    "        \"clearancelevel\": \"int64\",\n",
    "        \"skillrank\": \"category\",\n",
    "        \"role\": \"category\",\n",
    "        \"team\": \"int64\",\n",
    "        \"haswon\": \"boolean\",\n",
    "        \"operator\": \"category\",\n",
    "        \"nbkills\": \"int64\",\n",
    "        \"isdead\": \"boolean\"\n",
    "    },\n",
    "    parse_dates=[\"dateid\"]\n",
    ")"
   ],
   "metadata": {
    "collapsed": false,
    "pycharm": {
     "name": "#%%\n"
    }
   }
  },
  {
   "cell_type": "markdown",
   "source": [
    "Features:\n",
    "- Map\n",
    "- 5 Attacker Operators\n",
    "- 5 Defender Operators"
   ],
   "metadata": {
    "collapsed": false,
    "pycharm": {
     "name": "#%% md\n"
    }
   }
  },
  {
   "cell_type": "code",
   "execution_count": 3,
   "outputs": [],
   "source": [
    "operator_list = df[\"operator\"].unique().to_list()"
   ],
   "metadata": {
    "collapsed": false,
    "pycharm": {
     "name": "#%%\n"
    }
   }
  },
  {
   "cell_type": "code",
   "execution_count": 4,
   "outputs": [
    {
     "data": {
      "text/plain": "           matchid  roundnumber  playercount\n0           147541            1           10\n1           147541            2            9\n2           147541            3           10\n3           147541            4           10\n4           147541            5           10\n...            ...          ...          ...\n402805  4294898609            5           10\n402806  4294898609            6           10\n402807  4294898609            7           10\n402808  4294898609            8           10\n402809  4294898609            9           10\n\n[402810 rows x 3 columns]",
      "text/html": "<div>\n<style scoped>\n    .dataframe tbody tr th:only-of-type {\n        vertical-align: middle;\n    }\n\n    .dataframe tbody tr th {\n        vertical-align: top;\n    }\n\n    .dataframe thead th {\n        text-align: right;\n    }\n</style>\n<table border=\"1\" class=\"dataframe\">\n  <thead>\n    <tr style=\"text-align: right;\">\n      <th></th>\n      <th>matchid</th>\n      <th>roundnumber</th>\n      <th>playercount</th>\n    </tr>\n  </thead>\n  <tbody>\n    <tr>\n      <th>0</th>\n      <td>147541</td>\n      <td>1</td>\n      <td>10</td>\n    </tr>\n    <tr>\n      <th>1</th>\n      <td>147541</td>\n      <td>2</td>\n      <td>9</td>\n    </tr>\n    <tr>\n      <th>2</th>\n      <td>147541</td>\n      <td>3</td>\n      <td>10</td>\n    </tr>\n    <tr>\n      <th>3</th>\n      <td>147541</td>\n      <td>4</td>\n      <td>10</td>\n    </tr>\n    <tr>\n      <th>4</th>\n      <td>147541</td>\n      <td>5</td>\n      <td>10</td>\n    </tr>\n    <tr>\n      <th>...</th>\n      <td>...</td>\n      <td>...</td>\n      <td>...</td>\n    </tr>\n    <tr>\n      <th>402805</th>\n      <td>4294898609</td>\n      <td>5</td>\n      <td>10</td>\n    </tr>\n    <tr>\n      <th>402806</th>\n      <td>4294898609</td>\n      <td>6</td>\n      <td>10</td>\n    </tr>\n    <tr>\n      <th>402807</th>\n      <td>4294898609</td>\n      <td>7</td>\n      <td>10</td>\n    </tr>\n    <tr>\n      <th>402808</th>\n      <td>4294898609</td>\n      <td>8</td>\n      <td>10</td>\n    </tr>\n    <tr>\n      <th>402809</th>\n      <td>4294898609</td>\n      <td>9</td>\n      <td>10</td>\n    </tr>\n  </tbody>\n</table>\n<p>402810 rows × 3 columns</p>\n</div>"
     },
     "execution_count": 4,
     "metadata": {},
     "output_type": "execute_result"
    }
   ],
   "source": [
    "df_playercount = df.groupby([\"matchid\", \"roundnumber\"])[\"operator\"].count().reset_index(name=\"playercount\")\n",
    "df_playercount"
   ],
   "metadata": {
    "collapsed": false,
    "pycharm": {
     "name": "#%%\n"
    }
   }
  },
  {
   "cell_type": "code",
   "execution_count": 5,
   "outputs": [
    {
     "name": "stdout",
     "output_type": "stream",
     "text": [
      "(3889573, 19)\n"
     ]
    },
    {
     "data": {
      "text/plain": "      dateid platform gamemode      mapname     matchid  roundnumber  \\\n0 2017-02-12       PC     BOMB  BARTLETT_U.  1529883301            6   \n1 2017-02-12       PC     BOMB  BARTLETT_U.  1529883301            6   \n2 2017-02-12       PC     BOMB  BARTLETT_U.  1529883301            6   \n3 2017-02-12       PC     BOMB  BARTLETT_U.  1529883301            6   \n4 2017-02-12       PC     BOMB  BARTLETT_U.  1529883301            6   \n\n           objectivelocation   winrole       endroundreason  roundduration  \\\n0  ROWING_MUSEUM-TROPHY_ROOM  Attacker  DefendersEliminated            246   \n1  ROWING_MUSEUM-TROPHY_ROOM  Attacker  DefendersEliminated            246   \n2  ROWING_MUSEUM-TROPHY_ROOM  Attacker  DefendersEliminated            246   \n3  ROWING_MUSEUM-TROPHY_ROOM  Attacker  DefendersEliminated            246   \n4  ROWING_MUSEUM-TROPHY_ROOM  Attacker  DefendersEliminated            246   \n\n   clearancelevel skillrank      role  team  haswon       operator  nbkills  \\\n0             147  Platinum  Attacker     1    True      JTF2-BUCK        1   \n1              40  Unranked  Defender     0   False      GIGN-ROOK        0   \n2              56  Unranked  Defender     0   False    SWAT-CASTLE        1   \n3             171      Gold  Attacker     1    True     SAT-HIBANA        1   \n4             165  Platinum  Attacker     1    True  G.E.O.-JACKAL        1   \n\n   isdead  playercount  \n0    True           10  \n1    True           10  \n2    True           10  \n3   False           10  \n4   False           10  ",
      "text/html": "<div>\n<style scoped>\n    .dataframe tbody tr th:only-of-type {\n        vertical-align: middle;\n    }\n\n    .dataframe tbody tr th {\n        vertical-align: top;\n    }\n\n    .dataframe thead th {\n        text-align: right;\n    }\n</style>\n<table border=\"1\" class=\"dataframe\">\n  <thead>\n    <tr style=\"text-align: right;\">\n      <th></th>\n      <th>dateid</th>\n      <th>platform</th>\n      <th>gamemode</th>\n      <th>mapname</th>\n      <th>matchid</th>\n      <th>roundnumber</th>\n      <th>objectivelocation</th>\n      <th>winrole</th>\n      <th>endroundreason</th>\n      <th>roundduration</th>\n      <th>clearancelevel</th>\n      <th>skillrank</th>\n      <th>role</th>\n      <th>team</th>\n      <th>haswon</th>\n      <th>operator</th>\n      <th>nbkills</th>\n      <th>isdead</th>\n      <th>playercount</th>\n    </tr>\n  </thead>\n  <tbody>\n    <tr>\n      <th>0</th>\n      <td>2017-02-12</td>\n      <td>PC</td>\n      <td>BOMB</td>\n      <td>BARTLETT_U.</td>\n      <td>1529883301</td>\n      <td>6</td>\n      <td>ROWING_MUSEUM-TROPHY_ROOM</td>\n      <td>Attacker</td>\n      <td>DefendersEliminated</td>\n      <td>246</td>\n      <td>147</td>\n      <td>Platinum</td>\n      <td>Attacker</td>\n      <td>1</td>\n      <td>True</td>\n      <td>JTF2-BUCK</td>\n      <td>1</td>\n      <td>True</td>\n      <td>10</td>\n    </tr>\n    <tr>\n      <th>1</th>\n      <td>2017-02-12</td>\n      <td>PC</td>\n      <td>BOMB</td>\n      <td>BARTLETT_U.</td>\n      <td>1529883301</td>\n      <td>6</td>\n      <td>ROWING_MUSEUM-TROPHY_ROOM</td>\n      <td>Attacker</td>\n      <td>DefendersEliminated</td>\n      <td>246</td>\n      <td>40</td>\n      <td>Unranked</td>\n      <td>Defender</td>\n      <td>0</td>\n      <td>False</td>\n      <td>GIGN-ROOK</td>\n      <td>0</td>\n      <td>True</td>\n      <td>10</td>\n    </tr>\n    <tr>\n      <th>2</th>\n      <td>2017-02-12</td>\n      <td>PC</td>\n      <td>BOMB</td>\n      <td>BARTLETT_U.</td>\n      <td>1529883301</td>\n      <td>6</td>\n      <td>ROWING_MUSEUM-TROPHY_ROOM</td>\n      <td>Attacker</td>\n      <td>DefendersEliminated</td>\n      <td>246</td>\n      <td>56</td>\n      <td>Unranked</td>\n      <td>Defender</td>\n      <td>0</td>\n      <td>False</td>\n      <td>SWAT-CASTLE</td>\n      <td>1</td>\n      <td>True</td>\n      <td>10</td>\n    </tr>\n    <tr>\n      <th>3</th>\n      <td>2017-02-12</td>\n      <td>PC</td>\n      <td>BOMB</td>\n      <td>BARTLETT_U.</td>\n      <td>1529883301</td>\n      <td>6</td>\n      <td>ROWING_MUSEUM-TROPHY_ROOM</td>\n      <td>Attacker</td>\n      <td>DefendersEliminated</td>\n      <td>246</td>\n      <td>171</td>\n      <td>Gold</td>\n      <td>Attacker</td>\n      <td>1</td>\n      <td>True</td>\n      <td>SAT-HIBANA</td>\n      <td>1</td>\n      <td>False</td>\n      <td>10</td>\n    </tr>\n    <tr>\n      <th>4</th>\n      <td>2017-02-12</td>\n      <td>PC</td>\n      <td>BOMB</td>\n      <td>BARTLETT_U.</td>\n      <td>1529883301</td>\n      <td>6</td>\n      <td>ROWING_MUSEUM-TROPHY_ROOM</td>\n      <td>Attacker</td>\n      <td>DefendersEliminated</td>\n      <td>246</td>\n      <td>165</td>\n      <td>Platinum</td>\n      <td>Attacker</td>\n      <td>1</td>\n      <td>True</td>\n      <td>G.E.O.-JACKAL</td>\n      <td>1</td>\n      <td>False</td>\n      <td>10</td>\n    </tr>\n  </tbody>\n</table>\n</div>"
     },
     "execution_count": 5,
     "metadata": {},
     "output_type": "execute_result"
    }
   ],
   "source": [
    "df = pd.merge(left=df, right=df_playercount, on=[\"matchid\", \"roundnumber\"], how=\"inner\")\n",
    "print(df.shape)\n",
    "df.head()"
   ],
   "metadata": {
    "collapsed": false,
    "pycharm": {
     "name": "#%%\n"
    }
   }
  },
  {
   "cell_type": "code",
   "execution_count": 6,
   "outputs": [
    {
     "data": {
      "text/plain": "(2929600, 19)"
     },
     "execution_count": 6,
     "metadata": {},
     "output_type": "execute_result"
    }
   ],
   "source": [
    "df = df.loc[df[\"playercount\"] == 10]\n",
    "df.shape"
   ],
   "metadata": {
    "collapsed": false,
    "pycharm": {
     "name": "#%%\n"
    }
   }
  },
  {
   "cell_type": "markdown",
   "source": [
    "Drop every column that isn't needed anymore"
   ],
   "metadata": {
    "collapsed": false,
    "pycharm": {
     "name": "#%% md\n"
    }
   }
  },
  {
   "cell_type": "code",
   "execution_count": 7,
   "outputs": [
    {
     "data": {
      "text/plain": "       mapname     matchid  roundnumber          objectivelocation   winrole  \\\n0  BARTLETT_U.  1529883301            6  ROWING_MUSEUM-TROPHY_ROOM  Attacker   \n1  BARTLETT_U.  1529883301            6  ROWING_MUSEUM-TROPHY_ROOM  Attacker   \n2  BARTLETT_U.  1529883301            6  ROWING_MUSEUM-TROPHY_ROOM  Attacker   \n3  BARTLETT_U.  1529883301            6  ROWING_MUSEUM-TROPHY_ROOM  Attacker   \n4  BARTLETT_U.  1529883301            6  ROWING_MUSEUM-TROPHY_ROOM  Attacker   \n\n       role       operator  \n0  Attacker      JTF2-BUCK  \n1  Defender      GIGN-ROOK  \n2  Defender    SWAT-CASTLE  \n3  Attacker     SAT-HIBANA  \n4  Attacker  G.E.O.-JACKAL  ",
      "text/html": "<div>\n<style scoped>\n    .dataframe tbody tr th:only-of-type {\n        vertical-align: middle;\n    }\n\n    .dataframe tbody tr th {\n        vertical-align: top;\n    }\n\n    .dataframe thead th {\n        text-align: right;\n    }\n</style>\n<table border=\"1\" class=\"dataframe\">\n  <thead>\n    <tr style=\"text-align: right;\">\n      <th></th>\n      <th>mapname</th>\n      <th>matchid</th>\n      <th>roundnumber</th>\n      <th>objectivelocation</th>\n      <th>winrole</th>\n      <th>role</th>\n      <th>operator</th>\n    </tr>\n  </thead>\n  <tbody>\n    <tr>\n      <th>0</th>\n      <td>BARTLETT_U.</td>\n      <td>1529883301</td>\n      <td>6</td>\n      <td>ROWING_MUSEUM-TROPHY_ROOM</td>\n      <td>Attacker</td>\n      <td>Attacker</td>\n      <td>JTF2-BUCK</td>\n    </tr>\n    <tr>\n      <th>1</th>\n      <td>BARTLETT_U.</td>\n      <td>1529883301</td>\n      <td>6</td>\n      <td>ROWING_MUSEUM-TROPHY_ROOM</td>\n      <td>Attacker</td>\n      <td>Defender</td>\n      <td>GIGN-ROOK</td>\n    </tr>\n    <tr>\n      <th>2</th>\n      <td>BARTLETT_U.</td>\n      <td>1529883301</td>\n      <td>6</td>\n      <td>ROWING_MUSEUM-TROPHY_ROOM</td>\n      <td>Attacker</td>\n      <td>Defender</td>\n      <td>SWAT-CASTLE</td>\n    </tr>\n    <tr>\n      <th>3</th>\n      <td>BARTLETT_U.</td>\n      <td>1529883301</td>\n      <td>6</td>\n      <td>ROWING_MUSEUM-TROPHY_ROOM</td>\n      <td>Attacker</td>\n      <td>Attacker</td>\n      <td>SAT-HIBANA</td>\n    </tr>\n    <tr>\n      <th>4</th>\n      <td>BARTLETT_U.</td>\n      <td>1529883301</td>\n      <td>6</td>\n      <td>ROWING_MUSEUM-TROPHY_ROOM</td>\n      <td>Attacker</td>\n      <td>Attacker</td>\n      <td>G.E.O.-JACKAL</td>\n    </tr>\n  </tbody>\n</table>\n</div>"
     },
     "execution_count": 7,
     "metadata": {},
     "output_type": "execute_result"
    }
   ],
   "source": [
    "df = df.drop(columns=[\"dateid\", \"platform\", \"gamemode\", \"endroundreason\", \"roundduration\", \"clearancelevel\", \"team\", \"haswon\", \"nbkills\", \"isdead\", \"playercount\", \"skillrank\"], errors=\"ignore\")\n",
    "df.head()"
   ],
   "metadata": {
    "collapsed": false,
    "pycharm": {
     "name": "#%%\n"
    }
   }
  },
  {
   "cell_type": "markdown",
   "source": [
    "Calculate the operators per round"
   ],
   "metadata": {
    "collapsed": false,
    "pycharm": {
     "name": "#%% md\n"
    }
   }
  },
  {
   "cell_type": "code",
   "execution_count": 8,
   "outputs": [
    {
     "data": {
      "text/plain": "       mapname     matchid  roundnumber          objectivelocation   winrole  \\\n0  BARTLETT_U.  1529883301            6  ROWING_MUSEUM-TROPHY_ROOM  Attacker   \n1  BARTLETT_U.  1529883301            6  ROWING_MUSEUM-TROPHY_ROOM  Attacker   \n2  BARTLETT_U.  1529883301            6  ROWING_MUSEUM-TROPHY_ROOM  Attacker   \n3  BARTLETT_U.  1529883301            6  ROWING_MUSEUM-TROPHY_ROOM  Attacker   \n4  BARTLETT_U.  1529883301            6  ROWING_MUSEUM-TROPHY_ROOM  Attacker   \n\n       role       operator  OP_JTF2-BUCK  OP_GIGN-ROOK  OP_G.E.O.-MIRA  ...  \\\n0  Attacker      JTF2-BUCK           NaN           NaN             NaN  ...   \n1  Defender      GIGN-ROOK           NaN           NaN             NaN  ...   \n2  Defender    SWAT-CASTLE           NaN           NaN             NaN  ...   \n3  Attacker     SAT-HIBANA           NaN           NaN             NaN  ...   \n4  Attacker  G.E.O.-JACKAL           NaN           NaN             NaN  ...   \n\n   OP_SPETSNAZ-RESERVE  OP_GSG9-BLITZ  OP_BOPE-CAPITAO  OP_SPETSNAZ-KAPKAN  \\\n0                  NaN            NaN              NaN                 NaN   \n1                  NaN            NaN              NaN                 NaN   \n2                  NaN            NaN              NaN                 NaN   \n3                  NaN            NaN              NaN                 NaN   \n4                  NaN            NaN              NaN                 NaN   \n\n   OP_SPETSNAZ-TACHANKA  OP_SAT-ECHO  OP_SAS-RESERVE  OP_GIGN-RESERVE  \\\n0                   NaN          NaN             NaN              NaN   \n1                   NaN          NaN             NaN              NaN   \n2                   NaN          NaN             NaN              NaN   \n3                   NaN          NaN             NaN              NaN   \n4                   NaN          NaN             NaN              NaN   \n\n   OP_GSG9-RESERVE  OP_SWAT-RESERVE  \n0              NaN              NaN  \n1              NaN              NaN  \n2              NaN              NaN  \n3              NaN              NaN  \n4              NaN              NaN  \n\n[5 rows x 42 columns]",
      "text/html": "<div>\n<style scoped>\n    .dataframe tbody tr th:only-of-type {\n        vertical-align: middle;\n    }\n\n    .dataframe tbody tr th {\n        vertical-align: top;\n    }\n\n    .dataframe thead th {\n        text-align: right;\n    }\n</style>\n<table border=\"1\" class=\"dataframe\">\n  <thead>\n    <tr style=\"text-align: right;\">\n      <th></th>\n      <th>mapname</th>\n      <th>matchid</th>\n      <th>roundnumber</th>\n      <th>objectivelocation</th>\n      <th>winrole</th>\n      <th>role</th>\n      <th>operator</th>\n      <th>OP_JTF2-BUCK</th>\n      <th>OP_GIGN-ROOK</th>\n      <th>OP_G.E.O.-MIRA</th>\n      <th>...</th>\n      <th>OP_SPETSNAZ-RESERVE</th>\n      <th>OP_GSG9-BLITZ</th>\n      <th>OP_BOPE-CAPITAO</th>\n      <th>OP_SPETSNAZ-KAPKAN</th>\n      <th>OP_SPETSNAZ-TACHANKA</th>\n      <th>OP_SAT-ECHO</th>\n      <th>OP_SAS-RESERVE</th>\n      <th>OP_GIGN-RESERVE</th>\n      <th>OP_GSG9-RESERVE</th>\n      <th>OP_SWAT-RESERVE</th>\n    </tr>\n  </thead>\n  <tbody>\n    <tr>\n      <th>0</th>\n      <td>BARTLETT_U.</td>\n      <td>1529883301</td>\n      <td>6</td>\n      <td>ROWING_MUSEUM-TROPHY_ROOM</td>\n      <td>Attacker</td>\n      <td>Attacker</td>\n      <td>JTF2-BUCK</td>\n      <td>NaN</td>\n      <td>NaN</td>\n      <td>NaN</td>\n      <td>...</td>\n      <td>NaN</td>\n      <td>NaN</td>\n      <td>NaN</td>\n      <td>NaN</td>\n      <td>NaN</td>\n      <td>NaN</td>\n      <td>NaN</td>\n      <td>NaN</td>\n      <td>NaN</td>\n      <td>NaN</td>\n    </tr>\n    <tr>\n      <th>1</th>\n      <td>BARTLETT_U.</td>\n      <td>1529883301</td>\n      <td>6</td>\n      <td>ROWING_MUSEUM-TROPHY_ROOM</td>\n      <td>Attacker</td>\n      <td>Defender</td>\n      <td>GIGN-ROOK</td>\n      <td>NaN</td>\n      <td>NaN</td>\n      <td>NaN</td>\n      <td>...</td>\n      <td>NaN</td>\n      <td>NaN</td>\n      <td>NaN</td>\n      <td>NaN</td>\n      <td>NaN</td>\n      <td>NaN</td>\n      <td>NaN</td>\n      <td>NaN</td>\n      <td>NaN</td>\n      <td>NaN</td>\n    </tr>\n    <tr>\n      <th>2</th>\n      <td>BARTLETT_U.</td>\n      <td>1529883301</td>\n      <td>6</td>\n      <td>ROWING_MUSEUM-TROPHY_ROOM</td>\n      <td>Attacker</td>\n      <td>Defender</td>\n      <td>SWAT-CASTLE</td>\n      <td>NaN</td>\n      <td>NaN</td>\n      <td>NaN</td>\n      <td>...</td>\n      <td>NaN</td>\n      <td>NaN</td>\n      <td>NaN</td>\n      <td>NaN</td>\n      <td>NaN</td>\n      <td>NaN</td>\n      <td>NaN</td>\n      <td>NaN</td>\n      <td>NaN</td>\n      <td>NaN</td>\n    </tr>\n    <tr>\n      <th>3</th>\n      <td>BARTLETT_U.</td>\n      <td>1529883301</td>\n      <td>6</td>\n      <td>ROWING_MUSEUM-TROPHY_ROOM</td>\n      <td>Attacker</td>\n      <td>Attacker</td>\n      <td>SAT-HIBANA</td>\n      <td>NaN</td>\n      <td>NaN</td>\n      <td>NaN</td>\n      <td>...</td>\n      <td>NaN</td>\n      <td>NaN</td>\n      <td>NaN</td>\n      <td>NaN</td>\n      <td>NaN</td>\n      <td>NaN</td>\n      <td>NaN</td>\n      <td>NaN</td>\n      <td>NaN</td>\n      <td>NaN</td>\n    </tr>\n    <tr>\n      <th>4</th>\n      <td>BARTLETT_U.</td>\n      <td>1529883301</td>\n      <td>6</td>\n      <td>ROWING_MUSEUM-TROPHY_ROOM</td>\n      <td>Attacker</td>\n      <td>Attacker</td>\n      <td>G.E.O.-JACKAL</td>\n      <td>NaN</td>\n      <td>NaN</td>\n      <td>NaN</td>\n      <td>...</td>\n      <td>NaN</td>\n      <td>NaN</td>\n      <td>NaN</td>\n      <td>NaN</td>\n      <td>NaN</td>\n      <td>NaN</td>\n      <td>NaN</td>\n      <td>NaN</td>\n      <td>NaN</td>\n      <td>NaN</td>\n    </tr>\n  </tbody>\n</table>\n<p>5 rows × 42 columns</p>\n</div>"
     },
     "execution_count": 8,
     "metadata": {},
     "output_type": "execute_result"
    }
   ],
   "source": [
    "for operator in operator_list:\n",
    "    df[f\"OP_{operator}\"] = np.nan\n",
    "\n",
    "df.head()"
   ],
   "metadata": {
    "collapsed": false,
    "pycharm": {
     "name": "#%%\n"
    }
   }
  },
  {
   "cell_type": "code",
   "execution_count": null,
   "outputs": [
    {
     "name": "stderr",
     "output_type": "stream",
     "text": [
      " 21%|██▏       | 62514/292960 [08:00<35:57, 106.79it/s] "
     ]
    }
   ],
   "source": [
    "frames = []\n",
    "groupby_round = df.groupby([\"matchid\", \"roundnumber\"])\n",
    "del df\n",
    "\n",
    "for group, tbl in tqdm(groupby_round):\n",
    "\n",
    "    # tbl[\"ops\"] = str(tbl[\"operator\"].values.to_list())\n",
    "\n",
    "    for operator in operator_list:\n",
    "        tbl[f\"OP_{operator}\"] = operator in tbl[\"operator\"].values\n",
    "\n",
    "    # tbl = tbl.drop_duplicates(subset=[\"matchid\", \"roundnumber\"])\n",
    "    # tbl.drop(columns=[\"role\"])\n",
    "\n",
    "    frames.append(tbl)"
   ],
   "metadata": {
    "collapsed": false,
    "pycharm": {
     "name": "#%%\n",
     "is_executing": true
    }
   }
  },
  {
   "cell_type": "code",
   "execution_count": 35,
   "outputs": [
    {
     "data": {
      "text/plain": "          mapname     matchid  roundnumber     objectivelocation   winrole  \\\n0     BARTLETT_U.  1529883301            1     CLASSROOM-LIBRARY  Attacker   \n1     BARTLETT_U.  1529883301            1     CLASSROOM-LIBRARY  Attacker   \n2     BARTLETT_U.  1529883301            1     CLASSROOM-LIBRARY  Attacker   \n3     BARTLETT_U.  1529883301            1     CLASSROOM-LIBRARY  Attacker   \n4     BARTLETT_U.  1529883301            1     CLASSROOM-LIBRARY  Attacker   \n..            ...         ...          ...                   ...       ...   \n95  HEREFORD_BASE  1530052161            8  BRIEFING_ROOM-ARMORY  Defender   \n96  HEREFORD_BASE  1530052161            8  BRIEFING_ROOM-ARMORY  Defender   \n97  HEREFORD_BASE  1530052161            8  BRIEFING_ROOM-ARMORY  Defender   \n98  HEREFORD_BASE  1530052161            8  BRIEFING_ROOM-ARMORY  Defender   \n99  HEREFORD_BASE  1530052161            8  BRIEFING_ROOM-ARMORY  Defender   \n\n        role             operator  OP_JTF2-BUCK  OP_GIGN-ROOK  OP_G.E.O.-MIRA  \\\n0   Attacker  NAVYSEAL-BLACKBEARD         False         False           False   \n1   Defender           SWAT-PULSE         False         False           False   \n2   Attacker           SAT-HIBANA         False         False           False   \n3   Attacker              GSG9-IQ         False         False           False   \n4   Attacker          GIGN-TWITCH         False         False           False   \n..       ...                  ...           ...           ...             ...   \n95  Defender          G.E.O.-MIRA         False         False            True   \n96  Attacker           SAS-SLEDGE         False         False            True   \n97  Defender          GSG9-BANDIT         False         False            True   \n98  Defender             SAS-MUTE         False         False            True   \n99  Attacker        GIGN-MONTAGNE         False         False            True   \n\n    ...  OP_SPETSNAZ-RESERVE  OP_GSG9-BLITZ  OP_BOPE-CAPITAO  \\\n0   ...                False          False            False   \n1   ...                False          False            False   \n2   ...                False          False            False   \n3   ...                False          False            False   \n4   ...                False          False            False   \n..  ...                  ...            ...              ...   \n95  ...                False          False            False   \n96  ...                False          False            False   \n97  ...                False          False            False   \n98  ...                False          False            False   \n99  ...                False          False            False   \n\n    OP_SPETSNAZ-KAPKAN  OP_SPETSNAZ-TACHANKA  OP_SAT-ECHO  OP_SAS-RESERVE  \\\n0                False                 False        False           False   \n1                False                 False        False           False   \n2                False                 False        False           False   \n3                False                 False        False           False   \n4                False                 False        False           False   \n..                 ...                   ...          ...             ...   \n95               False                 False        False           False   \n96               False                 False        False           False   \n97               False                 False        False           False   \n98               False                 False        False           False   \n99               False                 False        False           False   \n\n    OP_GIGN-RESERVE  OP_GSG9-RESERVE  OP_SWAT-RESERVE  \n0             False            False            False  \n1             False            False            False  \n2             False            False            False  \n3             False            False            False  \n4             False            False            False  \n..              ...              ...              ...  \n95            False            False            False  \n96            False            False            False  \n97            False            False            False  \n98            False            False            False  \n99            False            False            False  \n\n[100 rows x 42 columns]",
      "text/html": "<div>\n<style scoped>\n    .dataframe tbody tr th:only-of-type {\n        vertical-align: middle;\n    }\n\n    .dataframe tbody tr th {\n        vertical-align: top;\n    }\n\n    .dataframe thead th {\n        text-align: right;\n    }\n</style>\n<table border=\"1\" class=\"dataframe\">\n  <thead>\n    <tr style=\"text-align: right;\">\n      <th></th>\n      <th>mapname</th>\n      <th>matchid</th>\n      <th>roundnumber</th>\n      <th>objectivelocation</th>\n      <th>winrole</th>\n      <th>role</th>\n      <th>operator</th>\n      <th>OP_JTF2-BUCK</th>\n      <th>OP_GIGN-ROOK</th>\n      <th>OP_G.E.O.-MIRA</th>\n      <th>...</th>\n      <th>OP_SPETSNAZ-RESERVE</th>\n      <th>OP_GSG9-BLITZ</th>\n      <th>OP_BOPE-CAPITAO</th>\n      <th>OP_SPETSNAZ-KAPKAN</th>\n      <th>OP_SPETSNAZ-TACHANKA</th>\n      <th>OP_SAT-ECHO</th>\n      <th>OP_SAS-RESERVE</th>\n      <th>OP_GIGN-RESERVE</th>\n      <th>OP_GSG9-RESERVE</th>\n      <th>OP_SWAT-RESERVE</th>\n    </tr>\n  </thead>\n  <tbody>\n    <tr>\n      <th>0</th>\n      <td>BARTLETT_U.</td>\n      <td>1529883301</td>\n      <td>1</td>\n      <td>CLASSROOM-LIBRARY</td>\n      <td>Attacker</td>\n      <td>Attacker</td>\n      <td>NAVYSEAL-BLACKBEARD</td>\n      <td>False</td>\n      <td>False</td>\n      <td>False</td>\n      <td>...</td>\n      <td>False</td>\n      <td>False</td>\n      <td>False</td>\n      <td>False</td>\n      <td>False</td>\n      <td>False</td>\n      <td>False</td>\n      <td>False</td>\n      <td>False</td>\n      <td>False</td>\n    </tr>\n    <tr>\n      <th>1</th>\n      <td>BARTLETT_U.</td>\n      <td>1529883301</td>\n      <td>1</td>\n      <td>CLASSROOM-LIBRARY</td>\n      <td>Attacker</td>\n      <td>Defender</td>\n      <td>SWAT-PULSE</td>\n      <td>False</td>\n      <td>False</td>\n      <td>False</td>\n      <td>...</td>\n      <td>False</td>\n      <td>False</td>\n      <td>False</td>\n      <td>False</td>\n      <td>False</td>\n      <td>False</td>\n      <td>False</td>\n      <td>False</td>\n      <td>False</td>\n      <td>False</td>\n    </tr>\n    <tr>\n      <th>2</th>\n      <td>BARTLETT_U.</td>\n      <td>1529883301</td>\n      <td>1</td>\n      <td>CLASSROOM-LIBRARY</td>\n      <td>Attacker</td>\n      <td>Attacker</td>\n      <td>SAT-HIBANA</td>\n      <td>False</td>\n      <td>False</td>\n      <td>False</td>\n      <td>...</td>\n      <td>False</td>\n      <td>False</td>\n      <td>False</td>\n      <td>False</td>\n      <td>False</td>\n      <td>False</td>\n      <td>False</td>\n      <td>False</td>\n      <td>False</td>\n      <td>False</td>\n    </tr>\n    <tr>\n      <th>3</th>\n      <td>BARTLETT_U.</td>\n      <td>1529883301</td>\n      <td>1</td>\n      <td>CLASSROOM-LIBRARY</td>\n      <td>Attacker</td>\n      <td>Attacker</td>\n      <td>GSG9-IQ</td>\n      <td>False</td>\n      <td>False</td>\n      <td>False</td>\n      <td>...</td>\n      <td>False</td>\n      <td>False</td>\n      <td>False</td>\n      <td>False</td>\n      <td>False</td>\n      <td>False</td>\n      <td>False</td>\n      <td>False</td>\n      <td>False</td>\n      <td>False</td>\n    </tr>\n    <tr>\n      <th>4</th>\n      <td>BARTLETT_U.</td>\n      <td>1529883301</td>\n      <td>1</td>\n      <td>CLASSROOM-LIBRARY</td>\n      <td>Attacker</td>\n      <td>Attacker</td>\n      <td>GIGN-TWITCH</td>\n      <td>False</td>\n      <td>False</td>\n      <td>False</td>\n      <td>...</td>\n      <td>False</td>\n      <td>False</td>\n      <td>False</td>\n      <td>False</td>\n      <td>False</td>\n      <td>False</td>\n      <td>False</td>\n      <td>False</td>\n      <td>False</td>\n      <td>False</td>\n    </tr>\n    <tr>\n      <th>...</th>\n      <td>...</td>\n      <td>...</td>\n      <td>...</td>\n      <td>...</td>\n      <td>...</td>\n      <td>...</td>\n      <td>...</td>\n      <td>...</td>\n      <td>...</td>\n      <td>...</td>\n      <td>...</td>\n      <td>...</td>\n      <td>...</td>\n      <td>...</td>\n      <td>...</td>\n      <td>...</td>\n      <td>...</td>\n      <td>...</td>\n      <td>...</td>\n      <td>...</td>\n      <td>...</td>\n    </tr>\n    <tr>\n      <th>95</th>\n      <td>HEREFORD_BASE</td>\n      <td>1530052161</td>\n      <td>8</td>\n      <td>BRIEFING_ROOM-ARMORY</td>\n      <td>Defender</td>\n      <td>Defender</td>\n      <td>G.E.O.-MIRA</td>\n      <td>False</td>\n      <td>False</td>\n      <td>True</td>\n      <td>...</td>\n      <td>False</td>\n      <td>False</td>\n      <td>False</td>\n      <td>False</td>\n      <td>False</td>\n      <td>False</td>\n      <td>False</td>\n      <td>False</td>\n      <td>False</td>\n      <td>False</td>\n    </tr>\n    <tr>\n      <th>96</th>\n      <td>HEREFORD_BASE</td>\n      <td>1530052161</td>\n      <td>8</td>\n      <td>BRIEFING_ROOM-ARMORY</td>\n      <td>Defender</td>\n      <td>Attacker</td>\n      <td>SAS-SLEDGE</td>\n      <td>False</td>\n      <td>False</td>\n      <td>True</td>\n      <td>...</td>\n      <td>False</td>\n      <td>False</td>\n      <td>False</td>\n      <td>False</td>\n      <td>False</td>\n      <td>False</td>\n      <td>False</td>\n      <td>False</td>\n      <td>False</td>\n      <td>False</td>\n    </tr>\n    <tr>\n      <th>97</th>\n      <td>HEREFORD_BASE</td>\n      <td>1530052161</td>\n      <td>8</td>\n      <td>BRIEFING_ROOM-ARMORY</td>\n      <td>Defender</td>\n      <td>Defender</td>\n      <td>GSG9-BANDIT</td>\n      <td>False</td>\n      <td>False</td>\n      <td>True</td>\n      <td>...</td>\n      <td>False</td>\n      <td>False</td>\n      <td>False</td>\n      <td>False</td>\n      <td>False</td>\n      <td>False</td>\n      <td>False</td>\n      <td>False</td>\n      <td>False</td>\n      <td>False</td>\n    </tr>\n    <tr>\n      <th>98</th>\n      <td>HEREFORD_BASE</td>\n      <td>1530052161</td>\n      <td>8</td>\n      <td>BRIEFING_ROOM-ARMORY</td>\n      <td>Defender</td>\n      <td>Defender</td>\n      <td>SAS-MUTE</td>\n      <td>False</td>\n      <td>False</td>\n      <td>True</td>\n      <td>...</td>\n      <td>False</td>\n      <td>False</td>\n      <td>False</td>\n      <td>False</td>\n      <td>False</td>\n      <td>False</td>\n      <td>False</td>\n      <td>False</td>\n      <td>False</td>\n      <td>False</td>\n    </tr>\n    <tr>\n      <th>99</th>\n      <td>HEREFORD_BASE</td>\n      <td>1530052161</td>\n      <td>8</td>\n      <td>BRIEFING_ROOM-ARMORY</td>\n      <td>Defender</td>\n      <td>Attacker</td>\n      <td>GIGN-MONTAGNE</td>\n      <td>False</td>\n      <td>False</td>\n      <td>True</td>\n      <td>...</td>\n      <td>False</td>\n      <td>False</td>\n      <td>False</td>\n      <td>False</td>\n      <td>False</td>\n      <td>False</td>\n      <td>False</td>\n      <td>False</td>\n      <td>False</td>\n      <td>False</td>\n    </tr>\n  </tbody>\n</table>\n<p>100 rows × 42 columns</p>\n</div>"
     },
     "execution_count": 35,
     "metadata": {},
     "output_type": "execute_result"
    }
   ],
   "source": [
    "# df_test = pd.concat(frames).reset_index(drop=True)\n",
    "df_test = pd.concat(frames)\n",
    "df_test"
   ],
   "metadata": {
    "collapsed": false,
    "pycharm": {
     "name": "#%%\n"
    }
   }
  },
  {
   "cell_type": "code",
   "execution_count": 14,
   "outputs": [
    {
     "data": {
      "text/plain": "             mapname     matchid  roundnumber       objectivelocation  \\\n50       BARTLETT_U.  1529883301            1       CLASSROOM-LIBRARY   \n10       BARTLETT_U.  1529883301            2    READING_ROOM-LIBRARY   \n40       BARTLETT_U.  1529883301            3       CLASSROOM-LIBRARY   \n20       BARTLETT_U.  1529883301            4      KITCHEN-PIANO_ROOM   \n60       BARTLETT_U.  1529883301            5    READING_ROOM-LIBRARY   \n...              ...         ...          ...                     ...   \n12854          HOUSE  2108803141            7  KID'S_BEDROOM-WORKSHOP   \n12894          HOUSE  2108803141            8    TRAINING_ROOM-GARAGE   \n12864          HOUSE  2108803141            9  KID'S_BEDROOM-WORKSHOP   \n12924  HEREFORD_BASE  2119229301            2    BRIEFING_ROOM-ARMORY   \n12914  HEREFORD_BASE  2119229301            3     DUMMY_DEPOT-STORAGE   \n\n        winrole      role             operator  OP_JTF2-BUCK  OP_GIGN-ROOK  \\\n50     Attacker  Attacker  NAVYSEAL-BLACKBEARD         False         False   \n10     Defender  Defender            GIGN-ROOK         False          True   \n40     Defender  Defender           GSG9-JAGER         False          True   \n20     Attacker  Defender          G.E.O.-MIRA         False          True   \n60     Attacker  Defender           SWAT-PULSE         False          True   \n...         ...       ...                  ...           ...           ...   \n12854  Attacker  Attacker         BOPE-CAPITAO         False         False   \n12894  Attacker  Defender             SAS-MUTE          True          True   \n12864  Attacker  Attacker        G.E.O.-JACKAL         False         False   \n12924  Defender  Defender           SWAT-PULSE          True          True   \n12914  Attacker  Defender          GSG9-BANDIT         False          True   \n\n       OP_G.E.O.-MIRA  ...  OP_SPETSNAZ-RESERVE  OP_GSG9-BLITZ  \\\n50              False  ...                False          False   \n10               True  ...                False          False   \n40              False  ...                False          False   \n20               True  ...                False          False   \n60              False  ...                False          False   \n...               ...  ...                  ...            ...   \n12854           False  ...                False          False   \n12894            True  ...                False          False   \n12864           False  ...                False          False   \n12924           False  ...                False          False   \n12914            True  ...                False          False   \n\n       OP_BOPE-CAPITAO  OP_SPETSNAZ-KAPKAN  OP_SPETSNAZ-TACHANKA  OP_SAT-ECHO  \\\n50               False               False                 False        False   \n10               False               False                 False        False   \n40               False               False                 False        False   \n20               False               False                 False        False   \n60               False               False                 False        False   \n...                ...                 ...                   ...          ...   \n12854             True                True                 False        False   \n12894             True               False                 False        False   \n12864            False                True                 False        False   \n12924            False               False                 False        False   \n12914            False               False                 False        False   \n\n       OP_SAS-RESERVE  OP_GIGN-RESERVE  OP_GSG9-RESERVE  OP_SWAT-RESERVE  \n50              False            False            False            False  \n10              False            False            False            False  \n40              False            False            False            False  \n20              False            False            False            False  \n60              False            False            False            False  \n...               ...              ...              ...              ...  \n12854           False            False            False            False  \n12894           False            False            False            False  \n12864           False            False            False            False  \n12924           False            False            False            False  \n12914           False            False            False            False  \n\n[1000 rows x 42 columns]",
      "text/html": "<div>\n<style scoped>\n    .dataframe tbody tr th:only-of-type {\n        vertical-align: middle;\n    }\n\n    .dataframe tbody tr th {\n        vertical-align: top;\n    }\n\n    .dataframe thead th {\n        text-align: right;\n    }\n</style>\n<table border=\"1\" class=\"dataframe\">\n  <thead>\n    <tr style=\"text-align: right;\">\n      <th></th>\n      <th>mapname</th>\n      <th>matchid</th>\n      <th>roundnumber</th>\n      <th>objectivelocation</th>\n      <th>winrole</th>\n      <th>role</th>\n      <th>operator</th>\n      <th>OP_JTF2-BUCK</th>\n      <th>OP_GIGN-ROOK</th>\n      <th>OP_G.E.O.-MIRA</th>\n      <th>...</th>\n      <th>OP_SPETSNAZ-RESERVE</th>\n      <th>OP_GSG9-BLITZ</th>\n      <th>OP_BOPE-CAPITAO</th>\n      <th>OP_SPETSNAZ-KAPKAN</th>\n      <th>OP_SPETSNAZ-TACHANKA</th>\n      <th>OP_SAT-ECHO</th>\n      <th>OP_SAS-RESERVE</th>\n      <th>OP_GIGN-RESERVE</th>\n      <th>OP_GSG9-RESERVE</th>\n      <th>OP_SWAT-RESERVE</th>\n    </tr>\n  </thead>\n  <tbody>\n    <tr>\n      <th>50</th>\n      <td>BARTLETT_U.</td>\n      <td>1529883301</td>\n      <td>1</td>\n      <td>CLASSROOM-LIBRARY</td>\n      <td>Attacker</td>\n      <td>Attacker</td>\n      <td>NAVYSEAL-BLACKBEARD</td>\n      <td>False</td>\n      <td>False</td>\n      <td>False</td>\n      <td>...</td>\n      <td>False</td>\n      <td>False</td>\n      <td>False</td>\n      <td>False</td>\n      <td>False</td>\n      <td>False</td>\n      <td>False</td>\n      <td>False</td>\n      <td>False</td>\n      <td>False</td>\n    </tr>\n    <tr>\n      <th>10</th>\n      <td>BARTLETT_U.</td>\n      <td>1529883301</td>\n      <td>2</td>\n      <td>READING_ROOM-LIBRARY</td>\n      <td>Defender</td>\n      <td>Defender</td>\n      <td>GIGN-ROOK</td>\n      <td>False</td>\n      <td>True</td>\n      <td>True</td>\n      <td>...</td>\n      <td>False</td>\n      <td>False</td>\n      <td>False</td>\n      <td>False</td>\n      <td>False</td>\n      <td>False</td>\n      <td>False</td>\n      <td>False</td>\n      <td>False</td>\n      <td>False</td>\n    </tr>\n    <tr>\n      <th>40</th>\n      <td>BARTLETT_U.</td>\n      <td>1529883301</td>\n      <td>3</td>\n      <td>CLASSROOM-LIBRARY</td>\n      <td>Defender</td>\n      <td>Defender</td>\n      <td>GSG9-JAGER</td>\n      <td>False</td>\n      <td>True</td>\n      <td>False</td>\n      <td>...</td>\n      <td>False</td>\n      <td>False</td>\n      <td>False</td>\n      <td>False</td>\n      <td>False</td>\n      <td>False</td>\n      <td>False</td>\n      <td>False</td>\n      <td>False</td>\n      <td>False</td>\n    </tr>\n    <tr>\n      <th>20</th>\n      <td>BARTLETT_U.</td>\n      <td>1529883301</td>\n      <td>4</td>\n      <td>KITCHEN-PIANO_ROOM</td>\n      <td>Attacker</td>\n      <td>Defender</td>\n      <td>G.E.O.-MIRA</td>\n      <td>False</td>\n      <td>True</td>\n      <td>True</td>\n      <td>...</td>\n      <td>False</td>\n      <td>False</td>\n      <td>False</td>\n      <td>False</td>\n      <td>False</td>\n      <td>False</td>\n      <td>False</td>\n      <td>False</td>\n      <td>False</td>\n      <td>False</td>\n    </tr>\n    <tr>\n      <th>60</th>\n      <td>BARTLETT_U.</td>\n      <td>1529883301</td>\n      <td>5</td>\n      <td>READING_ROOM-LIBRARY</td>\n      <td>Attacker</td>\n      <td>Defender</td>\n      <td>SWAT-PULSE</td>\n      <td>False</td>\n      <td>True</td>\n      <td>False</td>\n      <td>...</td>\n      <td>False</td>\n      <td>False</td>\n      <td>False</td>\n      <td>False</td>\n      <td>False</td>\n      <td>False</td>\n      <td>False</td>\n      <td>False</td>\n      <td>False</td>\n      <td>False</td>\n    </tr>\n    <tr>\n      <th>...</th>\n      <td>...</td>\n      <td>...</td>\n      <td>...</td>\n      <td>...</td>\n      <td>...</td>\n      <td>...</td>\n      <td>...</td>\n      <td>...</td>\n      <td>...</td>\n      <td>...</td>\n      <td>...</td>\n      <td>...</td>\n      <td>...</td>\n      <td>...</td>\n      <td>...</td>\n      <td>...</td>\n      <td>...</td>\n      <td>...</td>\n      <td>...</td>\n      <td>...</td>\n      <td>...</td>\n    </tr>\n    <tr>\n      <th>12854</th>\n      <td>HOUSE</td>\n      <td>2108803141</td>\n      <td>7</td>\n      <td>KID'S_BEDROOM-WORKSHOP</td>\n      <td>Attacker</td>\n      <td>Attacker</td>\n      <td>BOPE-CAPITAO</td>\n      <td>False</td>\n      <td>False</td>\n      <td>False</td>\n      <td>...</td>\n      <td>False</td>\n      <td>False</td>\n      <td>True</td>\n      <td>True</td>\n      <td>False</td>\n      <td>False</td>\n      <td>False</td>\n      <td>False</td>\n      <td>False</td>\n      <td>False</td>\n    </tr>\n    <tr>\n      <th>12894</th>\n      <td>HOUSE</td>\n      <td>2108803141</td>\n      <td>8</td>\n      <td>TRAINING_ROOM-GARAGE</td>\n      <td>Attacker</td>\n      <td>Defender</td>\n      <td>SAS-MUTE</td>\n      <td>True</td>\n      <td>True</td>\n      <td>True</td>\n      <td>...</td>\n      <td>False</td>\n      <td>False</td>\n      <td>True</td>\n      <td>False</td>\n      <td>False</td>\n      <td>False</td>\n      <td>False</td>\n      <td>False</td>\n      <td>False</td>\n      <td>False</td>\n    </tr>\n    <tr>\n      <th>12864</th>\n      <td>HOUSE</td>\n      <td>2108803141</td>\n      <td>9</td>\n      <td>KID'S_BEDROOM-WORKSHOP</td>\n      <td>Attacker</td>\n      <td>Attacker</td>\n      <td>G.E.O.-JACKAL</td>\n      <td>False</td>\n      <td>False</td>\n      <td>False</td>\n      <td>...</td>\n      <td>False</td>\n      <td>False</td>\n      <td>False</td>\n      <td>True</td>\n      <td>False</td>\n      <td>False</td>\n      <td>False</td>\n      <td>False</td>\n      <td>False</td>\n      <td>False</td>\n    </tr>\n    <tr>\n      <th>12924</th>\n      <td>HEREFORD_BASE</td>\n      <td>2119229301</td>\n      <td>2</td>\n      <td>BRIEFING_ROOM-ARMORY</td>\n      <td>Defender</td>\n      <td>Defender</td>\n      <td>SWAT-PULSE</td>\n      <td>True</td>\n      <td>True</td>\n      <td>False</td>\n      <td>...</td>\n      <td>False</td>\n      <td>False</td>\n      <td>False</td>\n      <td>False</td>\n      <td>False</td>\n      <td>False</td>\n      <td>False</td>\n      <td>False</td>\n      <td>False</td>\n      <td>False</td>\n    </tr>\n    <tr>\n      <th>12914</th>\n      <td>HEREFORD_BASE</td>\n      <td>2119229301</td>\n      <td>3</td>\n      <td>DUMMY_DEPOT-STORAGE</td>\n      <td>Attacker</td>\n      <td>Defender</td>\n      <td>GSG9-BANDIT</td>\n      <td>False</td>\n      <td>True</td>\n      <td>True</td>\n      <td>...</td>\n      <td>False</td>\n      <td>False</td>\n      <td>False</td>\n      <td>False</td>\n      <td>False</td>\n      <td>False</td>\n      <td>False</td>\n      <td>False</td>\n      <td>False</td>\n      <td>False</td>\n    </tr>\n  </tbody>\n</table>\n<p>1000 rows × 42 columns</p>\n</div>"
     },
     "execution_count": 14,
     "metadata": {},
     "output_type": "execute_result"
    }
   ],
   "source": [
    "df_test = df_test.drop_duplicates(subset=[\"matchid\", \"roundnumber\"])\n",
    "df_test"
   ],
   "metadata": {
    "collapsed": false,
    "pycharm": {
     "name": "#%%\n"
    }
   }
  },
  {
   "cell_type": "code",
   "execution_count": 154,
   "outputs": [],
   "source": [
    "df_test.to_csv(\"./data/hot-encoded-data.csv\")\n",
    "print(\"congrats u did it!\")"
   ],
   "metadata": {
    "collapsed": false,
    "pycharm": {
     "name": "#%%\n"
    }
   }
  },
  {
   "cell_type": "code",
   "execution_count": 155,
   "outputs": [],
   "source": [
    "# df_ops_per_round = df.groupby([\"matchid\", \"roundnumber\"])[\"operator\"].apply(list).reset_index()\n",
    "# df_ops_per_round"
   ],
   "metadata": {
    "collapsed": false,
    "pycharm": {
     "name": "#%%\n"
    }
   }
  },
  {
   "cell_type": "code",
   "execution_count": 156,
   "outputs": [],
   "source": [
    "# def one_hot_encode_ops(row):\n",
    "#     # for operator in operator_list:\n",
    "#     #     row[f\"OP_{operator}\"] = int(operator in row[\"operator\"])\n",
    "#\n",
    "#\n",
    "#     return row"
   ],
   "metadata": {
    "collapsed": false,
    "pycharm": {
     "name": "#%%\n"
    }
   }
  },
  {
   "cell_type": "code",
   "execution_count": 157,
   "outputs": [],
   "source": [
    "# df_ops_per_round.head(10).apply(one_hot_encode_ops, axis=1)\n",
    "# df_ops_per_round = df_ops_per_round.head(1000).apply(one_hot_encode_ops, axis=1)\n",
    "# print(df_ops_per_round.shape)\n",
    "# df_ops_per_round.head()"
   ],
   "metadata": {
    "collapsed": false,
    "pycharm": {
     "name": "#%%\n"
    }
   }
  },
  {
   "cell_type": "code",
   "execution_count": 158,
   "outputs": [],
   "source": [
    "# for operator in operator_list:\n",
    "#     df_ops_per_round[f\"OP_{operator}\"] = int(operator in df_ops_per_round[\"operator\"])\n",
    "#\n",
    "# df_ops_per_round"
   ],
   "metadata": {
    "collapsed": false,
    "pycharm": {
     "name": "#%%\n"
    }
   }
  },
  {
   "cell_type": "code",
   "execution_count": 159,
   "outputs": [],
   "source": [
    "# df_sample = df.loc[(df[\"mapname\"] == \"CHALET\") | (df[\"mapname\"] == \"FAVELAS\") | (df[\"mapname\"] == \"BARTLETT_U.\") | (df[\"mapname\"] == \"HOUSE\")]\n",
    "# df_sample = df.loc[(df[\"mapname\"] == \"CHALET\")]\n",
    "# df_sample = df\n",
    "# df_sample"
   ],
   "metadata": {
    "collapsed": false,
    "pycharm": {
     "name": "#%%\n"
    }
   }
  },
  {
   "cell_type": "code",
   "execution_count": 160,
   "outputs": [],
   "source": [
    "# df_sample_2 = df_sample.groupby([\"matchid\", \"roundnumber\"])[\"operator\"].apply(list).reset_index()\n",
    "# df_sample_2"
   ],
   "metadata": {
    "collapsed": false,
    "pycharm": {
     "name": "#%%\n"
    }
   }
  },
  {
   "cell_type": "code",
   "execution_count": 161,
   "outputs": [],
   "source": [
    "# df_sample_3 = pd.merge(left=df_sample_2, right=df_sample[[\"matchid\", \"roundnumber\", \"mapname\", \"objectivelocation\", \"winrole\"]], on=[\"matchid\", \"roundnumber\"], how=\"inner\").drop_duplicates(subset=[\"matchid\", \"roundnumber\"]).drop(columns=[\"matchid\", \"roundnumber\"])\n",
    "# df_sample_3"
   ],
   "metadata": {
    "collapsed": false,
    "pycharm": {
     "name": "#%%\n"
    }
   }
  },
  {
   "cell_type": "code",
   "execution_count": 162,
   "outputs": [],
   "source": [
    "# df_sample_3[\"nboperators\"] = df_sample_3[\"operator\"].apply(len)\n",
    "# df_sample_3"
   ],
   "metadata": {
    "collapsed": false,
    "pycharm": {
     "name": "#%%\n"
    }
   }
  },
  {
   "cell_type": "code",
   "execution_count": 163,
   "outputs": [],
   "source": [
    "# df_sample_4 = df_sample_3.loc[df_sample_3[\"nboperators\"] == 10]\n",
    "# df_sample_4 = df_sample_4.drop(columns=[\"nboperators\"]).reset_index(drop=True)\n",
    "# df_sample_4"
   ],
   "metadata": {
    "collapsed": false,
    "pycharm": {
     "name": "#%%\n"
    }
   }
  },
  {
   "cell_type": "code",
   "execution_count": 164,
   "outputs": [],
   "source": [
    "# df_sample_5 = pd.DataFrame(df_sample_4['operator'].tolist(), columns=[f\"operator_{x}\" for x in range(1, 11)])\n",
    "# df_sample_5"
   ],
   "metadata": {
    "collapsed": false,
    "pycharm": {
     "name": "#%%\n"
    }
   }
  },
  {
   "cell_type": "code",
   "execution_count": 165,
   "outputs": [],
   "source": [
    "# df_sample_6 = pd.concat([df_sample_4, df_sample_5], axis=1).drop(columns=[\"operator\"])\n",
    "# df_sample_6"
   ],
   "metadata": {
    "collapsed": false,
    "pycharm": {
     "name": "#%%\n"
    }
   }
  },
  {
   "cell_type": "code",
   "execution_count": 166,
   "outputs": [],
   "source": [
    "# df_labels = df_sample_6[\"winrole\"]\n",
    "# df_labels"
   ],
   "metadata": {
    "collapsed": false,
    "pycharm": {
     "name": "#%%\n"
    }
   }
  },
  {
   "cell_type": "code",
   "execution_count": 167,
   "outputs": [],
   "source": [
    "# df_sample_7 = df_sample_6.drop(columns=[\"winrole\", \"objectivelocation\"])\n",
    "# df_sample_7"
   ],
   "metadata": {
    "collapsed": false,
    "pycharm": {
     "name": "#%%\n"
    }
   }
  },
  {
   "cell_type": "code",
   "execution_count": 30,
   "outputs": [
    {
     "name": "stdout",
     "output_type": "stream",
     "text": [
      "(10000,)\n",
      "(10000, 37)\n"
     ]
    }
   ],
   "source": [
    "df_labels = df_test[\"winrole\"]\n",
    "df_features = df_test.drop(columns=[\"matchid\", \"roundnumber\", \"winrole\", \"skillrank\", \"role\", \"operator\"])\n",
    "print(df_labels.shape)\n",
    "print(df_features.shape)"
   ],
   "metadata": {
    "collapsed": false,
    "pycharm": {
     "name": "#%%\n"
    }
   }
  },
  {
   "cell_type": "code",
   "execution_count": 31,
   "outputs": [
    {
     "data": {
      "text/plain": "      mapname            objectivelocation  OP_JTF2-BUCK  OP_GIGN-ROOK  \\\n24693    BANK  EXECUTIVE_LOUNGE-CEO_OFFICE         False          True   \n24683    BANK            LOCKERS-CCTV_ROOM         False          True   \n24723    BANK     TELLERS'_OFFICE-ARCHIVES         False          True   \n24673    BANK  EXECUTIVE_LOUNGE-CEO_OFFICE          True          True   \n24663    BANK            LOCKERS-CCTV_ROOM         False          True   \n\n       OP_G.E.O.-MIRA  OP_SWAT-CASTLE  OP_GSG9-JAGER  OP_NAVYSEAL-BLACKBEARD  \\\n24693           False           False          False                   False   \n24683            True           False           True                   False   \n24723           False           False          False                   False   \n24673           False           False           True                   False   \n24663            True           False          False                   False   \n\n       OP_SWAT-PULSE  OP_GIGN-MONTAGNE  ...  OP_SPETSNAZ-RESERVE  \\\n24693           True              True  ...                False   \n24683          False             False  ...                False   \n24723           True              True  ...                False   \n24673          False             False  ...                False   \n24663          False              True  ...                False   \n\n       OP_GSG9-BLITZ  OP_BOPE-CAPITAO  OP_SPETSNAZ-KAPKAN  \\\n24693          False            False                True   \n24683          False            False               False   \n24723          False            False               False   \n24673          False             True               False   \n24663          False            False                True   \n\n       OP_SPETSNAZ-TACHANKA  OP_SAT-ECHO  OP_SAS-RESERVE  OP_GIGN-RESERVE  \\\n24693                 False        False           False            False   \n24683                 False        False           False            False   \n24723                 False        False           False            False   \n24673                 False         True           False            False   \n24663                 False        False           False            False   \n\n       OP_GSG9-RESERVE  OP_SWAT-RESERVE  \n24693            False            False  \n24683            False            False  \n24723            False            False  \n24673            False            False  \n24663            False            False  \n\n[5 rows x 37 columns]",
      "text/html": "<div>\n<style scoped>\n    .dataframe tbody tr th:only-of-type {\n        vertical-align: middle;\n    }\n\n    .dataframe tbody tr th {\n        vertical-align: top;\n    }\n\n    .dataframe thead th {\n        text-align: right;\n    }\n</style>\n<table border=\"1\" class=\"dataframe\">\n  <thead>\n    <tr style=\"text-align: right;\">\n      <th></th>\n      <th>mapname</th>\n      <th>objectivelocation</th>\n      <th>OP_JTF2-BUCK</th>\n      <th>OP_GIGN-ROOK</th>\n      <th>OP_G.E.O.-MIRA</th>\n      <th>OP_SWAT-CASTLE</th>\n      <th>OP_GSG9-JAGER</th>\n      <th>OP_NAVYSEAL-BLACKBEARD</th>\n      <th>OP_SWAT-PULSE</th>\n      <th>OP_GIGN-MONTAGNE</th>\n      <th>...</th>\n      <th>OP_SPETSNAZ-RESERVE</th>\n      <th>OP_GSG9-BLITZ</th>\n      <th>OP_BOPE-CAPITAO</th>\n      <th>OP_SPETSNAZ-KAPKAN</th>\n      <th>OP_SPETSNAZ-TACHANKA</th>\n      <th>OP_SAT-ECHO</th>\n      <th>OP_SAS-RESERVE</th>\n      <th>OP_GIGN-RESERVE</th>\n      <th>OP_GSG9-RESERVE</th>\n      <th>OP_SWAT-RESERVE</th>\n    </tr>\n  </thead>\n  <tbody>\n    <tr>\n      <th>24693</th>\n      <td>BANK</td>\n      <td>EXECUTIVE_LOUNGE-CEO_OFFICE</td>\n      <td>False</td>\n      <td>True</td>\n      <td>False</td>\n      <td>False</td>\n      <td>False</td>\n      <td>False</td>\n      <td>True</td>\n      <td>True</td>\n      <td>...</td>\n      <td>False</td>\n      <td>False</td>\n      <td>False</td>\n      <td>True</td>\n      <td>False</td>\n      <td>False</td>\n      <td>False</td>\n      <td>False</td>\n      <td>False</td>\n      <td>False</td>\n    </tr>\n    <tr>\n      <th>24683</th>\n      <td>BANK</td>\n      <td>LOCKERS-CCTV_ROOM</td>\n      <td>False</td>\n      <td>True</td>\n      <td>True</td>\n      <td>False</td>\n      <td>True</td>\n      <td>False</td>\n      <td>False</td>\n      <td>False</td>\n      <td>...</td>\n      <td>False</td>\n      <td>False</td>\n      <td>False</td>\n      <td>False</td>\n      <td>False</td>\n      <td>False</td>\n      <td>False</td>\n      <td>False</td>\n      <td>False</td>\n      <td>False</td>\n    </tr>\n    <tr>\n      <th>24723</th>\n      <td>BANK</td>\n      <td>TELLERS'_OFFICE-ARCHIVES</td>\n      <td>False</td>\n      <td>True</td>\n      <td>False</td>\n      <td>False</td>\n      <td>False</td>\n      <td>False</td>\n      <td>True</td>\n      <td>True</td>\n      <td>...</td>\n      <td>False</td>\n      <td>False</td>\n      <td>False</td>\n      <td>False</td>\n      <td>False</td>\n      <td>False</td>\n      <td>False</td>\n      <td>False</td>\n      <td>False</td>\n      <td>False</td>\n    </tr>\n    <tr>\n      <th>24673</th>\n      <td>BANK</td>\n      <td>EXECUTIVE_LOUNGE-CEO_OFFICE</td>\n      <td>True</td>\n      <td>True</td>\n      <td>False</td>\n      <td>False</td>\n      <td>True</td>\n      <td>False</td>\n      <td>False</td>\n      <td>False</td>\n      <td>...</td>\n      <td>False</td>\n      <td>False</td>\n      <td>True</td>\n      <td>False</td>\n      <td>False</td>\n      <td>True</td>\n      <td>False</td>\n      <td>False</td>\n      <td>False</td>\n      <td>False</td>\n    </tr>\n    <tr>\n      <th>24663</th>\n      <td>BANK</td>\n      <td>LOCKERS-CCTV_ROOM</td>\n      <td>False</td>\n      <td>True</td>\n      <td>True</td>\n      <td>False</td>\n      <td>False</td>\n      <td>False</td>\n      <td>False</td>\n      <td>True</td>\n      <td>...</td>\n      <td>False</td>\n      <td>False</td>\n      <td>False</td>\n      <td>True</td>\n      <td>False</td>\n      <td>False</td>\n      <td>False</td>\n      <td>False</td>\n      <td>False</td>\n      <td>False</td>\n    </tr>\n  </tbody>\n</table>\n<p>5 rows × 37 columns</p>\n</div>"
     },
     "execution_count": 31,
     "metadata": {},
     "output_type": "execute_result"
    }
   ],
   "source": [
    "df_features.head()"
   ],
   "metadata": {
    "collapsed": false,
    "pycharm": {
     "name": "#%%\n"
    }
   }
  },
  {
   "cell_type": "code",
   "execution_count": 35,
   "outputs": [
    {
     "data": {
      "text/plain": "array([['BANK', 'EXECUTIVE_LOUNGE-CEO_OFFICE', 0, ..., 0, 0, 0],\n       ['BANK', 'LOCKERS-CCTV_ROOM', 0, ..., 0, 0, 0],\n       ['BANK', \"TELLERS'_OFFICE-ARCHIVES\", 0, ..., 0, 0, 0],\n       ...,\n       ['HEREFORD_BASE', 'DUMMY_DEPOT-STORAGE', 0, ..., 0, 0, 0],\n       ['HEREFORD_BASE', 'DUMMY_DEPOT-STORAGE', 0, ..., 0, 0, 0],\n       ['HEREFORD_BASE', 'TV_ROOM-KITCHEN', 0, ..., 0, 0, 0]],\n      dtype=object)"
     },
     "execution_count": 35,
     "metadata": {},
     "output_type": "execute_result"
    }
   ],
   "source": [
    "features = df_features.to_numpy()\n",
    "features[:, 2:] = features[:, 2:].astype(int)\n",
    "features"
   ],
   "metadata": {
    "collapsed": false,
    "pycharm": {
     "name": "#%%\n"
    }
   }
  },
  {
   "cell_type": "code",
   "execution_count": 36,
   "outputs": [
    {
     "data": {
      "text/plain": "array(['Defender', 'Defender', 'Defender', ..., 'Attacker', 'Attacker',\n       'Attacker'], dtype=object)"
     },
     "execution_count": 36,
     "metadata": {},
     "output_type": "execute_result"
    }
   ],
   "source": [
    "labels = df_labels.to_numpy()\n",
    "labels"
   ],
   "metadata": {
    "collapsed": false,
    "pycharm": {
     "name": "#%%\n"
    }
   }
  },
  {
   "cell_type": "code",
   "execution_count": 37,
   "outputs": [
    {
     "data": {
      "text/plain": "array([[0, 28, 0, ..., 0, 0, 0],\n       [0, 43, 0, ..., 0, 0, 0],\n       [0, 54, 0, ..., 0, 0, 0],\n       ...,\n       [8, 27, 0, ..., 0, 0, 0],\n       [8, 27, 0, ..., 0, 0, 0],\n       [8, 56, 0, ..., 0, 0, 0]], dtype=object)"
     },
     "execution_count": 37,
     "metadata": {},
     "output_type": "execute_result"
    }
   ],
   "source": [
    "le = preprocessing.LabelEncoder()\n",
    "# for col in range(features.shape[1]):\n",
    "features[:, 0] = le.fit_transform(features[:, 0])\n",
    "features[:, 1] = le.fit_transform(features[:, 1])\n",
    "features"
   ],
   "metadata": {
    "collapsed": false,
    "pycharm": {
     "name": "#%%\n"
    }
   }
  },
  {
   "cell_type": "code",
   "execution_count": 37,
   "outputs": [],
   "source": [],
   "metadata": {
    "collapsed": false,
    "pycharm": {
     "name": "#%%\n"
    }
   }
  },
  {
   "cell_type": "code",
   "execution_count": 38,
   "outputs": [
    {
     "data": {
      "text/plain": "array([1, 1, 1, ..., 0, 0, 0])"
     },
     "execution_count": 38,
     "metadata": {},
     "output_type": "execute_result"
    }
   ],
   "source": [
    "labels = le.fit_transform(labels)\n",
    "labels"
   ],
   "metadata": {
    "collapsed": false,
    "pycharm": {
     "name": "#%%\n"
    }
   }
  },
  {
   "cell_type": "code",
   "execution_count": 52,
   "outputs": [
    {
     "name": "stdout",
     "output_type": "stream",
     "text": [
      "(7000, 37)\n",
      "(3000, 37)\n",
      "(7000,)\n",
      "(3000,)\n",
      "Accuracy: 53.19 %\n"
     ]
    }
   ],
   "source": [
    "# X_train, X_test, y_train, y_test = train_test_split(features, labels, test_size=.3)\n",
    "X_train, X_test, y_train, y_test = train_test_split(features, labels, test_size=.3, random_state=42)\n",
    "print(X_train.shape)\n",
    "print(X_test.shape)\n",
    "print(y_train.shape)\n",
    "print(y_test.shape)\n",
    "\n",
    "clf = MultinomialNB()\n",
    "clf.fit(X_train, y_train)\n",
    "\n",
    "print(\"Accuracy:\", round(100 * clf.score(X_train, y_train), 2), \"%\")"
   ],
   "metadata": {
    "collapsed": false,
    "pycharm": {
     "name": "#%%\n"
    }
   }
  },
  {
   "cell_type": "markdown",
   "source": [
    "Feature Reduktion"
   ],
   "metadata": {
    "collapsed": false,
    "pycharm": {
     "name": "#%% md\n"
    }
   }
  },
  {
   "cell_type": "code",
   "execution_count": 53,
   "outputs": [
    {
     "name": "stdout",
     "output_type": "stream",
     "text": [
      "Accuracy: 51.53 %\n"
     ]
    }
   ],
   "source": [
    "clf = MultinomialNB()\n",
    "clf.fit(X_train[:, 0:1], y_train)\n",
    "\n",
    "print(\"Accuracy:\", round(100 * clf.score(X_test[:, 0:1], y_test), 2), \"%\")"
   ],
   "metadata": {
    "collapsed": false,
    "pycharm": {
     "name": "#%%\n"
    }
   }
  },
  {
   "cell_type": "code",
   "execution_count": 66,
   "outputs": [
    {
     "data": {
      "text/plain": "   map  higherskill  win\n0    1            1    1\n1    1            1    1\n2    1            0    1\n3    1            0    0\n4    1            1    1\n5    1            1    0\n6    1            1    1\n7    1            1    1\n8    1            1    1\n9    1            1    1",
      "text/html": "<div>\n<style scoped>\n    .dataframe tbody tr th:only-of-type {\n        vertical-align: middle;\n    }\n\n    .dataframe tbody tr th {\n        vertical-align: top;\n    }\n\n    .dataframe thead th {\n        text-align: right;\n    }\n</style>\n<table border=\"1\" class=\"dataframe\">\n  <thead>\n    <tr style=\"text-align: right;\">\n      <th></th>\n      <th>map</th>\n      <th>higherskill</th>\n      <th>win</th>\n    </tr>\n  </thead>\n  <tbody>\n    <tr>\n      <th>0</th>\n      <td>1</td>\n      <td>1</td>\n      <td>1</td>\n    </tr>\n    <tr>\n      <th>1</th>\n      <td>1</td>\n      <td>1</td>\n      <td>1</td>\n    </tr>\n    <tr>\n      <th>2</th>\n      <td>1</td>\n      <td>0</td>\n      <td>1</td>\n    </tr>\n    <tr>\n      <th>3</th>\n      <td>1</td>\n      <td>0</td>\n      <td>0</td>\n    </tr>\n    <tr>\n      <th>4</th>\n      <td>1</td>\n      <td>1</td>\n      <td>1</td>\n    </tr>\n    <tr>\n      <th>5</th>\n      <td>1</td>\n      <td>1</td>\n      <td>0</td>\n    </tr>\n    <tr>\n      <th>6</th>\n      <td>1</td>\n      <td>1</td>\n      <td>1</td>\n    </tr>\n    <tr>\n      <th>7</th>\n      <td>1</td>\n      <td>1</td>\n      <td>1</td>\n    </tr>\n    <tr>\n      <th>8</th>\n      <td>1</td>\n      <td>1</td>\n      <td>1</td>\n    </tr>\n    <tr>\n      <th>9</th>\n      <td>1</td>\n      <td>1</td>\n      <td>1</td>\n    </tr>\n  </tbody>\n</table>\n</div>"
     },
     "execution_count": 66,
     "metadata": {},
     "output_type": "execute_result"
    }
   ],
   "source": [
    "df_tmp = pd.DataFrame({\n",
    "    \"map\": [1, 1, 1, 1, 1, 1, 1, 1, 1, 1],\n",
    "    \"higherskill\": [1, 1, 0, 0, 1, 1, 1, 1, 1, 1],\n",
    "    \"win\": [1, 1, 1, 0, 1, 0, 1, 1, 1, 1]\n",
    "})\n",
    "df_tmp"
   ],
   "metadata": {
    "collapsed": false,
    "pycharm": {
     "name": "#%%\n"
    }
   }
  },
  {
   "cell_type": "code",
   "execution_count": 72,
   "outputs": [
    {
     "name": "stdout",
     "output_type": "stream",
     "text": [
      "(8, 2)\n",
      "(2, 2)\n",
      "(8,)\n",
      "(2,)\n",
      "Accuracy: 75.0 %\n"
     ]
    }
   ],
   "source": [
    "X_train, X_test, y_train, y_test = train_test_split(df_tmp[[\"map\", \"higherskill\"]], df_tmp[\"win\"], test_size=.2)\n",
    "print(X_train.shape)\n",
    "print(X_test.shape)\n",
    "print(y_train.shape)\n",
    "print(y_test.shape)\n",
    "\n",
    "clf = MultinomialNB()\n",
    "clf.fit(X_train, y_train)\n",
    "\n",
    "print(\"Accuracy:\", round(100 * clf.score(X_train, y_train), 2), \"%\")"
   ],
   "metadata": {
    "collapsed": false,
    "pycharm": {
     "name": "#%%\n"
    }
   }
  },
  {
   "cell_type": "code",
   "execution_count": 78,
   "outputs": [
    {
     "data": {
      "text/plain": "mapname           objectivelocation                      \nCLUB_HOUSE        CHURCH-ARSENAL_ROOM                        374\nHOUSE             TRAINING_ROOM-GARAGE                       349\nHEREFORD_BASE     BRIEFING_ROOM-ARMORY                       344\nOREGON            LAUDRY_ROOM-SUPPLY_ROOM                    338\nKANAL             SERVER_ROOM-CONTROL_ROOM                   338\nBORDER            ARMORY_LOCKERS-ARCHIVES                    328\nKAFE_DOSTOYEVSKY  FIREPLACE_HALL-MINING_ROOM                 311\nBANK              LOCKERS-CCTV_ROOM                          310\nCHALET            WINE_CELLAR-SNOWMOBILE_GARAGE              305\nCONSULATE         GARAGE-CAFETERIA                           293\nYACHT             SERVER_ROOM-ENGINE_STORAGE                 274\nHOUSE             KID'S_BEDROOM-WORKSHOP                     265\nFAVELAS           2F_FOOTBALL_BEDROOM-2F_FOOTBALL_OFFICE     261\nSKYSCRAPER        2F_KARAOKE-2F_TEA_ROOM                     259\nPLANE             MEETING_ROOM-EXECUTIVE_OFFICE              256\nCONSULATE         CONSUL_OFFICE-MEEETING_ROOM                242\nCHALET            KITCHEN-TROPHY_ROOM                        229\nPLANE             CARGO_HOLD-LUGGAGE_HOLD                    226\nKAFE_DOSTOYEVSKY  BAR-COCKTAIL_LOUNGE                        221\nOREGON            KIDS_DORMS-DORMS_MAIN_HALL                 206\nBARTLETT_U.       ROWING_MUSEUM-TROPHY_ROOM                  187\nCLUB_HOUSE        GYM-BEDROOM                                186\nKANAL             KITCHEN-PROJECTOR_ROOM                     177\nSKYSCRAPER        2F_EXHIBITION-2F_WORK_OFFICE               169\nBARTLETT_U.       CLASSROOM-LIBRARY                          166\nFAVELAS           1F_BIKER'S_APARTMENT-1F_BIKER'S_BEDROOM    157\nYACHT             CAFETERIA-STAFF_DORMITORY                  146\nBANK              TELLERS'_OFFICE-ARCHIVES                   142\nCOASTLINE         2F_PENTHOUSE-2F_THEATER                    141\n                  2F_HOOKAH_LOUNGE-2F_BILLIARDS_ROOM         138\nCLUB_HOUSE        BAR-STOCK_ROOM                             138\nBORDER            VENTILATION_ROOM-WORKSHOP                  135\nKANAL             COAST_GUARD_OFFICE-HOLDING_ROOM            135\nHEREFORD_BASE     DUMMY_DEPOT-STORAGE                        130\nKAFE_DOSTOYEVSKY  KITCHEN_PREP-BAKERY                        127\nCOASTLINE         1F_KITCHEN-1F_SERVICE_ENTRANCE             126\nYACHT             MAPS_ROOM-COCKPIT                          121\nHEREFORD_BASE     TV_ROOM-KITCHEN                            114\nPLANE             STAFF_SECTION-EXECUTIVE_BEDROOM            112\nBARTLETT_U.       READING_ROOM-LIBRARY                       111\nBORDER            BATHROOM-TELLERS                           107\nSKYSCRAPER        1F_BEDROOM-1F_BATHROOM                     100\nBANK              EXECUTIVE_LOUNGE-CEO_OFFICE                100\nSKYSCRAPER        1F_BBQ-1F_KITCHEN                           95\nBARTLETT_U.       KITCHEN-PIANO_ROOM                          93\nOREGON            KITCHEN-DINING_HALL                         90\nFAVELAS           3F_PACKAGING_ROOM-2F_METH_LAB               86\nYACHT             KITCHEN-ENGINE_CONTROL                      85\nFAVELAS           2F_AUNT'S_BEDROOM-1F_AUNT'S_APARTMENT       83\nCLUB_HOUSE        CCTV_ROOM-CASH_ROOM                         73\nBORDER            CUSTOMS_INSPECTIONS-SUPPLY_ROOM             62\nCHALET            MASTER_BEDROOM-OFFICE                       61\nBANK              STAFF_ROOM-OPEN_AREA                        59\nCOASTLINE         1F_BLUE_BAR-1F_SUNRISE_BAR                  56\nCONSULATE         LOBBY-PRESS_ROOM                            55\nHEREFORD_BASE     DINING_ROOM-KIDS_BEDROOM                    54\nHOUSE             LIVING_ROOM-TRAINING_ROOM                   53\nCHALET            BAR-GAMING_ROOM                             51\nOREGON            REAR_STAGE-WATCH_TOWER                      50\ndtype: int64"
     },
     "execution_count": 78,
     "metadata": {},
     "output_type": "execute_result"
    }
   ],
   "source": [
    "df_test[[\"mapname\", \"objectivelocation\"]].value_counts()"
   ],
   "metadata": {
    "collapsed": false,
    "pycharm": {
     "name": "#%%\n"
    }
   }
  },
  {
   "cell_type": "code",
   "execution_count": 80,
   "outputs": [
    {
     "data": {
      "text/plain": "Defender    205\nAttacker    169\nName: winrole, dtype: int64"
     },
     "execution_count": 80,
     "metadata": {},
     "output_type": "execute_result"
    }
   ],
   "source": [
    "df_test.loc[(df_test[\"mapname\"] == \"CLUB_HOUSE\") & (df_test[\"objectivelocation\"] == \"CHURCH-ARSENAL_ROOM\")].reset_index(drop=True)[\"winrole\"].value_counts()"
   ],
   "metadata": {
    "collapsed": false,
    "pycharm": {
     "name": "#%%\n"
    }
   }
  }
 ],
 "metadata": {
  "kernelspec": {
   "display_name": "Python 3",
   "language": "python",
   "name": "python3"
  },
  "language_info": {
   "codemirror_mode": {
    "name": "ipython",
    "version": 2
   },
   "file_extension": ".py",
   "mimetype": "text/x-python",
   "name": "python",
   "nbconvert_exporter": "python",
   "pygments_lexer": "ipython2",
   "version": "2.7.6"
  }
 },
 "nbformat": 4,
 "nbformat_minor": 0
}