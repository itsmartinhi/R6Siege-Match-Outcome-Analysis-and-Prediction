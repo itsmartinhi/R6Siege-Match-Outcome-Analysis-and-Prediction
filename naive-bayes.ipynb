{
 "cells": [
  {
   "cell_type": "code",
   "execution_count": 27,
   "metadata": {
    "collapsed": true,
    "pycharm": {
     "name": "#%%\n"
    }
   },
   "outputs": [],
   "source": [
    "import sys\n",
    "\n",
    "import pandas as pd\n",
    "import numpy as np\n",
    "from sklearn.naive_bayes import MultinomialNB\n",
    "from sklearn.model_selection import train_test_split\n",
    "from sklearn import preprocessing\n",
    "from tqdm import tqdm"
   ]
  },
  {
   "cell_type": "code",
   "execution_count": 28,
   "outputs": [
    {
     "data": {
      "text/plain": "(292960, 40)"
     },
     "execution_count": 28,
     "metadata": {},
     "output_type": "execute_result"
    }
   ],
   "source": [
    "df = pd.read_csv(\n",
    "    \"./data/hot-encoded-data.csv\",\n",
    "    dtype={\n",
    "        \"mapname\": \"category\",\n",
    "        \"matchid\": \"int64\",\n",
    "        \"roundnumber\": \"int64\",\n",
    "        \"objectivelocation\": \"category\",\n",
    "        \"winrole\": \"category\",\n",
    "    },\n",
    "    index_col=0\n",
    ")\n",
    "df.shape"
   ],
   "metadata": {
    "collapsed": false,
    "pycharm": {
     "name": "#%%\n"
    }
   }
  },
  {
   "cell_type": "code",
   "execution_count": 29,
   "outputs": [
    {
     "data": {
      "text/plain": "     mapname  matchid  roundnumber               objectivelocation   winrole  \\\n0  COASTLINE   147541            1  1F_KITCHEN-1F_SERVICE_ENTRANCE  Attacker   \n1  COASTLINE   147541            3         2F_PENTHOUSE-2F_THEATER  Defender   \n2  COASTLINE   147541            4         2F_PENTHOUSE-2F_THEATER  Attacker   \n3  COASTLINE   147541            5  1F_KITCHEN-1F_SERVICE_ENTRANCE  Defender   \n4     BORDER   251521            1         ARMORY_LOCKERS-ARCHIVES  Defender   \n\n   OP_JTF2-BUCK  OP_GIGN-ROOK  OP_G.E.O.-MIRA  OP_SWAT-CASTLE  OP_GSG9-JAGER  \\\n0             0             1               0               0              1   \n1             0             1               1               0              0   \n2             0             0               0               0              1   \n3             0             0               1               0              1   \n4             0             0               0               0              1   \n\n   ...  OP_SPETSNAZ-RESERVE  OP_GSG9-BLITZ  OP_BOPE-CAPITAO  \\\n0  ...                    0              0                0   \n1  ...                    0              0                0   \n2  ...                    0              0                0   \n3  ...                    0              0                0   \n4  ...                    0              0                0   \n\n   OP_SPETSNAZ-KAPKAN  OP_SPETSNAZ-TACHANKA  OP_SAT-ECHO  OP_SAS-RESERVE  \\\n0                   0                     0            0               0   \n1                   0                     0            0               0   \n2                   0                     0            1               0   \n3                   0                     0            1               0   \n4                   0                     0            0               1   \n\n   OP_GIGN-RESERVE  OP_GSG9-RESERVE  OP_SWAT-RESERVE  \n0                0                0                0  \n1                0                0                0  \n2                0                0                0  \n3                0                0                0  \n4                0                0                0  \n\n[5 rows x 40 columns]",
      "text/html": "<div>\n<style scoped>\n    .dataframe tbody tr th:only-of-type {\n        vertical-align: middle;\n    }\n\n    .dataframe tbody tr th {\n        vertical-align: top;\n    }\n\n    .dataframe thead th {\n        text-align: right;\n    }\n</style>\n<table border=\"1\" class=\"dataframe\">\n  <thead>\n    <tr style=\"text-align: right;\">\n      <th></th>\n      <th>mapname</th>\n      <th>matchid</th>\n      <th>roundnumber</th>\n      <th>objectivelocation</th>\n      <th>winrole</th>\n      <th>OP_JTF2-BUCK</th>\n      <th>OP_GIGN-ROOK</th>\n      <th>OP_G.E.O.-MIRA</th>\n      <th>OP_SWAT-CASTLE</th>\n      <th>OP_GSG9-JAGER</th>\n      <th>...</th>\n      <th>OP_SPETSNAZ-RESERVE</th>\n      <th>OP_GSG9-BLITZ</th>\n      <th>OP_BOPE-CAPITAO</th>\n      <th>OP_SPETSNAZ-KAPKAN</th>\n      <th>OP_SPETSNAZ-TACHANKA</th>\n      <th>OP_SAT-ECHO</th>\n      <th>OP_SAS-RESERVE</th>\n      <th>OP_GIGN-RESERVE</th>\n      <th>OP_GSG9-RESERVE</th>\n      <th>OP_SWAT-RESERVE</th>\n    </tr>\n  </thead>\n  <tbody>\n    <tr>\n      <th>0</th>\n      <td>COASTLINE</td>\n      <td>147541</td>\n      <td>1</td>\n      <td>1F_KITCHEN-1F_SERVICE_ENTRANCE</td>\n      <td>Attacker</td>\n      <td>0</td>\n      <td>1</td>\n      <td>0</td>\n      <td>0</td>\n      <td>1</td>\n      <td>...</td>\n      <td>0</td>\n      <td>0</td>\n      <td>0</td>\n      <td>0</td>\n      <td>0</td>\n      <td>0</td>\n      <td>0</td>\n      <td>0</td>\n      <td>0</td>\n      <td>0</td>\n    </tr>\n    <tr>\n      <th>1</th>\n      <td>COASTLINE</td>\n      <td>147541</td>\n      <td>3</td>\n      <td>2F_PENTHOUSE-2F_THEATER</td>\n      <td>Defender</td>\n      <td>0</td>\n      <td>1</td>\n      <td>1</td>\n      <td>0</td>\n      <td>0</td>\n      <td>...</td>\n      <td>0</td>\n      <td>0</td>\n      <td>0</td>\n      <td>0</td>\n      <td>0</td>\n      <td>0</td>\n      <td>0</td>\n      <td>0</td>\n      <td>0</td>\n      <td>0</td>\n    </tr>\n    <tr>\n      <th>2</th>\n      <td>COASTLINE</td>\n      <td>147541</td>\n      <td>4</td>\n      <td>2F_PENTHOUSE-2F_THEATER</td>\n      <td>Attacker</td>\n      <td>0</td>\n      <td>0</td>\n      <td>0</td>\n      <td>0</td>\n      <td>1</td>\n      <td>...</td>\n      <td>0</td>\n      <td>0</td>\n      <td>0</td>\n      <td>0</td>\n      <td>0</td>\n      <td>1</td>\n      <td>0</td>\n      <td>0</td>\n      <td>0</td>\n      <td>0</td>\n    </tr>\n    <tr>\n      <th>3</th>\n      <td>COASTLINE</td>\n      <td>147541</td>\n      <td>5</td>\n      <td>1F_KITCHEN-1F_SERVICE_ENTRANCE</td>\n      <td>Defender</td>\n      <td>0</td>\n      <td>0</td>\n      <td>1</td>\n      <td>0</td>\n      <td>1</td>\n      <td>...</td>\n      <td>0</td>\n      <td>0</td>\n      <td>0</td>\n      <td>0</td>\n      <td>0</td>\n      <td>1</td>\n      <td>0</td>\n      <td>0</td>\n      <td>0</td>\n      <td>0</td>\n    </tr>\n    <tr>\n      <th>4</th>\n      <td>BORDER</td>\n      <td>251521</td>\n      <td>1</td>\n      <td>ARMORY_LOCKERS-ARCHIVES</td>\n      <td>Defender</td>\n      <td>0</td>\n      <td>0</td>\n      <td>0</td>\n      <td>0</td>\n      <td>1</td>\n      <td>...</td>\n      <td>0</td>\n      <td>0</td>\n      <td>0</td>\n      <td>0</td>\n      <td>0</td>\n      <td>0</td>\n      <td>1</td>\n      <td>0</td>\n      <td>0</td>\n      <td>0</td>\n    </tr>\n  </tbody>\n</table>\n<p>5 rows × 40 columns</p>\n</div>"
     },
     "execution_count": 29,
     "metadata": {},
     "output_type": "execute_result"
    }
   ],
   "source": [
    "df.head()"
   ],
   "metadata": {
    "collapsed": false,
    "pycharm": {
     "name": "#%%\n"
    }
   }
  },
  {
   "cell_type": "code",
   "execution_count": 30,
   "outputs": [
    {
     "name": "stdout",
     "output_type": "stream",
     "text": [
      "(292960, 37)\n",
      "(292960,)\n"
     ]
    }
   ],
   "source": [
    "features = df.drop(columns=[\"matchid\", \"roundnumber\", \"winrole\"]).to_numpy()\n",
    "labels = df[\"winrole\"].to_numpy()\n",
    "\n",
    "print(features.shape)\n",
    "print(labels.shape)"
   ],
   "metadata": {
    "collapsed": false,
    "pycharm": {
     "name": "#%%\n"
    }
   }
  },
  {
   "cell_type": "code",
   "execution_count": 31,
   "outputs": [
    {
     "data": {
      "text/plain": "array([[5, 4, 0, ..., 0, 0, 0],\n       [5, 10, 0, ..., 0, 0, 0],\n       [5, 10, 0, ..., 0, 0, 0],\n       ...,\n       [9, 55, 1, ..., 0, 0, 0],\n       [9, 55, 0, ..., 0, 0, 0],\n       [9, 32, 1, ..., 0, 0, 0]], dtype=object)"
     },
     "execution_count": 31,
     "metadata": {},
     "output_type": "execute_result"
    }
   ],
   "source": [
    "le = preprocessing.LabelEncoder()\n",
    "features[:, 0] = le.fit_transform(features[:, 0])\n",
    "features[:, 1] = le.fit_transform(features[:, 1])\n",
    "features"
   ],
   "metadata": {
    "collapsed": false,
    "pycharm": {
     "name": "#%%\n"
    }
   }
  },
  {
   "cell_type": "code",
   "execution_count": 32,
   "outputs": [
    {
     "data": {
      "text/plain": "array([0, 1, 0, ..., 1, 1, 0])"
     },
     "execution_count": 32,
     "metadata": {},
     "output_type": "execute_result"
    }
   ],
   "source": [
    "labels = le.fit_transform(labels)\n",
    "labels"
   ],
   "metadata": {
    "collapsed": false,
    "pycharm": {
     "name": "#%%\n"
    }
   }
  },
  {
   "cell_type": "code",
   "execution_count": 33,
   "outputs": [
    {
     "name": "stdout",
     "output_type": "stream",
     "text": [
      "(205072, 37)\n",
      "(87888, 37)\n",
      "(205072,)\n",
      "(87888,)\n"
     ]
    }
   ],
   "source": [
    "X_train, X_test, y_train, y_test = train_test_split(features, labels, test_size=.3, random_state=42)\n",
    "print(X_train.shape)\n",
    "print(X_test.shape)\n",
    "print(y_train.shape)\n",
    "print(y_test.shape)"
   ],
   "metadata": {
    "collapsed": false,
    "pycharm": {
     "name": "#%%\n"
    }
   }
  },
  {
   "cell_type": "code",
   "execution_count": 34,
   "outputs": [
    {
     "name": "stdout",
     "output_type": "stream",
     "text": [
      "Accuracy: 53.31 %\n"
     ]
    }
   ],
   "source": [
    "clf = MultinomialNB()\n",
    "clf.fit(X_train, y_train)\n",
    "\n",
    "print(\"Accuracy:\", round(100 * clf.score(X_train, y_train), 2), \"%\")"
   ],
   "metadata": {
    "collapsed": false,
    "pycharm": {
     "name": "#%%\n"
    }
   }
  },
  {
   "cell_type": "markdown",
   "source": [
    "Only use map and objectivelocation"
   ],
   "metadata": {
    "collapsed": false
   }
  },
  {
   "cell_type": "code",
   "execution_count": 35,
   "outputs": [
    {
     "name": "stdout",
     "output_type": "stream",
     "text": [
      "Accuracy: 52.41 %\n"
     ]
    }
   ],
   "source": [
    "clf = MultinomialNB()\n",
    "clf.fit(X_train[:, :2], y_train)\n",
    "\n",
    "print(\"Accuracy:\", round(100 * clf.score(X_train[:, :2], y_train), 2), \"%\")"
   ],
   "metadata": {
    "collapsed": false,
    "pycharm": {
     "name": "#%%\n"
    }
   }
  },
  {
   "cell_type": "markdown",
   "source": [
    "Test the methodology"
   ],
   "metadata": {
    "collapsed": false,
    "pycharm": {
     "name": "#%% md\n"
    }
   }
  },
  {
   "cell_type": "code",
   "execution_count": 36,
   "outputs": [
    {
     "data": {
      "text/plain": "   map  higherskill  win\n0    1            1    1\n1    1            1    1\n2    1            0    1\n3    1            0    0\n4    1            1    1\n5    1            1    0\n6    1            1    1\n7    1            1    1\n8    1            1    1\n9    1            1    1",
      "text/html": "<div>\n<style scoped>\n    .dataframe tbody tr th:only-of-type {\n        vertical-align: middle;\n    }\n\n    .dataframe tbody tr th {\n        vertical-align: top;\n    }\n\n    .dataframe thead th {\n        text-align: right;\n    }\n</style>\n<table border=\"1\" class=\"dataframe\">\n  <thead>\n    <tr style=\"text-align: right;\">\n      <th></th>\n      <th>map</th>\n      <th>higherskill</th>\n      <th>win</th>\n    </tr>\n  </thead>\n  <tbody>\n    <tr>\n      <th>0</th>\n      <td>1</td>\n      <td>1</td>\n      <td>1</td>\n    </tr>\n    <tr>\n      <th>1</th>\n      <td>1</td>\n      <td>1</td>\n      <td>1</td>\n    </tr>\n    <tr>\n      <th>2</th>\n      <td>1</td>\n      <td>0</td>\n      <td>1</td>\n    </tr>\n    <tr>\n      <th>3</th>\n      <td>1</td>\n      <td>0</td>\n      <td>0</td>\n    </tr>\n    <tr>\n      <th>4</th>\n      <td>1</td>\n      <td>1</td>\n      <td>1</td>\n    </tr>\n    <tr>\n      <th>5</th>\n      <td>1</td>\n      <td>1</td>\n      <td>0</td>\n    </tr>\n    <tr>\n      <th>6</th>\n      <td>1</td>\n      <td>1</td>\n      <td>1</td>\n    </tr>\n    <tr>\n      <th>7</th>\n      <td>1</td>\n      <td>1</td>\n      <td>1</td>\n    </tr>\n    <tr>\n      <th>8</th>\n      <td>1</td>\n      <td>1</td>\n      <td>1</td>\n    </tr>\n    <tr>\n      <th>9</th>\n      <td>1</td>\n      <td>1</td>\n      <td>1</td>\n    </tr>\n  </tbody>\n</table>\n</div>"
     },
     "execution_count": 36,
     "metadata": {},
     "output_type": "execute_result"
    }
   ],
   "source": [
    "df_tmp = pd.DataFrame({\n",
    "    \"map\": [1, 1, 1, 1, 1, 1, 1, 1, 1, 1],\n",
    "    \"higherskill\": [1, 1, 0, 0, 1, 1, 1, 1, 1, 1],\n",
    "    \"win\": [1, 1, 1, 0, 1, 0, 1, 1, 1, 1]\n",
    "})\n",
    "df_tmp"
   ],
   "metadata": {
    "collapsed": false,
    "pycharm": {
     "name": "#%%\n"
    }
   }
  },
  {
   "cell_type": "code",
   "execution_count": 37,
   "outputs": [
    {
     "name": "stdout",
     "output_type": "stream",
     "text": [
      "(8, 2)\n",
      "(2, 2)\n",
      "(8,)\n",
      "(2,)\n",
      "Accuracy: 75.0 %\n"
     ]
    }
   ],
   "source": [
    "\n",
    "X_train, X_test, y_train, y_test = train_test_split(df_tmp[[\"map\", \"higherskill\"]], df_tmp[\"win\"], test_size=.2)\n",
    "print(X_train.shape)\n",
    "print(X_test.shape)\n",
    "print(y_train.shape)\n",
    "print(y_test.shape)\n",
    "\n",
    "clf = MultinomialNB()\n",
    "clf.fit(X_train, y_train)\n",
    "\n",
    "print(\"Accuracy:\", round(100 * clf.score(X_train, y_train), 2), \"%\")"
   ],
   "metadata": {
    "collapsed": false,
    "pycharm": {
     "name": "#%%\n"
    }
   }
  },
  {
   "cell_type": "code",
   "execution_count": 38,
   "outputs": [
    {
     "data": {
      "text/plain": "0         13\n1         10\n2         10\n3          9\n4          9\n          ..\n289169     1\n289170     1\n289171     1\n289172     1\n289173     1\nLength: 289174, dtype: int64"
     },
     "execution_count": 38,
     "metadata": {},
     "output_type": "execute_result"
    }
   ],
   "source": [
    "df.drop(columns=[\"matchid\", \"roundnumber\"]).value_counts().reset_index(drop=True)"
   ],
   "metadata": {
    "collapsed": false,
    "pycharm": {
     "name": "#%%\n"
    }
   }
  },
  {
   "cell_type": "markdown",
   "source": [
    "Reduce features"
   ],
   "metadata": {
    "collapsed": false,
    "pycharm": {
     "name": "#%% md\n"
    }
   }
  },
  {
   "cell_type": "code",
   "execution_count": 44,
   "outputs": [
    {
     "data": {
      "text/plain": "     mapname  matchid  roundnumber               objectivelocation   winrole  \\\n0  COASTLINE   147541            1  1F_KITCHEN-1F_SERVICE_ENTRANCE  Attacker   \n1  COASTLINE   147541            3         2F_PENTHOUSE-2F_THEATER  Defender   \n2  COASTLINE   147541            4         2F_PENTHOUSE-2F_THEATER  Attacker   \n3  COASTLINE   147541            5  1F_KITCHEN-1F_SERVICE_ENTRANCE  Defender   \n5     BORDER   251521            2         ARMORY_LOCKERS-ARCHIVES  Attacker   \n\n   OP_JTF2-BUCK  OP_GIGN-ROOK  OP_G.E.O.-MIRA  OP_SWAT-CASTLE  OP_GSG9-JAGER  \\\n0             0             1               0               0              1   \n1             0             1               1               0              0   \n2             0             0               0               0              1   \n3             0             0               1               0              1   \n5             1             0               1               0              1   \n\n   ...  OP_SPETSNAZ-RESERVE  OP_GSG9-BLITZ  OP_BOPE-CAPITAO  \\\n0  ...                    0              0                0   \n1  ...                    0              0                0   \n2  ...                    0              0                0   \n3  ...                    0              0                0   \n5  ...                    0              0                0   \n\n   OP_SPETSNAZ-KAPKAN  OP_SPETSNAZ-TACHANKA  OP_SAT-ECHO  OP_SAS-RESERVE  \\\n0                   0                     0            0               0   \n1                   0                     0            0               0   \n2                   0                     0            1               0   \n3                   0                     0            1               0   \n5                   0                     0            0               0   \n\n   OP_GIGN-RESERVE  OP_GSG9-RESERVE  OP_SWAT-RESERVE  \n0                0                0                0  \n1                0                0                0  \n2                0                0                0  \n3                0                0                0  \n5                0                0                0  \n\n[5 rows x 40 columns]",
      "text/html": "<div>\n<style scoped>\n    .dataframe tbody tr th:only-of-type {\n        vertical-align: middle;\n    }\n\n    .dataframe tbody tr th {\n        vertical-align: top;\n    }\n\n    .dataframe thead th {\n        text-align: right;\n    }\n</style>\n<table border=\"1\" class=\"dataframe\">\n  <thead>\n    <tr style=\"text-align: right;\">\n      <th></th>\n      <th>mapname</th>\n      <th>matchid</th>\n      <th>roundnumber</th>\n      <th>objectivelocation</th>\n      <th>winrole</th>\n      <th>OP_JTF2-BUCK</th>\n      <th>OP_GIGN-ROOK</th>\n      <th>OP_G.E.O.-MIRA</th>\n      <th>OP_SWAT-CASTLE</th>\n      <th>OP_GSG9-JAGER</th>\n      <th>...</th>\n      <th>OP_SPETSNAZ-RESERVE</th>\n      <th>OP_GSG9-BLITZ</th>\n      <th>OP_BOPE-CAPITAO</th>\n      <th>OP_SPETSNAZ-KAPKAN</th>\n      <th>OP_SPETSNAZ-TACHANKA</th>\n      <th>OP_SAT-ECHO</th>\n      <th>OP_SAS-RESERVE</th>\n      <th>OP_GIGN-RESERVE</th>\n      <th>OP_GSG9-RESERVE</th>\n      <th>OP_SWAT-RESERVE</th>\n    </tr>\n  </thead>\n  <tbody>\n    <tr>\n      <th>0</th>\n      <td>COASTLINE</td>\n      <td>147541</td>\n      <td>1</td>\n      <td>1F_KITCHEN-1F_SERVICE_ENTRANCE</td>\n      <td>Attacker</td>\n      <td>0</td>\n      <td>1</td>\n      <td>0</td>\n      <td>0</td>\n      <td>1</td>\n      <td>...</td>\n      <td>0</td>\n      <td>0</td>\n      <td>0</td>\n      <td>0</td>\n      <td>0</td>\n      <td>0</td>\n      <td>0</td>\n      <td>0</td>\n      <td>0</td>\n      <td>0</td>\n    </tr>\n    <tr>\n      <th>1</th>\n      <td>COASTLINE</td>\n      <td>147541</td>\n      <td>3</td>\n      <td>2F_PENTHOUSE-2F_THEATER</td>\n      <td>Defender</td>\n      <td>0</td>\n      <td>1</td>\n      <td>1</td>\n      <td>0</td>\n      <td>0</td>\n      <td>...</td>\n      <td>0</td>\n      <td>0</td>\n      <td>0</td>\n      <td>0</td>\n      <td>0</td>\n      <td>0</td>\n      <td>0</td>\n      <td>0</td>\n      <td>0</td>\n      <td>0</td>\n    </tr>\n    <tr>\n      <th>2</th>\n      <td>COASTLINE</td>\n      <td>147541</td>\n      <td>4</td>\n      <td>2F_PENTHOUSE-2F_THEATER</td>\n      <td>Attacker</td>\n      <td>0</td>\n      <td>0</td>\n      <td>0</td>\n      <td>0</td>\n      <td>1</td>\n      <td>...</td>\n      <td>0</td>\n      <td>0</td>\n      <td>0</td>\n      <td>0</td>\n      <td>0</td>\n      <td>1</td>\n      <td>0</td>\n      <td>0</td>\n      <td>0</td>\n      <td>0</td>\n    </tr>\n    <tr>\n      <th>3</th>\n      <td>COASTLINE</td>\n      <td>147541</td>\n      <td>5</td>\n      <td>1F_KITCHEN-1F_SERVICE_ENTRANCE</td>\n      <td>Defender</td>\n      <td>0</td>\n      <td>0</td>\n      <td>1</td>\n      <td>0</td>\n      <td>1</td>\n      <td>...</td>\n      <td>0</td>\n      <td>0</td>\n      <td>0</td>\n      <td>0</td>\n      <td>0</td>\n      <td>1</td>\n      <td>0</td>\n      <td>0</td>\n      <td>0</td>\n      <td>0</td>\n    </tr>\n    <tr>\n      <th>5</th>\n      <td>BORDER</td>\n      <td>251521</td>\n      <td>2</td>\n      <td>ARMORY_LOCKERS-ARCHIVES</td>\n      <td>Attacker</td>\n      <td>1</td>\n      <td>0</td>\n      <td>1</td>\n      <td>0</td>\n      <td>1</td>\n      <td>...</td>\n      <td>0</td>\n      <td>0</td>\n      <td>0</td>\n      <td>0</td>\n      <td>0</td>\n      <td>0</td>\n      <td>0</td>\n      <td>0</td>\n      <td>0</td>\n      <td>0</td>\n    </tr>\n  </tbody>\n</table>\n<p>5 rows × 40 columns</p>\n</div>"
     },
     "execution_count": 44,
     "metadata": {},
     "output_type": "execute_result"
    }
   ],
   "source": [
    "df = df.loc[\n",
    "    ~(df[\"OP_GIGN-RESERVE\"] == 1)\n",
    "    & ~(df[\"OP_GSG9-RESERVE\"] == 1)\n",
    "    & ~(df[\"OP_SAS-RESERVE\"] == 1)\n",
    "    & ~(df[\"OP_SPETSNAZ-RESERVE\"] == 1)\n",
    "    & ~(df[\"OP_SWAT-RESERVE\"] == 1)\n",
    "]\n",
    "df.head()"
   ],
   "metadata": {
    "collapsed": false,
    "pycharm": {
     "name": "#%%\n"
    }
   }
  },
  {
   "cell_type": "code",
   "execution_count": 45,
   "outputs": [
    {
     "data": {
      "text/plain": "     mapname  matchid  roundnumber               objectivelocation   winrole  \\\n0  COASTLINE   147541            1  1F_KITCHEN-1F_SERVICE_ENTRANCE  Attacker   \n1  COASTLINE   147541            3         2F_PENTHOUSE-2F_THEATER  Defender   \n2  COASTLINE   147541            4         2F_PENTHOUSE-2F_THEATER  Attacker   \n3  COASTLINE   147541            5  1F_KITCHEN-1F_SERVICE_ENTRANCE  Defender   \n5     BORDER   251521            2         ARMORY_LOCKERS-ARCHIVES  Attacker   \n\n   OP_JTF2-BUCK  OP_GIGN-ROOK  OP_G.E.O.-MIRA  OP_SWAT-CASTLE  OP_GSG9-JAGER  \\\n0             0             1               0               0              1   \n1             0             1               1               0              0   \n2             0             0               0               0              1   \n3             0             0               1               0              1   \n5             1             0               1               0              1   \n\n   ...  OP_SWAT-ASH  OP_SAS-THATCHER  OP_SAS-SMOKE  OP_SWAT-THERMITE  \\\n0  ...            1                0             1                 0   \n1  ...            1                0             1                 0   \n2  ...            1                1             0                 0   \n3  ...            1                0             0                 0   \n5  ...            1                1             0                 0   \n\n   OP_SPETSNAZ-GLAZ  OP_GSG9-BLITZ  OP_BOPE-CAPITAO  OP_SPETSNAZ-KAPKAN  \\\n0                 1              0                0                   0   \n1                 1              0                0                   0   \n2                 0              0                0                   0   \n3                 1              0                0                   0   \n5                 0              0                0                   0   \n\n   OP_SPETSNAZ-TACHANKA  OP_SAT-ECHO  \n0                     0            0  \n1                     0            0  \n2                     0            1  \n3                     0            1  \n5                     0            0  \n\n[5 rows x 35 columns]",
      "text/html": "<div>\n<style scoped>\n    .dataframe tbody tr th:only-of-type {\n        vertical-align: middle;\n    }\n\n    .dataframe tbody tr th {\n        vertical-align: top;\n    }\n\n    .dataframe thead th {\n        text-align: right;\n    }\n</style>\n<table border=\"1\" class=\"dataframe\">\n  <thead>\n    <tr style=\"text-align: right;\">\n      <th></th>\n      <th>mapname</th>\n      <th>matchid</th>\n      <th>roundnumber</th>\n      <th>objectivelocation</th>\n      <th>winrole</th>\n      <th>OP_JTF2-BUCK</th>\n      <th>OP_GIGN-ROOK</th>\n      <th>OP_G.E.O.-MIRA</th>\n      <th>OP_SWAT-CASTLE</th>\n      <th>OP_GSG9-JAGER</th>\n      <th>...</th>\n      <th>OP_SWAT-ASH</th>\n      <th>OP_SAS-THATCHER</th>\n      <th>OP_SAS-SMOKE</th>\n      <th>OP_SWAT-THERMITE</th>\n      <th>OP_SPETSNAZ-GLAZ</th>\n      <th>OP_GSG9-BLITZ</th>\n      <th>OP_BOPE-CAPITAO</th>\n      <th>OP_SPETSNAZ-KAPKAN</th>\n      <th>OP_SPETSNAZ-TACHANKA</th>\n      <th>OP_SAT-ECHO</th>\n    </tr>\n  </thead>\n  <tbody>\n    <tr>\n      <th>0</th>\n      <td>COASTLINE</td>\n      <td>147541</td>\n      <td>1</td>\n      <td>1F_KITCHEN-1F_SERVICE_ENTRANCE</td>\n      <td>Attacker</td>\n      <td>0</td>\n      <td>1</td>\n      <td>0</td>\n      <td>0</td>\n      <td>1</td>\n      <td>...</td>\n      <td>1</td>\n      <td>0</td>\n      <td>1</td>\n      <td>0</td>\n      <td>1</td>\n      <td>0</td>\n      <td>0</td>\n      <td>0</td>\n      <td>0</td>\n      <td>0</td>\n    </tr>\n    <tr>\n      <th>1</th>\n      <td>COASTLINE</td>\n      <td>147541</td>\n      <td>3</td>\n      <td>2F_PENTHOUSE-2F_THEATER</td>\n      <td>Defender</td>\n      <td>0</td>\n      <td>1</td>\n      <td>1</td>\n      <td>0</td>\n      <td>0</td>\n      <td>...</td>\n      <td>1</td>\n      <td>0</td>\n      <td>1</td>\n      <td>0</td>\n      <td>1</td>\n      <td>0</td>\n      <td>0</td>\n      <td>0</td>\n      <td>0</td>\n      <td>0</td>\n    </tr>\n    <tr>\n      <th>2</th>\n      <td>COASTLINE</td>\n      <td>147541</td>\n      <td>4</td>\n      <td>2F_PENTHOUSE-2F_THEATER</td>\n      <td>Attacker</td>\n      <td>0</td>\n      <td>0</td>\n      <td>0</td>\n      <td>0</td>\n      <td>1</td>\n      <td>...</td>\n      <td>1</td>\n      <td>1</td>\n      <td>0</td>\n      <td>0</td>\n      <td>0</td>\n      <td>0</td>\n      <td>0</td>\n      <td>0</td>\n      <td>0</td>\n      <td>1</td>\n    </tr>\n    <tr>\n      <th>3</th>\n      <td>COASTLINE</td>\n      <td>147541</td>\n      <td>5</td>\n      <td>1F_KITCHEN-1F_SERVICE_ENTRANCE</td>\n      <td>Defender</td>\n      <td>0</td>\n      <td>0</td>\n      <td>1</td>\n      <td>0</td>\n      <td>1</td>\n      <td>...</td>\n      <td>1</td>\n      <td>0</td>\n      <td>0</td>\n      <td>0</td>\n      <td>1</td>\n      <td>0</td>\n      <td>0</td>\n      <td>0</td>\n      <td>0</td>\n      <td>1</td>\n    </tr>\n    <tr>\n      <th>5</th>\n      <td>BORDER</td>\n      <td>251521</td>\n      <td>2</td>\n      <td>ARMORY_LOCKERS-ARCHIVES</td>\n      <td>Attacker</td>\n      <td>1</td>\n      <td>0</td>\n      <td>1</td>\n      <td>0</td>\n      <td>1</td>\n      <td>...</td>\n      <td>1</td>\n      <td>1</td>\n      <td>0</td>\n      <td>0</td>\n      <td>0</td>\n      <td>0</td>\n      <td>0</td>\n      <td>0</td>\n      <td>0</td>\n      <td>0</td>\n    </tr>\n  </tbody>\n</table>\n<p>5 rows × 35 columns</p>\n</div>"
     },
     "execution_count": 45,
     "metadata": {},
     "output_type": "execute_result"
    }
   ],
   "source": [
    "df = df.drop(columns=[\"OP_SWAT-RESERVE\", \"OP_SPETSNAZ-RESERVE\", \"OP_GIGN-RESERVE\", \"OP_GSG9-RESERVE\", \"OP_SAS-RESERVE\"])\n",
    "df.head()"
   ],
   "metadata": {
    "collapsed": false,
    "pycharm": {
     "name": "#%%\n"
    }
   }
  },
  {
   "cell_type": "code",
   "execution_count": 49,
   "outputs": [
    {
     "data": {
      "text/plain": "['OP_JTF2-BUCK',\n 'OP_GIGN-ROOK',\n 'OP_G.E.O.-MIRA',\n 'OP_SWAT-CASTLE',\n 'OP_GSG9-JAGER',\n 'OP_NAVYSEAL-BLACKBEARD',\n 'OP_SWAT-PULSE',\n 'OP_GIGN-MONTAGNE',\n 'OP_GIGN-TWITCH',\n 'OP_BOPE-CAVEIRA',\n 'OP_SAS-MUTE',\n 'OP_SAT-HIBANA',\n 'OP_GIGN-DOC',\n 'OP_JTF2-FROST',\n 'OP_GSG9-IQ',\n 'OP_NAVYSEAL-VALKYRIE',\n 'OP_SPETSNAZ-FUZE',\n 'OP_SAS-SLEDGE',\n 'OP_G.E.O.-JACKAL',\n 'OP_GSG9-BANDIT',\n 'OP_SWAT-ASH',\n 'OP_SAS-THATCHER',\n 'OP_SAS-SMOKE',\n 'OP_SWAT-THERMITE',\n 'OP_SPETSNAZ-GLAZ',\n 'OP_GSG9-BLITZ',\n 'OP_BOPE-CAPITAO',\n 'OP_SPETSNAZ-KAPKAN',\n 'OP_SPETSNAZ-TACHANKA',\n 'OP_SAT-ECHO']"
     },
     "execution_count": 49,
     "metadata": {},
     "output_type": "execute_result"
    }
   ],
   "source": [
    "op_list = df.columns[5:].to_list()\n",
    "op_list"
   ],
   "metadata": {
    "collapsed": false,
    "pycharm": {
     "name": "#%%\n"
    }
   }
  },
  {
   "cell_type": "code",
   "execution_count": 74,
   "outputs": [],
   "source": [
    "def categorize_operators(row):\n",
    "\n",
    "    def_roamer = [\n",
    "        \"OP_GSG9-JAGER\",\n",
    "        \"OP_SWAT-PULSE\",\n",
    "        \"OP_BOPE-CAVEIRA\",\n",
    "        \"OP_GIGN-DOC\", # meh\n",
    "    ]\n",
    "\n",
    "    def_trapper = [\n",
    "        \"OP_JTF2-FROST\",\n",
    "        \"OP_SPETSNAZ-KAPKAN\",\n",
    "    ]\n",
    "\n",
    "    def_entry_denial = [\n",
    "        \"OP_SWAT-CASTLE\",\n",
    "        \"OP_SAS-MUTE\",\n",
    "        \"OP_NAVYSEAL-VALKYRIE\", #meh\n",
    "        \"OP_GSG9-BANDIT\",\n",
    "        \"OP_SAS-SMOKE\",\n",
    "        \"OP_SAT-ECHO\",\n",
    "    ]\n",
    "\n",
    "    def_anchor = [\n",
    "        \"OP_GIGN-ROOK\",\n",
    "        \"OP_G.E.O.-MIRA\",\n",
    "        \"OP_SPETSNAZ-TACHANKA\",\n",
    "    ]\n",
    "\n",
    "    att_breacher = [\n",
    "        \"OP_JTF2-BUCK\",\n",
    "        \"OP_SAT-HIBANA\",\n",
    "        \"OP_SAS-SLEDGE\",\n",
    "        \"OP_SAS-THATCHER\",\n",
    "        \"OP_SWAT-THERMITE\",\n",
    "    ]\n",
    "\n",
    "    att_intel = [\n",
    "        \"OP_GIGN-MONTAGNE\",\n",
    "        \"OP_GIGN-TWITCH\",\n",
    "        \"OP_GSG9-IQ\",\n",
    "        \"OP_G.E.O.-JACKAL\",\n",
    "    ]\n",
    "\n",
    "    att_general = [\n",
    "        \"OP_SPETSNAZ-FUZE\",\n",
    "        \"OP_NAVYSEAL-BLACKBEARD\",\n",
    "        \"OP_SWAT-ASH\",\n",
    "        \"OP_SPETSNAZ-GLAZ\",\n",
    "        \"OP_GSG9-BLITZ\",\n",
    "        \"OP_BOPE-CAPITAO\",\n",
    "    ]\n",
    "\n",
    "    att_breacher_count = 0\n",
    "    att_intel_count = 0\n",
    "    att_general_count = 0\n",
    "\n",
    "    def_anchor_count = 0\n",
    "    def_entry_denial_count = 0\n",
    "    def_roamer_count = 0\n",
    "    def_trapper_count = 0\n",
    "\n",
    "    for op in op_list:\n",
    "\n",
    "        if row[op]:\n",
    "\n",
    "            if op in att_breacher:\n",
    "                att_breacher_count = att_breacher_count + 1\n",
    "\n",
    "            if op in att_intel:\n",
    "                att_intel_count = att_intel_count + 1\n",
    "\n",
    "            if op in att_general:\n",
    "                att_general_count = att_general_count + 1\n",
    "\n",
    "            if op in def_anchor:\n",
    "                def_anchor_count = def_anchor_count + 1\n",
    "\n",
    "            if op in def_entry_denial:\n",
    "                def_entry_denial_count = def_entry_denial_count + 1\n",
    "\n",
    "            if op in def_roamer:\n",
    "                def_roamer_count = def_roamer_count + 1\n",
    "\n",
    "            if op in def_trapper:\n",
    "                def_trapper_count = def_trapper_count + 1\n",
    "\n",
    "    row[\"ATT_BREACHER_COUNT\"] = att_breacher_count\n",
    "    row[\"ATT_INTEL_COUNT\"] = att_intel_count\n",
    "    row[\"ATT_GENERAL_COUNT\"] = att_general_count\n",
    "\n",
    "    row[\"DEF_ANCHOUR_COUNT\"] = def_anchor_count\n",
    "    row[\"DEF_ENTRY_DENIAL_COUNT\"] = def_entry_denial_count\n",
    "    row[\"DEF_ROAMER_COUNT\"] = def_roamer_count\n",
    "    row[\"DEF_TRAPPER_COUNT\"] = def_trapper_count\n",
    "\n",
    "    return row"
   ],
   "metadata": {
    "collapsed": false,
    "pycharm": {
     "name": "#%%\n"
    }
   }
  },
  {
   "cell_type": "code",
   "execution_count": 83,
   "outputs": [],
   "source": [
    "def categorize_operators_fast(df):\n",
    "\n",
    "    df[\"ATT_BREACHER_COUNT\"]       = df[\"OP_JTF2-BUCK\"] + df[\"OP_SAT-HIBANA\"] + df[\"OP_SAS-SLEDGE\"] + df[\"OP_SAS-THATCHER\"] + df[\"OP_SWAT-THERMITE\"]\n",
    "    df[\"ATT_INTEL_COUNT\"]          = df[\"OP_GIGN-MONTAGNE\"] + df[\"OP_GIGN-TWITCH\"] + df[\"OP_GSG9-IQ\"] + df[\"OP_G.E.O.-JACKAL\"]\n",
    "    df[\"ATT_GENERAL_COUNT\"]        = df[\"OP_SPETSNAZ-FUZE\"] + df[\"OP_NAVYSEAL-BLACKBEARD\"] + df[\"OP_SWAT-ASH\"] + df[\"OP_SPETSNAZ-GLAZ\"] + df[\"OP_GSG9-BLITZ\"] + df[\"OP_BOPE-CAPITAO\"]\n",
    "\n",
    "    df[\"DEF_ANCHOUR_COUNT\"]        = df[\"OP_GIGN-ROOK\"] + df[\"OP_G.E.O.-MIRA\"] + df[\"OP_SPETSNAZ-TACHANKA\"]\n",
    "    df[\"DEF_ENTRY_DENIAL_COUNT\"]   = df[\"OP_SWAT-CASTLE\"] + df[\"OP_SAS-MUTE\"] + df[\"OP_NAVYSEAL-VALKYRIE\"] + df[\"OP_GSG9-BANDIT\"] + df[\"OP_SAS-SMOKE\"] + df[\"OP_SAT-ECHO\"]\n",
    "    df[\"DEF_ROAMER_COUNT\"]         = df[\"OP_GSG9-JAGER\"] + df[\"OP_SWAT-PULSE\"] + df[\"OP_BOPE-CAVEIRA\"] + df[\"OP_GIGN-DOC\"]\n",
    "    df[\"DEF_TRAPPER_COUNT\"]        = df[\"OP_JTF2-FROST\"] + df[\"OP_SPETSNAZ-KAPKAN\"]\n",
    "\n",
    "    return df"
   ],
   "metadata": {
    "collapsed": false,
    "pycharm": {
     "name": "#%%\n"
    }
   }
  },
  {
   "cell_type": "code",
   "execution_count": 88,
   "outputs": [
    {
     "name": "stdout",
     "output_type": "stream",
     "text": [
      "329 ms ± 24.2 ms per loop (mean ± std. dev. of 7 runs, 1 loop each)\n"
     ]
    }
   ],
   "source": [
    "%%timeit\n",
    "df_test = df.head(100).apply(categorize_operators, axis=1)\n",
    "(df_test[\"ATT_BREACHER_COUNT\"] + df_test[\"ATT_INTEL_COUNT\"] + df_test[\"ATT_GENERAL_COUNT\"]+ df_test[\"DEF_ANCHOUR_COUNT\"] + df_test[\"DEF_ENTRY_DENIAL_COUNT\"]+ df_test[\"DEF_ROAMER_COUNT\"] + df_test[\"DEF_TRAPPER_COUNT\"]).value_counts()"
   ],
   "metadata": {
    "collapsed": false,
    "pycharm": {
     "name": "#%%\n"
    }
   }
  },
  {
   "cell_type": "code",
   "execution_count": 94,
   "outputs": [
    {
     "data": {
      "text/plain": "10    266341\n8          2\n9          1\n6          1\n7          1\ndtype: int64"
     },
     "execution_count": 94,
     "metadata": {},
     "output_type": "execute_result"
    }
   ],
   "source": [
    "df_test = categorize_operators_fast(df)\n",
    "(df_test[\"ATT_BREACHER_COUNT\"] + df_test[\"ATT_INTEL_COUNT\"] + df_test[\"ATT_GENERAL_COUNT\"]+ df_test[\"DEF_ANCHOUR_COUNT\"] + df_test[\"DEF_ENTRY_DENIAL_COUNT\"]+ df_test[\"DEF_ROAMER_COUNT\"] + df_test[\"DEF_TRAPPER_COUNT\"]).value_counts()"
   ],
   "metadata": {
    "collapsed": false,
    "pycharm": {
     "name": "#%%\n"
    }
   }
  },
  {
   "cell_type": "code",
   "execution_count": 97,
   "outputs": [
    {
     "data": {
      "text/plain": "          mapname   winrole  ATT_BREACHER_COUNT  ATT_INTEL_COUNT  \\\n0       COASTLINE  Attacker                   1                1   \n1       COASTLINE  Defender                   1                1   \n2       COASTLINE  Attacker                   3                1   \n3       COASTLINE  Defender                   1                2   \n5          BORDER  Attacker                   3                1   \n...           ...       ...                 ...              ...   \n292955      HOUSE  Defender                   1                1   \n292956      HOUSE  Attacker                   1                0   \n292957      HOUSE  Defender                   2                1   \n292958      HOUSE  Defender                   2                0   \n292959      HOUSE  Attacker                   2                1   \n\n        ATT_GENERAL_COUNT  DEF_ANCHOUR_COUNT  DEF_ENTRY_DENIAL_COUNT  \\\n0                       3                  1                       3   \n1                       3                  2                       3   \n2                       1                  0                       2   \n3                       2                  1                       3   \n5                       1                  1                       2   \n...                   ...                ...                     ...   \n292955                  3                  1                       1   \n292956                  4                  1                       2   \n292957                  2                  1                       2   \n292958                  3                  2                       1   \n292959                  2                  1                       1   \n\n        DEF_ROAMER_COUNT  DEF_TRAPPER_COUNT  \n0                      1                  0  \n1                      0                  0  \n2                      3                  0  \n3                      1                  0  \n5                      1                  1  \n...                  ...                ...  \n292955                 2                  1  \n292956                 1                  1  \n292957                 1                  1  \n292958                 1                  1  \n292959                 2                  1  \n\n[266346 rows x 9 columns]",
      "text/html": "<div>\n<style scoped>\n    .dataframe tbody tr th:only-of-type {\n        vertical-align: middle;\n    }\n\n    .dataframe tbody tr th {\n        vertical-align: top;\n    }\n\n    .dataframe thead th {\n        text-align: right;\n    }\n</style>\n<table border=\"1\" class=\"dataframe\">\n  <thead>\n    <tr style=\"text-align: right;\">\n      <th></th>\n      <th>mapname</th>\n      <th>winrole</th>\n      <th>ATT_BREACHER_COUNT</th>\n      <th>ATT_INTEL_COUNT</th>\n      <th>ATT_GENERAL_COUNT</th>\n      <th>DEF_ANCHOUR_COUNT</th>\n      <th>DEF_ENTRY_DENIAL_COUNT</th>\n      <th>DEF_ROAMER_COUNT</th>\n      <th>DEF_TRAPPER_COUNT</th>\n    </tr>\n  </thead>\n  <tbody>\n    <tr>\n      <th>0</th>\n      <td>COASTLINE</td>\n      <td>Attacker</td>\n      <td>1</td>\n      <td>1</td>\n      <td>3</td>\n      <td>1</td>\n      <td>3</td>\n      <td>1</td>\n      <td>0</td>\n    </tr>\n    <tr>\n      <th>1</th>\n      <td>COASTLINE</td>\n      <td>Defender</td>\n      <td>1</td>\n      <td>1</td>\n      <td>3</td>\n      <td>2</td>\n      <td>3</td>\n      <td>0</td>\n      <td>0</td>\n    </tr>\n    <tr>\n      <th>2</th>\n      <td>COASTLINE</td>\n      <td>Attacker</td>\n      <td>3</td>\n      <td>1</td>\n      <td>1</td>\n      <td>0</td>\n      <td>2</td>\n      <td>3</td>\n      <td>0</td>\n    </tr>\n    <tr>\n      <th>3</th>\n      <td>COASTLINE</td>\n      <td>Defender</td>\n      <td>1</td>\n      <td>2</td>\n      <td>2</td>\n      <td>1</td>\n      <td>3</td>\n      <td>1</td>\n      <td>0</td>\n    </tr>\n    <tr>\n      <th>5</th>\n      <td>BORDER</td>\n      <td>Attacker</td>\n      <td>3</td>\n      <td>1</td>\n      <td>1</td>\n      <td>1</td>\n      <td>2</td>\n      <td>1</td>\n      <td>1</td>\n    </tr>\n    <tr>\n      <th>...</th>\n      <td>...</td>\n      <td>...</td>\n      <td>...</td>\n      <td>...</td>\n      <td>...</td>\n      <td>...</td>\n      <td>...</td>\n      <td>...</td>\n      <td>...</td>\n    </tr>\n    <tr>\n      <th>292955</th>\n      <td>HOUSE</td>\n      <td>Defender</td>\n      <td>1</td>\n      <td>1</td>\n      <td>3</td>\n      <td>1</td>\n      <td>1</td>\n      <td>2</td>\n      <td>1</td>\n    </tr>\n    <tr>\n      <th>292956</th>\n      <td>HOUSE</td>\n      <td>Attacker</td>\n      <td>1</td>\n      <td>0</td>\n      <td>4</td>\n      <td>1</td>\n      <td>2</td>\n      <td>1</td>\n      <td>1</td>\n    </tr>\n    <tr>\n      <th>292957</th>\n      <td>HOUSE</td>\n      <td>Defender</td>\n      <td>2</td>\n      <td>1</td>\n      <td>2</td>\n      <td>1</td>\n      <td>2</td>\n      <td>1</td>\n      <td>1</td>\n    </tr>\n    <tr>\n      <th>292958</th>\n      <td>HOUSE</td>\n      <td>Defender</td>\n      <td>2</td>\n      <td>0</td>\n      <td>3</td>\n      <td>2</td>\n      <td>1</td>\n      <td>1</td>\n      <td>1</td>\n    </tr>\n    <tr>\n      <th>292959</th>\n      <td>HOUSE</td>\n      <td>Attacker</td>\n      <td>2</td>\n      <td>1</td>\n      <td>2</td>\n      <td>1</td>\n      <td>1</td>\n      <td>2</td>\n      <td>1</td>\n    </tr>\n  </tbody>\n</table>\n<p>266346 rows × 9 columns</p>\n</div>"
     },
     "execution_count": 97,
     "metadata": {},
     "output_type": "execute_result"
    }
   ],
   "source": [
    "df_reduced = df_test[[\"mapname\", \"winrole\", \"ATT_BREACHER_COUNT\", \"ATT_INTEL_COUNT\", \"ATT_GENERAL_COUNT\", \"DEF_ANCHOUR_COUNT\", \"DEF_ENTRY_DENIAL_COUNT\", \"DEF_ROAMER_COUNT\", \"DEF_TRAPPER_COUNT\"]]\n",
    "df_reduced"
   ],
   "metadata": {
    "collapsed": false,
    "pycharm": {
     "name": "#%%\n"
    }
   }
  },
  {
   "cell_type": "code",
   "execution_count": 102,
   "outputs": [
    {
     "name": "stdout",
     "output_type": "stream",
     "text": [
      "(266346, 8)\n",
      "(266346,)\n"
     ]
    }
   ],
   "source": [
    "features = df_reduced.drop(columns=[\"winrole\"]).to_numpy()\n",
    "labels = df_reduced[\"winrole\"]\n",
    "\n",
    "print(features.shape)\n",
    "print(labels.shape)"
   ],
   "metadata": {
    "collapsed": false,
    "pycharm": {
     "name": "#%%\n"
    }
   }
  },
  {
   "cell_type": "code",
   "execution_count": 103,
   "outputs": [
    {
     "data": {
      "text/plain": "array([[5, 1, 1, ..., 3, 1, 0],\n       [5, 1, 1, ..., 3, 0, 0],\n       [5, 3, 1, ..., 2, 3, 0],\n       ...,\n       [9, 2, 1, ..., 2, 1, 1],\n       [9, 2, 0, ..., 1, 1, 1],\n       [9, 2, 1, ..., 1, 2, 1]], dtype=object)"
     },
     "execution_count": 103,
     "metadata": {},
     "output_type": "execute_result"
    }
   ],
   "source": [
    "le = preprocessing.LabelEncoder()\n",
    "features[:, 0] = le.fit_transform(features[:, 0])\n",
    "features[:, 1] = le.fit_transform(features[:, 1])\n",
    "features"
   ],
   "metadata": {
    "collapsed": false,
    "pycharm": {
     "name": "#%%\n"
    }
   }
  },
  {
   "cell_type": "code",
   "execution_count": 104,
   "outputs": [
    {
     "data": {
      "text/plain": "array([0, 1, 0, ..., 1, 1, 0])"
     },
     "execution_count": 104,
     "metadata": {},
     "output_type": "execute_result"
    }
   ],
   "source": [
    "labels = le.fit_transform(labels)\n",
    "labels"
   ],
   "metadata": {
    "collapsed": false,
    "pycharm": {
     "name": "#%%\n"
    }
   }
  },
  {
   "cell_type": "code",
   "execution_count": 106,
   "outputs": [
    {
     "name": "stdout",
     "output_type": "stream",
     "text": [
      "(186442, 8)\n",
      "(79904, 8)\n",
      "(186442,)\n",
      "(79904,)\n",
      "Accuracy: 52.33 %\n"
     ]
    }
   ],
   "source": [
    "X_train, X_test, y_train, y_test = train_test_split(features, labels, test_size=.3, random_state=42)\n",
    "print(X_train.shape)\n",
    "print(X_test.shape)\n",
    "print(y_train.shape)\n",
    "print(y_test.shape)\n",
    "\n",
    "clf = MultinomialNB()\n",
    "clf.fit(X_train, y_train)\n",
    "\n",
    "print(\"Accuracy:\", round(100 * clf.score(X_train, y_train), 2), \"%\")"
   ],
   "metadata": {
    "collapsed": false,
    "pycharm": {
     "name": "#%%\n"
    }
   }
  }
 ],
 "metadata": {
  "kernelspec": {
   "display_name": "Python 3",
   "language": "python",
   "name": "python3"
  },
  "language_info": {
   "codemirror_mode": {
    "name": "ipython",
    "version": 2
   },
   "file_extension": ".py",
   "mimetype": "text/x-python",
   "name": "python",
   "nbconvert_exporter": "python",
   "pygments_lexer": "ipython2",
   "version": "2.7.6"
  }
 },
 "nbformat": 4,
 "nbformat_minor": 0
}